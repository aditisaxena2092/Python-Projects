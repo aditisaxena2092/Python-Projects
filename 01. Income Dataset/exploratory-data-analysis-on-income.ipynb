{
 "cells": [
  {
   "cell_type": "code",
   "execution_count": 3,
   "metadata": {
    "execution": {
     "iopub.execute_input": "2021-07-05T07:39:54.527694Z",
     "iopub.status.busy": "2021-07-05T07:39:54.527020Z",
     "iopub.status.idle": "2021-07-05T07:39:55.351441Z",
     "shell.execute_reply": "2021-07-05T07:39:55.350648Z",
     "shell.execute_reply.started": "2021-07-05T07:38:44.470531Z"
    },
    "papermill": {
     "duration": 0.872452,
     "end_time": "2021-07-05T07:39:55.351698",
     "exception": false,
     "start_time": "2021-07-05T07:39:54.479246",
     "status": "completed"
    },
    "tags": []
   },
   "outputs": [],
   "source": [
    "import pandas as pd\n",
    "import numpy as np\n",
    "\n",
    "import matplotlib.pyplot as plt\n",
    "%matplotlib inline\n",
    "import seaborn as sns"
   ]
  },
  {
   "cell_type": "code",
   "execution_count": 4,
   "metadata": {
    "execution": {
     "iopub.execute_input": "2021-07-05T07:39:55.472080Z",
     "iopub.status.busy": "2021-07-05T07:39:55.471137Z",
     "iopub.status.idle": "2021-07-05T07:39:55.689109Z",
     "shell.execute_reply": "2021-07-05T07:39:55.688487Z",
     "shell.execute_reply.started": "2021-07-05T07:38:44.483180Z"
    },
    "papermill": {
     "duration": 0.284489,
     "end_time": "2021-07-05T07:39:55.689235",
     "exception": false,
     "start_time": "2021-07-05T07:39:55.404746",
     "status": "completed"
    },
    "tags": []
   },
   "outputs": [
    {
     "data": {
      "text/html": [
       "<div>\n",
       "<style scoped>\n",
       "    .dataframe tbody tr th:only-of-type {\n",
       "        vertical-align: middle;\n",
       "    }\n",
       "\n",
       "    .dataframe tbody tr th {\n",
       "        vertical-align: top;\n",
       "    }\n",
       "\n",
       "    .dataframe thead th {\n",
       "        text-align: right;\n",
       "    }\n",
       "</style>\n",
       "<table border=\"1\" class=\"dataframe\">\n",
       "  <thead>\n",
       "    <tr style=\"text-align: right;\">\n",
       "      <th></th>\n",
       "      <th>age</th>\n",
       "      <th>workclass</th>\n",
       "      <th>fnlwgt</th>\n",
       "      <th>education</th>\n",
       "      <th>educational-num</th>\n",
       "      <th>marital-status</th>\n",
       "      <th>occupation</th>\n",
       "      <th>relationship</th>\n",
       "      <th>race</th>\n",
       "      <th>gender</th>\n",
       "      <th>capital-gain</th>\n",
       "      <th>capital-loss</th>\n",
       "      <th>hours-per-week</th>\n",
       "      <th>native-country</th>\n",
       "      <th>income</th>\n",
       "    </tr>\n",
       "  </thead>\n",
       "  <tbody>\n",
       "    <tr>\n",
       "      <th>0</th>\n",
       "      <td>25</td>\n",
       "      <td>Private</td>\n",
       "      <td>226802</td>\n",
       "      <td>11th</td>\n",
       "      <td>7</td>\n",
       "      <td>Never-married</td>\n",
       "      <td>Machine-op-inspct</td>\n",
       "      <td>Own-child</td>\n",
       "      <td>Black</td>\n",
       "      <td>Male</td>\n",
       "      <td>0</td>\n",
       "      <td>0</td>\n",
       "      <td>40</td>\n",
       "      <td>United-States</td>\n",
       "      <td>&lt;=50K</td>\n",
       "    </tr>\n",
       "    <tr>\n",
       "      <th>1</th>\n",
       "      <td>38</td>\n",
       "      <td>Private</td>\n",
       "      <td>89814</td>\n",
       "      <td>HS-grad</td>\n",
       "      <td>9</td>\n",
       "      <td>Married-civ-spouse</td>\n",
       "      <td>Farming-fishing</td>\n",
       "      <td>Husband</td>\n",
       "      <td>White</td>\n",
       "      <td>Male</td>\n",
       "      <td>0</td>\n",
       "      <td>0</td>\n",
       "      <td>50</td>\n",
       "      <td>United-States</td>\n",
       "      <td>&lt;=50K</td>\n",
       "    </tr>\n",
       "    <tr>\n",
       "      <th>2</th>\n",
       "      <td>28</td>\n",
       "      <td>Local-gov</td>\n",
       "      <td>336951</td>\n",
       "      <td>Assoc-acdm</td>\n",
       "      <td>12</td>\n",
       "      <td>Married-civ-spouse</td>\n",
       "      <td>Protective-serv</td>\n",
       "      <td>Husband</td>\n",
       "      <td>White</td>\n",
       "      <td>Male</td>\n",
       "      <td>0</td>\n",
       "      <td>0</td>\n",
       "      <td>40</td>\n",
       "      <td>United-States</td>\n",
       "      <td>&gt;50K</td>\n",
       "    </tr>\n",
       "    <tr>\n",
       "      <th>3</th>\n",
       "      <td>44</td>\n",
       "      <td>Private</td>\n",
       "      <td>160323</td>\n",
       "      <td>Some-college</td>\n",
       "      <td>10</td>\n",
       "      <td>Married-civ-spouse</td>\n",
       "      <td>Machine-op-inspct</td>\n",
       "      <td>Husband</td>\n",
       "      <td>Black</td>\n",
       "      <td>Male</td>\n",
       "      <td>7688</td>\n",
       "      <td>0</td>\n",
       "      <td>40</td>\n",
       "      <td>United-States</td>\n",
       "      <td>&gt;50K</td>\n",
       "    </tr>\n",
       "    <tr>\n",
       "      <th>4</th>\n",
       "      <td>18</td>\n",
       "      <td>?</td>\n",
       "      <td>103497</td>\n",
       "      <td>Some-college</td>\n",
       "      <td>10</td>\n",
       "      <td>Never-married</td>\n",
       "      <td>?</td>\n",
       "      <td>Own-child</td>\n",
       "      <td>White</td>\n",
       "      <td>Female</td>\n",
       "      <td>0</td>\n",
       "      <td>0</td>\n",
       "      <td>30</td>\n",
       "      <td>United-States</td>\n",
       "      <td>&lt;=50K</td>\n",
       "    </tr>\n",
       "  </tbody>\n",
       "</table>\n",
       "</div>"
      ],
      "text/plain": [
       "   age  workclass  fnlwgt     education  educational-num      marital-status  \\\n",
       "0   25    Private  226802          11th                7       Never-married   \n",
       "1   38    Private   89814       HS-grad                9  Married-civ-spouse   \n",
       "2   28  Local-gov  336951    Assoc-acdm               12  Married-civ-spouse   \n",
       "3   44    Private  160323  Some-college               10  Married-civ-spouse   \n",
       "4   18          ?  103497  Some-college               10       Never-married   \n",
       "\n",
       "          occupation relationship   race  gender  capital-gain  capital-loss  \\\n",
       "0  Machine-op-inspct    Own-child  Black    Male             0             0   \n",
       "1    Farming-fishing      Husband  White    Male             0             0   \n",
       "2    Protective-serv      Husband  White    Male             0             0   \n",
       "3  Machine-op-inspct      Husband  Black    Male          7688             0   \n",
       "4                  ?    Own-child  White  Female             0             0   \n",
       "\n",
       "   hours-per-week native-country income  \n",
       "0              40  United-States  <=50K  \n",
       "1              50  United-States  <=50K  \n",
       "2              40  United-States   >50K  \n",
       "3              40  United-States   >50K  \n",
       "4              30  United-States  <=50K  "
      ]
     },
     "execution_count": 4,
     "metadata": {},
     "output_type": "execute_result"
    }
   ],
   "source": [
    "df=pd.read_csv('adult_income.csv')\n",
    "df.head()"
   ]
  },
  {
   "cell_type": "code",
   "execution_count": 5,
   "metadata": {
    "execution": {
     "iopub.execute_input": "2021-07-05T07:39:55.784192Z",
     "iopub.status.busy": "2021-07-05T07:39:55.783321Z",
     "iopub.status.idle": "2021-07-05T07:39:55.788711Z",
     "shell.execute_reply": "2021-07-05T07:39:55.788207Z",
     "shell.execute_reply.started": "2021-07-05T07:38:44.637986Z"
    },
    "papermill": {
     "duration": 0.054601,
     "end_time": "2021-07-05T07:39:55.788845",
     "exception": false,
     "start_time": "2021-07-05T07:39:55.734244",
     "status": "completed"
    },
    "tags": []
   },
   "outputs": [
    {
     "data": {
      "text/plain": [
       "(48842, 15)"
      ]
     },
     "execution_count": 5,
     "metadata": {},
     "output_type": "execute_result"
    }
   ],
   "source": [
    "df.shape"
   ]
  },
  {
   "cell_type": "code",
   "execution_count": 6,
   "metadata": {
    "execution": {
     "iopub.execute_input": "2021-07-05T07:39:55.886731Z",
     "iopub.status.busy": "2021-07-05T07:39:55.885849Z",
     "iopub.status.idle": "2021-07-05T07:39:55.947055Z",
     "shell.execute_reply": "2021-07-05T07:39:55.947819Z",
     "shell.execute_reply.started": "2021-07-05T07:38:44.644415Z"
    },
    "papermill": {
     "duration": 0.112533,
     "end_time": "2021-07-05T07:39:55.948051",
     "exception": false,
     "start_time": "2021-07-05T07:39:55.835518",
     "status": "completed"
    },
    "tags": []
   },
   "outputs": [
    {
     "name": "stdout",
     "output_type": "stream",
     "text": [
      "<class 'pandas.core.frame.DataFrame'>\n",
      "RangeIndex: 48842 entries, 0 to 48841\n",
      "Data columns (total 15 columns):\n",
      " #   Column           Non-Null Count  Dtype \n",
      "---  ------           --------------  ----- \n",
      " 0   age              48842 non-null  int64 \n",
      " 1   workclass        48842 non-null  object\n",
      " 2   fnlwgt           48842 non-null  int64 \n",
      " 3   education        48842 non-null  object\n",
      " 4   educational-num  48842 non-null  int64 \n",
      " 5   marital-status   48842 non-null  object\n",
      " 6   occupation       48842 non-null  object\n",
      " 7   relationship     48842 non-null  object\n",
      " 8   race             48842 non-null  object\n",
      " 9   gender           48842 non-null  object\n",
      " 10  capital-gain     48842 non-null  int64 \n",
      " 11  capital-loss     48842 non-null  int64 \n",
      " 12  hours-per-week   48842 non-null  int64 \n",
      " 13  native-country   48842 non-null  object\n",
      " 14  income           48842 non-null  object\n",
      "dtypes: int64(6), object(9)\n",
      "memory usage: 5.6+ MB\n"
     ]
    }
   ],
   "source": [
    "df.info()"
   ]
  },
  {
   "cell_type": "markdown",
   "metadata": {
    "papermill": {
     "duration": 0.045349,
     "end_time": "2021-07-05T07:39:56.039790",
     "exception": false,
     "start_time": "2021-07-05T07:39:55.994441",
     "status": "completed"
    },
    "tags": []
   },
   "source": [
    "#Random samples from orginial data set"
   ]
  },
  {
   "cell_type": "code",
   "execution_count": 7,
   "metadata": {
    "execution": {
     "iopub.execute_input": "2021-07-05T07:39:56.134941Z",
     "iopub.status.busy": "2021-07-05T07:39:56.134308Z",
     "iopub.status.idle": "2021-07-05T07:39:56.168928Z",
     "shell.execute_reply": "2021-07-05T07:39:56.169441Z",
     "shell.execute_reply.started": "2021-07-05T07:38:44.689519Z"
    },
    "papermill": {
     "duration": 0.083702,
     "end_time": "2021-07-05T07:39:56.169623",
     "exception": false,
     "start_time": "2021-07-05T07:39:56.085921",
     "status": "completed"
    },
    "tags": []
   },
   "outputs": [
    {
     "data": {
      "text/html": [
       "<div>\n",
       "<style scoped>\n",
       "    .dataframe tbody tr th:only-of-type {\n",
       "        vertical-align: middle;\n",
       "    }\n",
       "\n",
       "    .dataframe tbody tr th {\n",
       "        vertical-align: top;\n",
       "    }\n",
       "\n",
       "    .dataframe thead th {\n",
       "        text-align: right;\n",
       "    }\n",
       "</style>\n",
       "<table border=\"1\" class=\"dataframe\">\n",
       "  <thead>\n",
       "    <tr style=\"text-align: right;\">\n",
       "      <th></th>\n",
       "      <th>age</th>\n",
       "      <th>workclass</th>\n",
       "      <th>fnlwgt</th>\n",
       "      <th>education</th>\n",
       "      <th>educational-num</th>\n",
       "      <th>marital-status</th>\n",
       "      <th>occupation</th>\n",
       "      <th>relationship</th>\n",
       "      <th>race</th>\n",
       "      <th>gender</th>\n",
       "      <th>capital-gain</th>\n",
       "      <th>capital-loss</th>\n",
       "      <th>hours-per-week</th>\n",
       "      <th>native-country</th>\n",
       "      <th>income</th>\n",
       "    </tr>\n",
       "  </thead>\n",
       "  <tbody>\n",
       "    <tr>\n",
       "      <th>48416</th>\n",
       "      <td>48</td>\n",
       "      <td>Private</td>\n",
       "      <td>175070</td>\n",
       "      <td>HS-grad</td>\n",
       "      <td>9</td>\n",
       "      <td>Divorced</td>\n",
       "      <td>Exec-managerial</td>\n",
       "      <td>Not-in-family</td>\n",
       "      <td>White</td>\n",
       "      <td>Female</td>\n",
       "      <td>0</td>\n",
       "      <td>2258</td>\n",
       "      <td>40</td>\n",
       "      <td>United-States</td>\n",
       "      <td>&gt;50K</td>\n",
       "    </tr>\n",
       "    <tr>\n",
       "      <th>34578</th>\n",
       "      <td>43</td>\n",
       "      <td>Private</td>\n",
       "      <td>186144</td>\n",
       "      <td>HS-grad</td>\n",
       "      <td>9</td>\n",
       "      <td>Married-civ-spouse</td>\n",
       "      <td>Craft-repair</td>\n",
       "      <td>Husband</td>\n",
       "      <td>White</td>\n",
       "      <td>Male</td>\n",
       "      <td>0</td>\n",
       "      <td>0</td>\n",
       "      <td>40</td>\n",
       "      <td>United-States</td>\n",
       "      <td>&gt;50K</td>\n",
       "    </tr>\n",
       "    <tr>\n",
       "      <th>8401</th>\n",
       "      <td>22</td>\n",
       "      <td>Private</td>\n",
       "      <td>190457</td>\n",
       "      <td>10th</td>\n",
       "      <td>6</td>\n",
       "      <td>Never-married</td>\n",
       "      <td>Other-service</td>\n",
       "      <td>Not-in-family</td>\n",
       "      <td>White</td>\n",
       "      <td>Female</td>\n",
       "      <td>0</td>\n",
       "      <td>0</td>\n",
       "      <td>35</td>\n",
       "      <td>United-States</td>\n",
       "      <td>&lt;=50K</td>\n",
       "    </tr>\n",
       "    <tr>\n",
       "      <th>20244</th>\n",
       "      <td>83</td>\n",
       "      <td>?</td>\n",
       "      <td>251951</td>\n",
       "      <td>HS-grad</td>\n",
       "      <td>9</td>\n",
       "      <td>Widowed</td>\n",
       "      <td>?</td>\n",
       "      <td>Not-in-family</td>\n",
       "      <td>White</td>\n",
       "      <td>Female</td>\n",
       "      <td>0</td>\n",
       "      <td>0</td>\n",
       "      <td>20</td>\n",
       "      <td>United-States</td>\n",
       "      <td>&lt;=50K</td>\n",
       "    </tr>\n",
       "    <tr>\n",
       "      <th>24362</th>\n",
       "      <td>30</td>\n",
       "      <td>Private</td>\n",
       "      <td>171876</td>\n",
       "      <td>Prof-school</td>\n",
       "      <td>15</td>\n",
       "      <td>Never-married</td>\n",
       "      <td>Prof-specialty</td>\n",
       "      <td>Not-in-family</td>\n",
       "      <td>White</td>\n",
       "      <td>Female</td>\n",
       "      <td>0</td>\n",
       "      <td>0</td>\n",
       "      <td>45</td>\n",
       "      <td>United-States</td>\n",
       "      <td>&lt;=50K</td>\n",
       "    </tr>\n",
       "    <tr>\n",
       "      <th>...</th>\n",
       "      <td>...</td>\n",
       "      <td>...</td>\n",
       "      <td>...</td>\n",
       "      <td>...</td>\n",
       "      <td>...</td>\n",
       "      <td>...</td>\n",
       "      <td>...</td>\n",
       "      <td>...</td>\n",
       "      <td>...</td>\n",
       "      <td>...</td>\n",
       "      <td>...</td>\n",
       "      <td>...</td>\n",
       "      <td>...</td>\n",
       "      <td>...</td>\n",
       "      <td>...</td>\n",
       "    </tr>\n",
       "    <tr>\n",
       "      <th>30326</th>\n",
       "      <td>51</td>\n",
       "      <td>Local-gov</td>\n",
       "      <td>170579</td>\n",
       "      <td>HS-grad</td>\n",
       "      <td>9</td>\n",
       "      <td>Married-civ-spouse</td>\n",
       "      <td>Transport-moving</td>\n",
       "      <td>Husband</td>\n",
       "      <td>White</td>\n",
       "      <td>Male</td>\n",
       "      <td>0</td>\n",
       "      <td>0</td>\n",
       "      <td>40</td>\n",
       "      <td>United-States</td>\n",
       "      <td>&gt;50K</td>\n",
       "    </tr>\n",
       "    <tr>\n",
       "      <th>46939</th>\n",
       "      <td>42</td>\n",
       "      <td>Private</td>\n",
       "      <td>79036</td>\n",
       "      <td>HS-grad</td>\n",
       "      <td>9</td>\n",
       "      <td>Divorced</td>\n",
       "      <td>Handlers-cleaners</td>\n",
       "      <td>Unmarried</td>\n",
       "      <td>White</td>\n",
       "      <td>Male</td>\n",
       "      <td>0</td>\n",
       "      <td>0</td>\n",
       "      <td>40</td>\n",
       "      <td>United-States</td>\n",
       "      <td>&lt;=50K</td>\n",
       "    </tr>\n",
       "    <tr>\n",
       "      <th>31684</th>\n",
       "      <td>23</td>\n",
       "      <td>Private</td>\n",
       "      <td>215624</td>\n",
       "      <td>Some-college</td>\n",
       "      <td>10</td>\n",
       "      <td>Never-married</td>\n",
       "      <td>Machine-op-inspct</td>\n",
       "      <td>Unmarried</td>\n",
       "      <td>Asian-Pac-Islander</td>\n",
       "      <td>Male</td>\n",
       "      <td>0</td>\n",
       "      <td>0</td>\n",
       "      <td>40</td>\n",
       "      <td>Vietnam</td>\n",
       "      <td>&lt;=50K</td>\n",
       "    </tr>\n",
       "    <tr>\n",
       "      <th>24339</th>\n",
       "      <td>50</td>\n",
       "      <td>Federal-gov</td>\n",
       "      <td>166419</td>\n",
       "      <td>11th</td>\n",
       "      <td>7</td>\n",
       "      <td>Never-married</td>\n",
       "      <td>Sales</td>\n",
       "      <td>Not-in-family</td>\n",
       "      <td>Black</td>\n",
       "      <td>Female</td>\n",
       "      <td>3674</td>\n",
       "      <td>0</td>\n",
       "      <td>40</td>\n",
       "      <td>United-States</td>\n",
       "      <td>&lt;=50K</td>\n",
       "    </tr>\n",
       "    <tr>\n",
       "      <th>18363</th>\n",
       "      <td>40</td>\n",
       "      <td>Private</td>\n",
       "      <td>297396</td>\n",
       "      <td>Some-college</td>\n",
       "      <td>10</td>\n",
       "      <td>Separated</td>\n",
       "      <td>Exec-managerial</td>\n",
       "      <td>Unmarried</td>\n",
       "      <td>White</td>\n",
       "      <td>Female</td>\n",
       "      <td>0</td>\n",
       "      <td>0</td>\n",
       "      <td>60</td>\n",
       "      <td>United-States</td>\n",
       "      <td>&lt;=50K</td>\n",
       "    </tr>\n",
       "  </tbody>\n",
       "</table>\n",
       "<p>24421 rows × 15 columns</p>\n",
       "</div>"
      ],
      "text/plain": [
       "       age    workclass  fnlwgt     education  educational-num  \\\n",
       "48416   48      Private  175070       HS-grad                9   \n",
       "34578   43      Private  186144       HS-grad                9   \n",
       "8401    22      Private  190457          10th                6   \n",
       "20244   83            ?  251951       HS-grad                9   \n",
       "24362   30      Private  171876   Prof-school               15   \n",
       "...    ...          ...     ...           ...              ...   \n",
       "30326   51    Local-gov  170579       HS-grad                9   \n",
       "46939   42      Private   79036       HS-grad                9   \n",
       "31684   23      Private  215624  Some-college               10   \n",
       "24339   50  Federal-gov  166419          11th                7   \n",
       "18363   40      Private  297396  Some-college               10   \n",
       "\n",
       "           marital-status         occupation   relationship  \\\n",
       "48416            Divorced    Exec-managerial  Not-in-family   \n",
       "34578  Married-civ-spouse       Craft-repair        Husband   \n",
       "8401        Never-married      Other-service  Not-in-family   \n",
       "20244             Widowed                  ?  Not-in-family   \n",
       "24362       Never-married     Prof-specialty  Not-in-family   \n",
       "...                   ...                ...            ...   \n",
       "30326  Married-civ-spouse   Transport-moving        Husband   \n",
       "46939            Divorced  Handlers-cleaners      Unmarried   \n",
       "31684       Never-married  Machine-op-inspct      Unmarried   \n",
       "24339       Never-married              Sales  Not-in-family   \n",
       "18363           Separated    Exec-managerial      Unmarried   \n",
       "\n",
       "                     race  gender  capital-gain  capital-loss  hours-per-week  \\\n",
       "48416               White  Female             0          2258              40   \n",
       "34578               White    Male             0             0              40   \n",
       "8401                White  Female             0             0              35   \n",
       "20244               White  Female             0             0              20   \n",
       "24362               White  Female             0             0              45   \n",
       "...                   ...     ...           ...           ...             ...   \n",
       "30326               White    Male             0             0              40   \n",
       "46939               White    Male             0             0              40   \n",
       "31684  Asian-Pac-Islander    Male             0             0              40   \n",
       "24339               Black  Female          3674             0              40   \n",
       "18363               White  Female             0             0              60   \n",
       "\n",
       "      native-country income  \n",
       "48416  United-States   >50K  \n",
       "34578  United-States   >50K  \n",
       "8401   United-States  <=50K  \n",
       "20244  United-States  <=50K  \n",
       "24362  United-States  <=50K  \n",
       "...              ...    ...  \n",
       "30326  United-States   >50K  \n",
       "46939  United-States  <=50K  \n",
       "31684        Vietnam  <=50K  \n",
       "24339  United-States  <=50K  \n",
       "18363  United-States  <=50K  \n",
       "\n",
       "[24421 rows x 15 columns]"
      ]
     },
     "execution_count": 7,
     "metadata": {},
     "output_type": "execute_result"
    }
   ],
   "source": [
    "df.sample(frac=0.5)"
   ]
  },
  {
   "cell_type": "markdown",
   "metadata": {
    "papermill": {
     "duration": 0.046776,
     "end_time": "2021-07-05T07:39:56.263507",
     "exception": false,
     "start_time": "2021-07-05T07:39:56.216731",
     "status": "completed"
    },
    "tags": []
   },
   "source": [
    "#Null Values"
   ]
  },
  {
   "cell_type": "code",
   "execution_count": 8,
   "metadata": {
    "execution": {
     "iopub.execute_input": "2021-07-05T07:39:56.359666Z",
     "iopub.status.busy": "2021-07-05T07:39:56.359023Z",
     "iopub.status.idle": "2021-07-05T07:39:56.409589Z",
     "shell.execute_reply": "2021-07-05T07:39:56.410110Z",
     "shell.execute_reply.started": "2021-07-05T07:38:44.724327Z"
    },
    "papermill": {
     "duration": 0.100229,
     "end_time": "2021-07-05T07:39:56.410271",
     "exception": false,
     "start_time": "2021-07-05T07:39:56.310042",
     "status": "completed"
    },
    "tags": []
   },
   "outputs": [
    {
     "data": {
      "text/plain": [
       "age                0\n",
       "workclass          0\n",
       "fnlwgt             0\n",
       "education          0\n",
       "educational-num    0\n",
       "marital-status     0\n",
       "occupation         0\n",
       "relationship       0\n",
       "race               0\n",
       "gender             0\n",
       "capital-gain       0\n",
       "capital-loss       0\n",
       "hours-per-week     0\n",
       "native-country     0\n",
       "income             0\n",
       "dtype: int64"
      ]
     },
     "execution_count": 8,
     "metadata": {},
     "output_type": "execute_result"
    }
   ],
   "source": [
    "df.isnull().sum()"
   ]
  },
  {
   "cell_type": "markdown",
   "metadata": {
    "papermill": {
     "duration": 0.04621,
     "end_time": "2021-07-05T07:39:56.503044",
     "exception": false,
     "start_time": "2021-07-05T07:39:56.456834",
     "status": "completed"
    },
    "tags": []
   },
   "source": [
    "#Create HeatMap"
   ]
  },
  {
   "cell_type": "code",
   "execution_count": 9,
   "metadata": {
    "execution": {
     "iopub.execute_input": "2021-07-05T07:39:56.599301Z",
     "iopub.status.busy": "2021-07-05T07:39:56.598649Z",
     "iopub.status.idle": "2021-07-05T07:39:57.707193Z",
     "shell.execute_reply": "2021-07-05T07:39:57.706598Z",
     "shell.execute_reply.started": "2021-07-05T07:38:44.751470Z"
    },
    "papermill": {
     "duration": 1.157665,
     "end_time": "2021-07-05T07:39:57.707332",
     "exception": false,
     "start_time": "2021-07-05T07:39:56.549667",
     "status": "completed"
    },
    "tags": []
   },
   "outputs": [
    {
     "data": {
      "text/plain": [
       "<AxesSubplot:>"
      ]
     },
     "execution_count": 9,
     "metadata": {},
     "output_type": "execute_result"
    },
    {
     "data": {
      "image/png": "[encoded data removed]",
      "text/plain": [
       "<Figure size 432x288 with 2 Axes>"
      ]
     },
     "metadata": {
      "needs_background": "light"
     },
     "output_type": "display_data"
    }
   ],
   "source": [
    "sns.heatmap(df.isnull())"
   ]
  },
  {
   "cell_type": "markdown",
   "metadata": {
    "papermill": {
     "duration": 0.047362,
     "end_time": "2021-07-05T07:39:57.803146",
     "exception": false,
     "start_time": "2021-07-05T07:39:57.755784",
     "status": "completed"
    },
    "tags": []
   },
   "source": [
    "#Check for '?' and replace with Nan"
   ]
  },
  {
   "cell_type": "code",
   "execution_count": 10,
   "metadata": {
    "execution": {
     "iopub.execute_input": "2021-07-05T07:39:57.906788Z",
     "iopub.status.busy": "2021-07-05T07:39:57.905705Z",
     "iopub.status.idle": "2021-07-05T07:39:57.954621Z",
     "shell.execute_reply": "2021-07-05T07:39:57.953851Z",
     "shell.execute_reply.started": "2021-07-05T07:38:45.764593Z"
    },
    "papermill": {
     "duration": 0.10193,
     "end_time": "2021-07-05T07:39:57.954846",
     "exception": false,
     "start_time": "2021-07-05T07:39:57.852916",
     "status": "completed"
    },
    "tags": []
   },
   "outputs": [
    {
     "data": {
      "text/plain": [
       "age                   0\n",
       "workclass          2799\n",
       "fnlwgt                0\n",
       "education             0\n",
       "educational-num       0\n",
       "marital-status        0\n",
       "occupation         2809\n",
       "relationship          0\n",
       "race                  0\n",
       "gender                0\n",
       "capital-gain          0\n",
       "capital-loss          0\n",
       "hours-per-week        0\n",
       "native-country      857\n",
       "income                0\n",
       "dtype: int64"
      ]
     },
     "execution_count": 10,
     "metadata": {},
     "output_type": "execute_result"
    }
   ],
   "source": [
    "df.isin(['?']).sum()"
   ]
  },
  {
   "cell_type": "code",
   "execution_count": 11,
   "metadata": {
    "execution": {
     "iopub.execute_input": "2021-07-05T07:39:58.057081Z",
     "iopub.status.busy": "2021-07-05T07:39:58.056212Z",
     "iopub.status.idle": "2021-07-05T07:39:58.059797Z",
     "shell.execute_reply": "2021-07-05T07:39:58.060241Z",
     "shell.execute_reply.started": "2021-07-05T07:38:45.810588Z"
    },
    "papermill": {
     "duration": 0.057341,
     "end_time": "2021-07-05T07:39:58.060404",
     "exception": false,
     "start_time": "2021-07-05T07:39:58.003063",
     "status": "completed"
    },
    "tags": []
   },
   "outputs": [
    {
     "data": {
      "text/plain": [
       "Index(['age', 'workclass', 'fnlwgt', 'education', 'educational-num',\n",
       "       'marital-status', 'occupation', 'relationship', 'race', 'gender',\n",
       "       'capital-gain', 'capital-loss', 'hours-per-week', 'native-country',\n",
       "       'income'],\n",
       "      dtype='object')"
      ]
     },
     "execution_count": 11,
     "metadata": {},
     "output_type": "execute_result"
    }
   ],
   "source": [
    "df.columns"
   ]
  },
  {
   "cell_type": "code",
   "execution_count": 12,
   "metadata": {
    "execution": {
     "iopub.execute_input": "2021-07-05T07:39:58.170775Z",
     "iopub.status.busy": "2021-07-05T07:39:58.167651Z",
     "iopub.status.idle": "2021-07-05T07:39:58.178795Z",
     "shell.execute_reply": "2021-07-05T07:39:58.178155Z",
     "shell.execute_reply.started": "2021-07-05T07:38:45.819681Z"
    },
    "papermill": {
     "duration": 0.068964,
     "end_time": "2021-07-05T07:39:58.178971",
     "exception": false,
     "start_time": "2021-07-05T07:39:58.110007",
     "status": "completed"
    },
    "tags": []
   },
   "outputs": [],
   "source": [
    "df['workclass']=df['workclass'].replace('?',np.nan)\n",
    "df['occupation']=df['occupation'].replace('?',np.nan)\n",
    "df['native-country']=df['native-country'].replace('?',np.nan)"
   ]
  },
  {
   "cell_type": "code",
   "execution_count": 13,
   "metadata": {
    "execution": {
     "iopub.execute_input": "2021-07-05T07:39:58.283146Z",
     "iopub.status.busy": "2021-07-05T07:39:58.281920Z",
     "iopub.status.idle": "2021-07-05T07:39:58.331448Z",
     "shell.execute_reply": "2021-07-05T07:39:58.331922Z",
     "shell.execute_reply.started": "2021-07-05T07:38:45.838210Z"
    },
    "papermill": {
     "duration": 0.104385,
     "end_time": "2021-07-05T07:39:58.332107",
     "exception": false,
     "start_time": "2021-07-05T07:39:58.227722",
     "status": "completed"
    },
    "tags": []
   },
   "outputs": [
    {
     "data": {
      "text/plain": [
       "age                0\n",
       "workclass          0\n",
       "fnlwgt             0\n",
       "education          0\n",
       "educational-num    0\n",
       "marital-status     0\n",
       "occupation         0\n",
       "relationship       0\n",
       "race               0\n",
       "gender             0\n",
       "capital-gain       0\n",
       "capital-loss       0\n",
       "hours-per-week     0\n",
       "native-country     0\n",
       "income             0\n",
       "dtype: int64"
      ]
     },
     "execution_count": 13,
     "metadata": {},
     "output_type": "execute_result"
    }
   ],
   "source": [
    "df.isin(['?']).sum()"
   ]
  },
  {
   "cell_type": "code",
   "execution_count": 14,
   "metadata": {
    "execution": {
     "iopub.execute_input": "2021-07-05T07:39:58.477314Z",
     "iopub.status.busy": "2021-07-05T07:39:58.476672Z",
     "iopub.status.idle": "2021-07-05T07:39:58.484605Z",
     "shell.execute_reply": "2021-07-05T07:39:58.484074Z",
     "shell.execute_reply.started": "2021-07-05T07:38:45.884786Z"
    },
    "papermill": {
     "duration": 0.103353,
     "end_time": "2021-07-05T07:39:58.484745",
     "exception": false,
     "start_time": "2021-07-05T07:39:58.381392",
     "status": "completed"
    },
    "tags": []
   },
   "outputs": [
    {
     "data": {
      "text/plain": [
       "age                   0\n",
       "workclass          2799\n",
       "fnlwgt                0\n",
       "education             0\n",
       "educational-num       0\n",
       "marital-status        0\n",
       "occupation         2809\n",
       "relationship          0\n",
       "race                  0\n",
       "gender                0\n",
       "capital-gain          0\n",
       "capital-loss          0\n",
       "hours-per-week        0\n",
       "native-country      857\n",
       "income                0\n",
       "dtype: int64"
      ]
     },
     "execution_count": 14,
     "metadata": {},
     "output_type": "execute_result"
    }
   ],
   "source": [
    "df.isnull().sum()"
   ]
  },
  {
   "cell_type": "code",
   "execution_count": 15,
   "metadata": {
    "execution": {
     "iopub.execute_input": "2021-07-05T07:39:58.630105Z",
     "iopub.status.busy": "2021-07-05T07:39:58.629400Z",
     "iopub.status.idle": "2021-07-05T07:39:59.630499Z",
     "shell.execute_reply": "2021-07-05T07:39:59.629880Z",
     "shell.execute_reply.started": "2021-07-05T07:38:45.913131Z"
    },
    "papermill": {
     "duration": 1.096688,
     "end_time": "2021-07-05T07:39:59.630650",
     "exception": false,
     "start_time": "2021-07-05T07:39:58.533962",
     "status": "completed"
    },
    "tags": []
   },
   "outputs": [
    {
     "data": {
      "text/plain": [
       "<AxesSubplot:>"
      ]
     },
     "execution_count": 15,
     "metadata": {},
     "output_type": "execute_result"
    },
    {
     "data": {
      "image/png": "[encoded data removed]",
      "text/plain": [
       "<Figure size 432x288 with 2 Axes>"
      ]
     },
     "metadata": {
      "needs_background": "light"
     },
     "output_type": "display_data"
    }
   ],
   "source": [
    "sns.heatmap(df.isnull())"
   ]
  },
  {
   "cell_type": "code",
   "execution_count": 16,
   "metadata": {
    "execution": {
     "iopub.execute_input": "2021-07-05T07:39:59.783830Z",
     "iopub.status.busy": "2021-07-05T07:39:59.782904Z",
     "iopub.status.idle": "2021-07-05T07:39:59.807274Z",
     "shell.execute_reply": "2021-07-05T07:39:59.806254Z",
     "shell.execute_reply.started": "2021-07-05T07:38:46.937464Z"
    },
    "papermill": {
     "duration": 0.125667,
     "end_time": "2021-07-05T07:39:59.807504",
     "exception": false,
     "start_time": "2021-07-05T07:39:59.681837",
     "status": "completed"
    },
    "tags": []
   },
   "outputs": [
    {
     "name": "stdout",
     "output_type": "stream",
     "text": [
      "% of missing values: age                0.000000\n",
      "workclass          5.730724\n",
      "fnlwgt             0.000000\n",
      "education          0.000000\n",
      "educational-num    0.000000\n",
      "marital-status     0.000000\n",
      "occupation         5.751198\n",
      "relationship       0.000000\n",
      "race               0.000000\n",
      "gender             0.000000\n",
      "capital-gain       0.000000\n",
      "capital-loss       0.000000\n",
      "hours-per-week     0.000000\n",
      "native-country     1.754637\n",
      "income             0.000000\n",
      "dtype: float64\n"
     ]
    }
   ],
   "source": [
    "print('% of missing values:', (df.isnull().sum()*100/len(df)))"
   ]
  },
  {
   "cell_type": "code",
   "execution_count": 17,
   "metadata": {
    "execution": {
     "iopub.execute_input": "2021-07-05T07:39:59.973336Z",
     "iopub.status.busy": "2021-07-05T07:39:59.972346Z",
     "iopub.status.idle": "2021-07-05T07:39:59.986015Z",
     "shell.execute_reply": "2021-07-05T07:39:59.986511Z",
     "shell.execute_reply.started": "2021-07-05T07:38:46.966052Z"
    },
    "papermill": {
     "duration": 0.121918,
     "end_time": "2021-07-05T07:39:59.986791",
     "exception": false,
     "start_time": "2021-07-05T07:39:59.864873",
     "status": "completed"
    },
    "tags": []
   },
   "outputs": [],
   "source": [
    "df.dropna(how='any',inplace=True)"
   ]
  },
  {
   "cell_type": "code",
   "execution_count": 18,
   "metadata": {
    "execution": {
     "iopub.execute_input": "2021-07-05T07:40:00.124513Z",
     "iopub.status.busy": "2021-07-05T07:40:00.123907Z",
     "iopub.status.idle": "2021-07-05T07:40:00.127124Z",
     "shell.execute_reply": "2021-07-05T07:40:00.127740Z",
     "shell.execute_reply.started": "2021-07-05T07:38:47.001255Z"
    },
    "papermill": {
     "duration": 0.071713,
     "end_time": "2021-07-05T07:40:00.127906",
     "exception": false,
     "start_time": "2021-07-05T07:40:00.056193",
     "status": "completed"
    },
    "tags": []
   },
   "outputs": [
    {
     "data": {
      "text/plain": [
       "(45222, 15)"
      ]
     },
     "execution_count": 18,
     "metadata": {},
     "output_type": "execute_result"
    }
   ],
   "source": [
    "df.shape"
   ]
  },
  {
   "cell_type": "markdown",
   "metadata": {
    "papermill": {
     "duration": 0.051882,
     "end_time": "2021-07-05T07:40:00.232470",
     "exception": false,
     "start_time": "2021-07-05T07:40:00.180588",
     "status": "completed"
    },
    "tags": []
   },
   "source": [
    "#Check for Duplicate Data"
   ]
  },
  {
   "cell_type": "code",
   "execution_count": 19,
   "metadata": {
    "execution": {
     "iopub.execute_input": "2021-07-05T07:40:00.341136Z",
     "iopub.status.busy": "2021-07-05T07:40:00.340497Z",
     "iopub.status.idle": "2021-07-05T07:40:00.403439Z",
     "shell.execute_reply": "2021-07-05T07:40:00.402255Z",
     "shell.execute_reply.started": "2021-07-05T07:38:47.010498Z"
    },
    "papermill": {
     "duration": 0.118104,
     "end_time": "2021-07-05T07:40:00.403603",
     "exception": false,
     "start_time": "2021-07-05T07:40:00.285499",
     "status": "completed"
    },
    "tags": []
   },
   "outputs": [],
   "source": [
    "dup=df.duplicated().any()"
   ]
  },
  {
   "cell_type": "code",
   "execution_count": 20,
   "metadata": {
    "execution": {
     "iopub.execute_input": "2021-07-05T07:40:00.513582Z",
     "iopub.status.busy": "2021-07-05T07:40:00.512724Z",
     "iopub.status.idle": "2021-07-05T07:40:00.515691Z",
     "shell.execute_reply": "2021-07-05T07:40:00.516164Z",
     "shell.execute_reply.started": "2021-07-05T07:38:47.060337Z"
    },
    "papermill": {
     "duration": 0.060708,
     "end_time": "2021-07-05T07:40:00.516322",
     "exception": false,
     "start_time": "2021-07-05T07:40:00.455614",
     "status": "completed"
    },
    "tags": []
   },
   "outputs": [
    {
     "name": "stdout",
     "output_type": "stream",
     "text": [
      "Are there any duplicate Values in the data: True\n"
     ]
    }
   ],
   "source": [
    "print(\"Are there any duplicate Values in the data:\", dup)"
   ]
  },
  {
   "cell_type": "code",
   "execution_count": 21,
   "metadata": {
    "execution": {
     "iopub.execute_input": "2021-07-05T07:40:00.629228Z",
     "iopub.status.busy": "2021-07-05T07:40:00.628630Z",
     "iopub.status.idle": "2021-07-05T07:40:00.681004Z",
     "shell.execute_reply": "2021-07-05T07:40:00.680320Z",
     "shell.execute_reply.started": "2021-07-05T07:38:47.071460Z"
    },
    "papermill": {
     "duration": 0.108622,
     "end_time": "2021-07-05T07:40:00.681142",
     "exception": false,
     "start_time": "2021-07-05T07:40:00.572520",
     "status": "completed"
    },
    "tags": []
   },
   "outputs": [],
   "source": [
    "df=df.drop_duplicates()"
   ]
  },
  {
   "cell_type": "code",
   "execution_count": 22,
   "metadata": {
    "execution": {
     "iopub.execute_input": "2021-07-05T07:40:00.790484Z",
     "iopub.status.busy": "2021-07-05T07:40:00.789605Z",
     "iopub.status.idle": "2021-07-05T07:40:00.793256Z",
     "shell.execute_reply": "2021-07-05T07:40:00.793709Z",
     "shell.execute_reply.started": "2021-07-05T07:38:47.125461Z"
    },
    "papermill": {
     "duration": 0.060394,
     "end_time": "2021-07-05T07:40:00.793874",
     "exception": false,
     "start_time": "2021-07-05T07:40:00.733480",
     "status": "completed"
    },
    "tags": []
   },
   "outputs": [
    {
     "data": {
      "text/plain": [
       "(45175, 15)"
      ]
     },
     "execution_count": 22,
     "metadata": {},
     "output_type": "execute_result"
    }
   ],
   "source": [
    "df.shape"
   ]
  },
  {
   "cell_type": "code",
   "execution_count": 23,
   "metadata": {
    "execution": {
     "iopub.execute_input": "2021-07-05T07:40:00.905369Z",
     "iopub.status.busy": "2021-07-05T07:40:00.904744Z",
     "iopub.status.idle": "2021-07-05T07:40:01.096194Z",
     "shell.execute_reply": "2021-07-05T07:40:01.095714Z",
     "shell.execute_reply.started": "2021-07-05T07:38:47.133548Z"
    },
    "papermill": {
     "duration": 0.249925,
     "end_time": "2021-07-05T07:40:01.096329",
     "exception": false,
     "start_time": "2021-07-05T07:40:00.846404",
     "status": "completed"
    },
    "tags": []
   },
   "outputs": [
    {
     "data": {
      "text/html": [
       "<div>\n",
       "<style scoped>\n",
       "    .dataframe tbody tr th:only-of-type {\n",
       "        vertical-align: middle;\n",
       "    }\n",
       "\n",
       "    .dataframe tbody tr th {\n",
       "        vertical-align: top;\n",
       "    }\n",
       "\n",
       "    .dataframe thead th {\n",
       "        text-align: right;\n",
       "    }\n",
       "</style>\n",
       "<table border=\"1\" class=\"dataframe\">\n",
       "  <thead>\n",
       "    <tr style=\"text-align: right;\">\n",
       "      <th></th>\n",
       "      <th>age</th>\n",
       "      <th>workclass</th>\n",
       "      <th>fnlwgt</th>\n",
       "      <th>education</th>\n",
       "      <th>educational-num</th>\n",
       "      <th>marital-status</th>\n",
       "      <th>occupation</th>\n",
       "      <th>relationship</th>\n",
       "      <th>race</th>\n",
       "      <th>gender</th>\n",
       "      <th>capital-gain</th>\n",
       "      <th>capital-loss</th>\n",
       "      <th>hours-per-week</th>\n",
       "      <th>native-country</th>\n",
       "      <th>income</th>\n",
       "    </tr>\n",
       "  </thead>\n",
       "  <tbody>\n",
       "    <tr>\n",
       "      <th>count</th>\n",
       "      <td>45175.000000</td>\n",
       "      <td>45175</td>\n",
       "      <td>4.517500e+04</td>\n",
       "      <td>45175</td>\n",
       "      <td>45175.000000</td>\n",
       "      <td>45175</td>\n",
       "      <td>45175</td>\n",
       "      <td>45175</td>\n",
       "      <td>45175</td>\n",
       "      <td>45175</td>\n",
       "      <td>45175.000000</td>\n",
       "      <td>45175.000000</td>\n",
       "      <td>45175.000000</td>\n",
       "      <td>45175</td>\n",
       "      <td>45175</td>\n",
       "    </tr>\n",
       "    <tr>\n",
       "      <th>unique</th>\n",
       "      <td>NaN</td>\n",
       "      <td>7</td>\n",
       "      <td>NaN</td>\n",
       "      <td>16</td>\n",
       "      <td>NaN</td>\n",
       "      <td>7</td>\n",
       "      <td>14</td>\n",
       "      <td>6</td>\n",
       "      <td>5</td>\n",
       "      <td>2</td>\n",
       "      <td>NaN</td>\n",
       "      <td>NaN</td>\n",
       "      <td>NaN</td>\n",
       "      <td>41</td>\n",
       "      <td>2</td>\n",
       "    </tr>\n",
       "    <tr>\n",
       "      <th>top</th>\n",
       "      <td>NaN</td>\n",
       "      <td>Private</td>\n",
       "      <td>NaN</td>\n",
       "      <td>HS-grad</td>\n",
       "      <td>NaN</td>\n",
       "      <td>Married-civ-spouse</td>\n",
       "      <td>Craft-repair</td>\n",
       "      <td>Husband</td>\n",
       "      <td>White</td>\n",
       "      <td>Male</td>\n",
       "      <td>NaN</td>\n",
       "      <td>NaN</td>\n",
       "      <td>NaN</td>\n",
       "      <td>United-States</td>\n",
       "      <td>&lt;=50K</td>\n",
       "    </tr>\n",
       "    <tr>\n",
       "      <th>freq</th>\n",
       "      <td>NaN</td>\n",
       "      <td>33262</td>\n",
       "      <td>NaN</td>\n",
       "      <td>14770</td>\n",
       "      <td>NaN</td>\n",
       "      <td>21042</td>\n",
       "      <td>6010</td>\n",
       "      <td>18653</td>\n",
       "      <td>38859</td>\n",
       "      <td>30495</td>\n",
       "      <td>NaN</td>\n",
       "      <td>NaN</td>\n",
       "      <td>NaN</td>\n",
       "      <td>41256</td>\n",
       "      <td>33973</td>\n",
       "    </tr>\n",
       "    <tr>\n",
       "      <th>mean</th>\n",
       "      <td>38.556170</td>\n",
       "      <td>NaN</td>\n",
       "      <td>1.897388e+05</td>\n",
       "      <td>NaN</td>\n",
       "      <td>10.119314</td>\n",
       "      <td>NaN</td>\n",
       "      <td>NaN</td>\n",
       "      <td>NaN</td>\n",
       "      <td>NaN</td>\n",
       "      <td>NaN</td>\n",
       "      <td>1102.576270</td>\n",
       "      <td>88.687593</td>\n",
       "      <td>40.942512</td>\n",
       "      <td>NaN</td>\n",
       "      <td>NaN</td>\n",
       "    </tr>\n",
       "    <tr>\n",
       "      <th>std</th>\n",
       "      <td>13.215349</td>\n",
       "      <td>NaN</td>\n",
       "      <td>1.056524e+05</td>\n",
       "      <td>NaN</td>\n",
       "      <td>2.551740</td>\n",
       "      <td>NaN</td>\n",
       "      <td>NaN</td>\n",
       "      <td>NaN</td>\n",
       "      <td>NaN</td>\n",
       "      <td>NaN</td>\n",
       "      <td>7510.249876</td>\n",
       "      <td>405.156611</td>\n",
       "      <td>12.007730</td>\n",
       "      <td>NaN</td>\n",
       "      <td>NaN</td>\n",
       "    </tr>\n",
       "    <tr>\n",
       "      <th>min</th>\n",
       "      <td>17.000000</td>\n",
       "      <td>NaN</td>\n",
       "      <td>1.349200e+04</td>\n",
       "      <td>NaN</td>\n",
       "      <td>1.000000</td>\n",
       "      <td>NaN</td>\n",
       "      <td>NaN</td>\n",
       "      <td>NaN</td>\n",
       "      <td>NaN</td>\n",
       "      <td>NaN</td>\n",
       "      <td>0.000000</td>\n",
       "      <td>0.000000</td>\n",
       "      <td>1.000000</td>\n",
       "      <td>NaN</td>\n",
       "      <td>NaN</td>\n",
       "    </tr>\n",
       "    <tr>\n",
       "      <th>25%</th>\n",
       "      <td>28.000000</td>\n",
       "      <td>NaN</td>\n",
       "      <td>1.173925e+05</td>\n",
       "      <td>NaN</td>\n",
       "      <td>9.000000</td>\n",
       "      <td>NaN</td>\n",
       "      <td>NaN</td>\n",
       "      <td>NaN</td>\n",
       "      <td>NaN</td>\n",
       "      <td>NaN</td>\n",
       "      <td>0.000000</td>\n",
       "      <td>0.000000</td>\n",
       "      <td>40.000000</td>\n",
       "      <td>NaN</td>\n",
       "      <td>NaN</td>\n",
       "    </tr>\n",
       "    <tr>\n",
       "      <th>50%</th>\n",
       "      <td>37.000000</td>\n",
       "      <td>NaN</td>\n",
       "      <td>1.783120e+05</td>\n",
       "      <td>NaN</td>\n",
       "      <td>10.000000</td>\n",
       "      <td>NaN</td>\n",
       "      <td>NaN</td>\n",
       "      <td>NaN</td>\n",
       "      <td>NaN</td>\n",
       "      <td>NaN</td>\n",
       "      <td>0.000000</td>\n",
       "      <td>0.000000</td>\n",
       "      <td>40.000000</td>\n",
       "      <td>NaN</td>\n",
       "      <td>NaN</td>\n",
       "    </tr>\n",
       "    <tr>\n",
       "      <th>75%</th>\n",
       "      <td>47.000000</td>\n",
       "      <td>NaN</td>\n",
       "      <td>2.379030e+05</td>\n",
       "      <td>NaN</td>\n",
       "      <td>13.000000</td>\n",
       "      <td>NaN</td>\n",
       "      <td>NaN</td>\n",
       "      <td>NaN</td>\n",
       "      <td>NaN</td>\n",
       "      <td>NaN</td>\n",
       "      <td>0.000000</td>\n",
       "      <td>0.000000</td>\n",
       "      <td>45.000000</td>\n",
       "      <td>NaN</td>\n",
       "      <td>NaN</td>\n",
       "    </tr>\n",
       "    <tr>\n",
       "      <th>max</th>\n",
       "      <td>90.000000</td>\n",
       "      <td>NaN</td>\n",
       "      <td>1.490400e+06</td>\n",
       "      <td>NaN</td>\n",
       "      <td>16.000000</td>\n",
       "      <td>NaN</td>\n",
       "      <td>NaN</td>\n",
       "      <td>NaN</td>\n",
       "      <td>NaN</td>\n",
       "      <td>NaN</td>\n",
       "      <td>99999.000000</td>\n",
       "      <td>4356.000000</td>\n",
       "      <td>99.000000</td>\n",
       "      <td>NaN</td>\n",
       "      <td>NaN</td>\n",
       "    </tr>\n",
       "  </tbody>\n",
       "</table>\n",
       "</div>"
      ],
      "text/plain": [
       "                 age workclass        fnlwgt education  educational-num  \\\n",
       "count   45175.000000     45175  4.517500e+04     45175     45175.000000   \n",
       "unique           NaN         7           NaN        16              NaN   \n",
       "top              NaN   Private           NaN   HS-grad              NaN   \n",
       "freq             NaN     33262           NaN     14770              NaN   \n",
       "mean       38.556170       NaN  1.897388e+05       NaN        10.119314   \n",
       "std        13.215349       NaN  1.056524e+05       NaN         2.551740   \n",
       "min        17.000000       NaN  1.349200e+04       NaN         1.000000   \n",
       "25%        28.000000       NaN  1.173925e+05       NaN         9.000000   \n",
       "50%        37.000000       NaN  1.783120e+05       NaN        10.000000   \n",
       "75%        47.000000       NaN  2.379030e+05       NaN        13.000000   \n",
       "max        90.000000       NaN  1.490400e+06       NaN        16.000000   \n",
       "\n",
       "            marital-status    occupation relationship   race gender  \\\n",
       "count                45175         45175        45175  45175  45175   \n",
       "unique                   7            14            6      5      2   \n",
       "top     Married-civ-spouse  Craft-repair      Husband  White   Male   \n",
       "freq                 21042          6010        18653  38859  30495   \n",
       "mean                   NaN           NaN          NaN    NaN    NaN   \n",
       "std                    NaN           NaN          NaN    NaN    NaN   \n",
       "min                    NaN           NaN          NaN    NaN    NaN   \n",
       "25%                    NaN           NaN          NaN    NaN    NaN   \n",
       "50%                    NaN           NaN          NaN    NaN    NaN   \n",
       "75%                    NaN           NaN          NaN    NaN    NaN   \n",
       "max                    NaN           NaN          NaN    NaN    NaN   \n",
       "\n",
       "        capital-gain  capital-loss  hours-per-week native-country income  \n",
       "count   45175.000000  45175.000000    45175.000000          45175  45175  \n",
       "unique           NaN           NaN             NaN             41      2  \n",
       "top              NaN           NaN             NaN  United-States  <=50K  \n",
       "freq             NaN           NaN             NaN          41256  33973  \n",
       "mean     1102.576270     88.687593       40.942512            NaN    NaN  \n",
       "std      7510.249876    405.156611       12.007730            NaN    NaN  \n",
       "min         0.000000      0.000000        1.000000            NaN    NaN  \n",
       "25%         0.000000      0.000000       40.000000            NaN    NaN  \n",
       "50%         0.000000      0.000000       40.000000            NaN    NaN  \n",
       "75%         0.000000      0.000000       45.000000            NaN    NaN  \n",
       "max     99999.000000   4356.000000       99.000000            NaN    NaN  "
      ]
     },
     "execution_count": 23,
     "metadata": {},
     "output_type": "execute_result"
    }
   ],
   "source": [
    "df.describe(include='all')"
   ]
  },
  {
   "cell_type": "code",
   "execution_count": 24,
   "metadata": {
    "execution": {
     "iopub.execute_input": "2021-07-05T07:40:01.208186Z",
     "iopub.status.busy": "2021-07-05T07:40:01.207259Z",
     "iopub.status.idle": "2021-07-05T07:40:01.211274Z",
     "shell.execute_reply": "2021-07-05T07:40:01.210779Z",
     "shell.execute_reply.started": "2021-07-05T07:38:47.255334Z"
    },
    "papermill": {
     "duration": 0.061811,
     "end_time": "2021-07-05T07:40:01.211406",
     "exception": false,
     "start_time": "2021-07-05T07:40:01.149595",
     "status": "completed"
    },
    "tags": []
   },
   "outputs": [
    {
     "data": {
      "text/plain": [
       "Index(['age', 'workclass', 'fnlwgt', 'education', 'educational-num',\n",
       "       'marital-status', 'occupation', 'relationship', 'race', 'gender',\n",
       "       'capital-gain', 'capital-loss', 'hours-per-week', 'native-country',\n",
       "       'income'],\n",
       "      dtype='object')"
      ]
     },
     "execution_count": 24,
     "metadata": {},
     "output_type": "execute_result"
    }
   ],
   "source": [
    "df.columns"
   ]
  },
  {
   "cell_type": "markdown",
   "metadata": {
    "execution": {
     "iopub.execute_input": "2021-07-03T09:35:04.671901Z",
     "iopub.status.busy": "2021-07-03T09:35:04.671541Z",
     "iopub.status.idle": "2021-07-03T09:35:04.675151Z",
     "shell.execute_reply": "2021-07-03T09:35:04.674348Z",
     "shell.execute_reply.started": "2021-07-03T09:35:04.671871Z"
    },
    "papermill": {
     "duration": 0.052924,
     "end_time": "2021-07-05T07:40:01.317961",
     "exception": false,
     "start_time": "2021-07-05T07:40:01.265037",
     "status": "completed"
    },
    "tags": []
   },
   "source": [
    "#education', 'educational-num' conveys almost same information|'capital-gain', 'capital-loss' have more than 75% 0-values"
   ]
  },
  {
   "cell_type": "code",
   "execution_count": 25,
   "metadata": {
    "execution": {
     "iopub.execute_input": "2021-07-05T07:40:01.430916Z",
     "iopub.status.busy": "2021-07-05T07:40:01.430268Z",
     "iopub.status.idle": "2021-07-05T07:40:01.435781Z",
     "shell.execute_reply": "2021-07-05T07:40:01.436208Z",
     "shell.execute_reply.started": "2021-07-05T07:38:47.263418Z"
    },
    "papermill": {
     "duration": 0.065202,
     "end_time": "2021-07-05T07:40:01.436371",
     "exception": false,
     "start_time": "2021-07-05T07:40:01.371169",
     "status": "completed"
    },
    "tags": []
   },
   "outputs": [
    {
     "data": {
      "text/plain": [
       "array(['11th', 'HS-grad', 'Assoc-acdm', 'Some-college', '10th',\n",
       "       'Prof-school', '7th-8th', 'Bachelors', 'Masters', '5th-6th',\n",
       "       'Assoc-voc', '9th', 'Doctorate', '12th', '1st-4th', 'Preschool'],\n",
       "      dtype=object)"
      ]
     },
     "execution_count": 25,
     "metadata": {},
     "output_type": "execute_result"
    }
   ],
   "source": [
    "df['education'].unique()"
   ]
  },
  {
   "cell_type": "code",
   "execution_count": 26,
   "metadata": {
    "execution": {
     "iopub.execute_input": "2021-07-05T07:40:01.548260Z",
     "iopub.status.busy": "2021-07-05T07:40:01.547172Z",
     "iopub.status.idle": "2021-07-05T07:40:01.552797Z",
     "shell.execute_reply": "2021-07-05T07:40:01.552231Z",
     "shell.execute_reply.started": "2021-07-05T07:38:47.286151Z"
    },
    "papermill": {
     "duration": 0.062915,
     "end_time": "2021-07-05T07:40:01.552939",
     "exception": false,
     "start_time": "2021-07-05T07:40:01.490024",
     "status": "completed"
    },
    "tags": []
   },
   "outputs": [
    {
     "data": {
      "text/plain": [
       "array([ 7,  9, 12, 10,  6, 15,  4, 13, 14,  3, 11,  5, 16,  8,  2,  1],\n",
       "      dtype=int64)"
      ]
     },
     "execution_count": 26,
     "metadata": {},
     "output_type": "execute_result"
    }
   ],
   "source": [
    "df['educational-num'].unique()"
   ]
  },
  {
   "cell_type": "code",
   "execution_count": 27,
   "metadata": {
    "execution": {
     "iopub.execute_input": "2021-07-05T07:40:01.668866Z",
     "iopub.status.busy": "2021-07-05T07:40:01.668189Z",
     "iopub.status.idle": "2021-07-05T07:40:01.674263Z",
     "shell.execute_reply": "2021-07-05T07:40:01.673748Z",
     "shell.execute_reply.started": "2021-07-05T07:38:47.295840Z"
    },
    "papermill": {
     "duration": 0.066155,
     "end_time": "2021-07-05T07:40:01.674392",
     "exception": false,
     "start_time": "2021-07-05T07:40:01.608237",
     "status": "completed"
    },
    "tags": []
   },
   "outputs": [],
   "source": [
    "df=df.drop(['educational-num','capital-gain', 'capital-loss'],axis=1)"
   ]
  },
  {
   "cell_type": "code",
   "execution_count": 28,
   "metadata": {
    "execution": {
     "iopub.execute_input": "2021-07-05T07:40:01.808395Z",
     "iopub.status.busy": "2021-07-05T07:40:01.807472Z",
     "iopub.status.idle": "2021-07-05T07:40:01.811758Z",
     "shell.execute_reply": "2021-07-05T07:40:01.812365Z",
     "shell.execute_reply.started": "2021-07-05T07:38:47.310868Z"
    },
    "papermill": {
     "duration": 0.082827,
     "end_time": "2021-07-05T07:40:01.812526",
     "exception": false,
     "start_time": "2021-07-05T07:40:01.729699",
     "status": "completed"
    },
    "tags": []
   },
   "outputs": [
    {
     "data": {
      "text/html": [
       "<div>\n",
       "<style scoped>\n",
       "    .dataframe tbody tr th:only-of-type {\n",
       "        vertical-align: middle;\n",
       "    }\n",
       "\n",
       "    .dataframe tbody tr th {\n",
       "        vertical-align: top;\n",
       "    }\n",
       "\n",
       "    .dataframe thead th {\n",
       "        text-align: right;\n",
       "    }\n",
       "</style>\n",
       "<table border=\"1\" class=\"dataframe\">\n",
       "  <thead>\n",
       "    <tr style=\"text-align: right;\">\n",
       "      <th></th>\n",
       "      <th>age</th>\n",
       "      <th>workclass</th>\n",
       "      <th>fnlwgt</th>\n",
       "      <th>education</th>\n",
       "      <th>marital-status</th>\n",
       "      <th>occupation</th>\n",
       "      <th>relationship</th>\n",
       "      <th>race</th>\n",
       "      <th>gender</th>\n",
       "      <th>hours-per-week</th>\n",
       "      <th>native-country</th>\n",
       "      <th>income</th>\n",
       "    </tr>\n",
       "  </thead>\n",
       "  <tbody>\n",
       "    <tr>\n",
       "      <th>0</th>\n",
       "      <td>25</td>\n",
       "      <td>Private</td>\n",
       "      <td>226802</td>\n",
       "      <td>11th</td>\n",
       "      <td>Never-married</td>\n",
       "      <td>Machine-op-inspct</td>\n",
       "      <td>Own-child</td>\n",
       "      <td>Black</td>\n",
       "      <td>Male</td>\n",
       "      <td>40</td>\n",
       "      <td>United-States</td>\n",
       "      <td>&lt;=50K</td>\n",
       "    </tr>\n",
       "    <tr>\n",
       "      <th>1</th>\n",
       "      <td>38</td>\n",
       "      <td>Private</td>\n",
       "      <td>89814</td>\n",
       "      <td>HS-grad</td>\n",
       "      <td>Married-civ-spouse</td>\n",
       "      <td>Farming-fishing</td>\n",
       "      <td>Husband</td>\n",
       "      <td>White</td>\n",
       "      <td>Male</td>\n",
       "      <td>50</td>\n",
       "      <td>United-States</td>\n",
       "      <td>&lt;=50K</td>\n",
       "    </tr>\n",
       "    <tr>\n",
       "      <th>2</th>\n",
       "      <td>28</td>\n",
       "      <td>Local-gov</td>\n",
       "      <td>336951</td>\n",
       "      <td>Assoc-acdm</td>\n",
       "      <td>Married-civ-spouse</td>\n",
       "      <td>Protective-serv</td>\n",
       "      <td>Husband</td>\n",
       "      <td>White</td>\n",
       "      <td>Male</td>\n",
       "      <td>40</td>\n",
       "      <td>United-States</td>\n",
       "      <td>&gt;50K</td>\n",
       "    </tr>\n",
       "    <tr>\n",
       "      <th>3</th>\n",
       "      <td>44</td>\n",
       "      <td>Private</td>\n",
       "      <td>160323</td>\n",
       "      <td>Some-college</td>\n",
       "      <td>Married-civ-spouse</td>\n",
       "      <td>Machine-op-inspct</td>\n",
       "      <td>Husband</td>\n",
       "      <td>Black</td>\n",
       "      <td>Male</td>\n",
       "      <td>40</td>\n",
       "      <td>United-States</td>\n",
       "      <td>&gt;50K</td>\n",
       "    </tr>\n",
       "    <tr>\n",
       "      <th>5</th>\n",
       "      <td>34</td>\n",
       "      <td>Private</td>\n",
       "      <td>198693</td>\n",
       "      <td>10th</td>\n",
       "      <td>Never-married</td>\n",
       "      <td>Other-service</td>\n",
       "      <td>Not-in-family</td>\n",
       "      <td>White</td>\n",
       "      <td>Male</td>\n",
       "      <td>30</td>\n",
       "      <td>United-States</td>\n",
       "      <td>&lt;=50K</td>\n",
       "    </tr>\n",
       "    <tr>\n",
       "      <th>...</th>\n",
       "      <td>...</td>\n",
       "      <td>...</td>\n",
       "      <td>...</td>\n",
       "      <td>...</td>\n",
       "      <td>...</td>\n",
       "      <td>...</td>\n",
       "      <td>...</td>\n",
       "      <td>...</td>\n",
       "      <td>...</td>\n",
       "      <td>...</td>\n",
       "      <td>...</td>\n",
       "      <td>...</td>\n",
       "    </tr>\n",
       "    <tr>\n",
       "      <th>48837</th>\n",
       "      <td>27</td>\n",
       "      <td>Private</td>\n",
       "      <td>257302</td>\n",
       "      <td>Assoc-acdm</td>\n",
       "      <td>Married-civ-spouse</td>\n",
       "      <td>Tech-support</td>\n",
       "      <td>Wife</td>\n",
       "      <td>White</td>\n",
       "      <td>Female</td>\n",
       "      <td>38</td>\n",
       "      <td>United-States</td>\n",
       "      <td>&lt;=50K</td>\n",
       "    </tr>\n",
       "    <tr>\n",
       "      <th>48838</th>\n",
       "      <td>40</td>\n",
       "      <td>Private</td>\n",
       "      <td>154374</td>\n",
       "      <td>HS-grad</td>\n",
       "      <td>Married-civ-spouse</td>\n",
       "      <td>Machine-op-inspct</td>\n",
       "      <td>Husband</td>\n",
       "      <td>White</td>\n",
       "      <td>Male</td>\n",
       "      <td>40</td>\n",
       "      <td>United-States</td>\n",
       "      <td>&gt;50K</td>\n",
       "    </tr>\n",
       "    <tr>\n",
       "      <th>48839</th>\n",
       "      <td>58</td>\n",
       "      <td>Private</td>\n",
       "      <td>151910</td>\n",
       "      <td>HS-grad</td>\n",
       "      <td>Widowed</td>\n",
       "      <td>Adm-clerical</td>\n",
       "      <td>Unmarried</td>\n",
       "      <td>White</td>\n",
       "      <td>Female</td>\n",
       "      <td>40</td>\n",
       "      <td>United-States</td>\n",
       "      <td>&lt;=50K</td>\n",
       "    </tr>\n",
       "    <tr>\n",
       "      <th>48840</th>\n",
       "      <td>22</td>\n",
       "      <td>Private</td>\n",
       "      <td>201490</td>\n",
       "      <td>HS-grad</td>\n",
       "      <td>Never-married</td>\n",
       "      <td>Adm-clerical</td>\n",
       "      <td>Own-child</td>\n",
       "      <td>White</td>\n",
       "      <td>Male</td>\n",
       "      <td>20</td>\n",
       "      <td>United-States</td>\n",
       "      <td>&lt;=50K</td>\n",
       "    </tr>\n",
       "    <tr>\n",
       "      <th>48841</th>\n",
       "      <td>52</td>\n",
       "      <td>Self-emp-inc</td>\n",
       "      <td>287927</td>\n",
       "      <td>HS-grad</td>\n",
       "      <td>Married-civ-spouse</td>\n",
       "      <td>Exec-managerial</td>\n",
       "      <td>Wife</td>\n",
       "      <td>White</td>\n",
       "      <td>Female</td>\n",
       "      <td>40</td>\n",
       "      <td>United-States</td>\n",
       "      <td>&gt;50K</td>\n",
       "    </tr>\n",
       "  </tbody>\n",
       "</table>\n",
       "<p>45175 rows × 12 columns</p>\n",
       "</div>"
      ],
      "text/plain": [
       "       age     workclass  fnlwgt     education      marital-status  \\\n",
       "0       25       Private  226802          11th       Never-married   \n",
       "1       38       Private   89814       HS-grad  Married-civ-spouse   \n",
       "2       28     Local-gov  336951    Assoc-acdm  Married-civ-spouse   \n",
       "3       44       Private  160323  Some-college  Married-civ-spouse   \n",
       "5       34       Private  198693          10th       Never-married   \n",
       "...    ...           ...     ...           ...                 ...   \n",
       "48837   27       Private  257302    Assoc-acdm  Married-civ-spouse   \n",
       "48838   40       Private  154374       HS-grad  Married-civ-spouse   \n",
       "48839   58       Private  151910       HS-grad             Widowed   \n",
       "48840   22       Private  201490       HS-grad       Never-married   \n",
       "48841   52  Self-emp-inc  287927       HS-grad  Married-civ-spouse   \n",
       "\n",
       "              occupation   relationship   race  gender  hours-per-week  \\\n",
       "0      Machine-op-inspct      Own-child  Black    Male              40   \n",
       "1        Farming-fishing        Husband  White    Male              50   \n",
       "2        Protective-serv        Husband  White    Male              40   \n",
       "3      Machine-op-inspct        Husband  Black    Male              40   \n",
       "5          Other-service  Not-in-family  White    Male              30   \n",
       "...                  ...            ...    ...     ...             ...   \n",
       "48837       Tech-support           Wife  White  Female              38   \n",
       "48838  Machine-op-inspct        Husband  White    Male              40   \n",
       "48839       Adm-clerical      Unmarried  White  Female              40   \n",
       "48840       Adm-clerical      Own-child  White    Male              20   \n",
       "48841    Exec-managerial           Wife  White  Female              40   \n",
       "\n",
       "      native-country income  \n",
       "0      United-States  <=50K  \n",
       "1      United-States  <=50K  \n",
       "2      United-States   >50K  \n",
       "3      United-States   >50K  \n",
       "5      United-States  <=50K  \n",
       "...              ...    ...  \n",
       "48837  United-States  <=50K  \n",
       "48838  United-States   >50K  \n",
       "48839  United-States  <=50K  \n",
       "48840  United-States  <=50K  \n",
       "48841  United-States   >50K  \n",
       "\n",
       "[45175 rows x 12 columns]"
      ]
     },
     "execution_count": 28,
     "metadata": {},
     "output_type": "execute_result"
    }
   ],
   "source": [
    "df"
   ]
  },
  {
   "cell_type": "markdown",
   "metadata": {
    "papermill": {
     "duration": 0.054898,
     "end_time": "2021-07-05T07:40:01.923260",
     "exception": false,
     "start_time": "2021-07-05T07:40:01.868362",
     "status": "completed"
    },
    "tags": []
   },
   "source": [
    "#Univariate Analysis"
   ]
  },
  {
   "cell_type": "code",
   "execution_count": 29,
   "metadata": {
    "execution": {
     "iopub.execute_input": "2021-07-05T07:40:02.038631Z",
     "iopub.status.busy": "2021-07-05T07:40:02.037974Z",
     "iopub.status.idle": "2021-07-05T07:40:02.046354Z",
     "shell.execute_reply": "2021-07-05T07:40:02.045772Z",
     "shell.execute_reply.started": "2021-07-05T07:38:47.340168Z"
    },
    "papermill": {
     "duration": 0.068076,
     "end_time": "2021-07-05T07:40:02.046489",
     "exception": false,
     "start_time": "2021-07-05T07:40:01.978413",
     "status": "completed"
    },
    "tags": []
   },
   "outputs": [
    {
     "data": {
      "text/plain": [
       "count    45175.000000\n",
       "mean        38.556170\n",
       "std         13.215349\n",
       "min         17.000000\n",
       "25%         28.000000\n",
       "50%         37.000000\n",
       "75%         47.000000\n",
       "max         90.000000\n",
       "Name: age, dtype: float64"
      ]
     },
     "execution_count": 29,
     "metadata": {},
     "output_type": "execute_result"
    }
   ],
   "source": [
    "df['age'].describe()"
   ]
  },
  {
   "cell_type": "markdown",
   "metadata": {
    "papermill": {
     "duration": 0.055575,
     "end_time": "2021-07-05T07:40:02.156889",
     "exception": false,
     "start_time": "2021-07-05T07:40:02.101314",
     "status": "completed"
    },
    "tags": []
   },
   "source": [
    "#Distribution Of Age"
   ]
  },
  {
   "cell_type": "code",
   "execution_count": 30,
   "metadata": {
    "execution": {
     "iopub.execute_input": "2021-07-05T07:40:02.271008Z",
     "iopub.status.busy": "2021-07-05T07:40:02.270405Z",
     "iopub.status.idle": "2021-07-05T07:40:02.440919Z",
     "shell.execute_reply": "2021-07-05T07:40:02.440339Z",
     "shell.execute_reply.started": "2021-07-05T07:38:47.359477Z"
    },
    "papermill": {
     "duration": 0.228212,
     "end_time": "2021-07-05T07:40:02.441061",
     "exception": false,
     "start_time": "2021-07-05T07:40:02.212849",
     "status": "completed"
    },
    "tags": []
   },
   "outputs": [
    {
     "data": {
      "text/plain": [
       "<AxesSubplot:>"
      ]
     },
     "execution_count": 30,
     "metadata": {},
     "output_type": "execute_result"
    },
    {
     "data": {
      "image/png": "[encoded data removed]",
      "text/plain": [
       "<Figure size 432x288 with 1 Axes>"
      ]
     },
     "metadata": {
      "needs_background": "light"
     },
     "output_type": "display_data"
    }
   ],
   "source": [
    "df['age'].hist()"
   ]
  },
  {
   "cell_type": "markdown",
   "metadata": {
    "papermill": {
     "duration": 0.055525,
     "end_time": "2021-07-05T07:40:02.552459",
     "exception": false,
     "start_time": "2021-07-05T07:40:02.496934",
     "status": "completed"
    },
    "tags": []
   },
   "source": [
    "#Number of people having age between 17 and 48"
   ]
  },
  {
   "cell_type": "code",
   "execution_count": 31,
   "metadata": {
    "execution": {
     "iopub.execute_input": "2021-07-05T07:40:02.670565Z",
     "iopub.status.busy": "2021-07-05T07:40:02.669700Z",
     "iopub.status.idle": "2021-07-05T07:40:02.681963Z",
     "shell.execute_reply": "2021-07-05T07:40:02.682405Z",
     "shell.execute_reply.started": "2021-07-05T07:38:47.509883Z"
    },
    "papermill": {
     "duration": 0.07416,
     "end_time": "2021-07-05T07:40:02.682590",
     "exception": false,
     "start_time": "2021-07-05T07:40:02.608430",
     "status": "completed"
    },
    "tags": []
   },
   "outputs": [
    {
     "data": {
      "text/plain": [
       "34858"
      ]
     },
     "execution_count": 31,
     "metadata": {},
     "output_type": "execute_result"
    }
   ],
   "source": [
    "sum(df['age'].between(17,48))"
   ]
  },
  {
   "cell_type": "code",
   "execution_count": 32,
   "metadata": {
    "execution": {
     "iopub.execute_input": "2021-07-05T07:40:02.798823Z",
     "iopub.status.busy": "2021-07-05T07:40:02.797917Z",
     "iopub.status.idle": "2021-07-05T07:40:02.801012Z",
     "shell.execute_reply": "2021-07-05T07:40:02.800496Z",
     "shell.execute_reply.started": "2021-07-05T07:38:47.521607Z"
    },
    "papermill": {
     "duration": 0.062649,
     "end_time": "2021-07-05T07:40:02.801151",
     "exception": false,
     "start_time": "2021-07-05T07:40:02.738502",
     "status": "completed"
    },
    "tags": []
   },
   "outputs": [],
   "source": [
    "#Distribution Of Workclass"
   ]
  },
  {
   "cell_type": "code",
   "execution_count": 33,
   "metadata": {
    "execution": {
     "iopub.execute_input": "2021-07-05T07:40:02.919763Z",
     "iopub.status.busy": "2021-07-05T07:40:02.919100Z",
     "iopub.status.idle": "2021-07-05T07:40:02.922846Z",
     "shell.execute_reply": "2021-07-05T07:40:02.922353Z",
     "shell.execute_reply.started": "2021-07-05T07:38:47.528810Z"
    },
    "papermill": {
     "duration": 0.065683,
     "end_time": "2021-07-05T07:40:02.922982",
     "exception": false,
     "start_time": "2021-07-05T07:40:02.857299",
     "status": "completed"
    },
    "tags": []
   },
   "outputs": [
    {
     "data": {
      "text/plain": [
       "Index(['age', 'workclass', 'fnlwgt', 'education', 'marital-status',\n",
       "       'occupation', 'relationship', 'race', 'gender', 'hours-per-week',\n",
       "       'native-country', 'income'],\n",
       "      dtype='object')"
      ]
     },
     "execution_count": 33,
     "metadata": {},
     "output_type": "execute_result"
    }
   ],
   "source": [
    "df.columns"
   ]
  },
  {
   "cell_type": "code",
   "execution_count": 34,
   "metadata": {
    "execution": {
     "iopub.execute_input": "2021-07-05T07:40:03.053409Z",
     "iopub.status.busy": "2021-07-05T07:40:03.052792Z",
     "iopub.status.idle": "2021-07-05T07:40:03.056085Z",
     "shell.execute_reply": "2021-07-05T07:40:03.055500Z",
     "shell.execute_reply.started": "2021-07-05T07:38:47.543523Z"
    },
    "papermill": {
     "duration": 0.077035,
     "end_time": "2021-07-05T07:40:03.056221",
     "exception": false,
     "start_time": "2021-07-05T07:40:02.979186",
     "status": "completed"
    },
    "tags": []
   },
   "outputs": [
    {
     "data": {
      "text/plain": [
       "Private             33262\n",
       "Self-emp-not-inc     3795\n",
       "Local-gov            3100\n",
       "State-gov            1946\n",
       "Self-emp-inc         1645\n",
       "Federal-gov          1406\n",
       "Without-pay            21\n",
       "Name: workclass, dtype: int64"
      ]
     },
     "execution_count": 34,
     "metadata": {},
     "output_type": "execute_result"
    }
   ],
   "source": [
    "df['workclass'].value_counts()"
   ]
  },
  {
   "cell_type": "code",
   "execution_count": 35,
   "metadata": {
    "execution": {
     "iopub.execute_input": "2021-07-05T07:40:03.175404Z",
     "iopub.status.busy": "2021-07-05T07:40:03.174786Z",
     "iopub.status.idle": "2021-07-05T07:40:03.359536Z",
     "shell.execute_reply": "2021-07-05T07:40:03.358890Z",
     "shell.execute_reply.started": "2021-07-05T07:38:47.562344Z"
    },
    "papermill": {
     "duration": 0.245589,
     "end_time": "2021-07-05T07:40:03.359729",
     "exception": false,
     "start_time": "2021-07-05T07:40:03.114140",
     "status": "completed"
    },
    "tags": []
   },
   "outputs": [
    {
     "data": {
      "text/plain": [
       "<AxesSubplot:>"
      ]
     },
     "execution_count": 35,
     "metadata": {},
     "output_type": "execute_result"
    },
    {
     "data": {
      "image/png": "[encoded data removed]",
      "text/plain": [
       "<Figure size 1080x360 with 1 Axes>"
      ]
     },
     "metadata": {
      "needs_background": "light"
     },
     "output_type": "display_data"
    }
   ],
   "source": [
    "df['workclass'].hist(figsize=(15,5))"
   ]
  },
  {
   "cell_type": "code",
   "execution_count": 36,
   "metadata": {
    "execution": {
     "iopub.execute_input": "2021-07-05T07:40:03.481601Z",
     "iopub.status.busy": "2021-07-05T07:40:03.480947Z",
     "iopub.status.idle": "2021-07-05T07:40:03.483626Z",
     "shell.execute_reply": "2021-07-05T07:40:03.483093Z",
     "shell.execute_reply.started": "2021-07-05T07:38:47.744433Z"
    },
    "papermill": {
     "duration": 0.063957,
     "end_time": "2021-07-05T07:40:03.483756",
     "exception": false,
     "start_time": "2021-07-05T07:40:03.419799",
     "status": "completed"
    },
    "tags": []
   },
   "outputs": [],
   "source": [
    "#Split between Bachelors and Masters"
   ]
  },
  {
   "cell_type": "code",
   "execution_count": 37,
   "metadata": {
    "execution": {
     "iopub.execute_input": "2021-07-05T07:40:03.606125Z",
     "iopub.status.busy": "2021-07-05T07:40:03.605283Z",
     "iopub.status.idle": "2021-07-05T07:40:03.609459Z",
     "shell.execute_reply": "2021-07-05T07:40:03.608883Z",
     "shell.execute_reply.started": "2021-07-05T07:38:47.750174Z"
    },
    "papermill": {
     "duration": 0.067544,
     "end_time": "2021-07-05T07:40:03.609624",
     "exception": false,
     "start_time": "2021-07-05T07:40:03.542080",
     "status": "completed"
    },
    "tags": []
   },
   "outputs": [
    {
     "data": {
      "text/plain": [
       "Index(['age', 'workclass', 'fnlwgt', 'education', 'marital-status',\n",
       "       'occupation', 'relationship', 'race', 'gender', 'hours-per-week',\n",
       "       'native-country', 'income'],\n",
       "      dtype='object')"
      ]
     },
     "execution_count": 37,
     "metadata": {},
     "output_type": "execute_result"
    }
   ],
   "source": [
    "df.columns"
   ]
  },
  {
   "cell_type": "code",
   "execution_count": 38,
   "metadata": {
    "execution": {
     "iopub.execute_input": "2021-07-05T07:40:03.729833Z",
     "iopub.status.busy": "2021-07-05T07:40:03.729207Z",
     "iopub.status.idle": "2021-07-05T07:40:03.747062Z",
     "shell.execute_reply": "2021-07-05T07:40:03.747618Z",
     "shell.execute_reply.started": "2021-07-05T07:38:47.765623Z"
    },
    "papermill": {
     "duration": 0.079519,
     "end_time": "2021-07-05T07:40:03.747791",
     "exception": false,
     "start_time": "2021-07-05T07:40:03.668272",
     "status": "completed"
    },
    "tags": []
   },
   "outputs": [],
   "source": [
    "filter1=df['education']=='Bachelors'\n",
    "filter2=df['education']=='Masters'"
   ]
  },
  {
   "cell_type": "code",
   "execution_count": 39,
   "metadata": {
    "execution": {
     "iopub.execute_input": "2021-07-05T07:40:03.868340Z",
     "iopub.status.busy": "2021-07-05T07:40:03.867724Z",
     "iopub.status.idle": "2021-07-05T07:40:03.874805Z",
     "shell.execute_reply": "2021-07-05T07:40:03.875320Z",
     "shell.execute_reply.started": "2021-07-05T07:38:47.785570Z"
    },
    "papermill": {
     "duration": 0.068769,
     "end_time": "2021-07-05T07:40:03.875489",
     "exception": false,
     "start_time": "2021-07-05T07:40:03.806720",
     "status": "completed"
    },
    "tags": []
   },
   "outputs": [
    {
     "data": {
      "text/plain": [
       "10072"
      ]
     },
     "execution_count": 39,
     "metadata": {},
     "output_type": "execute_result"
    }
   ],
   "source": [
    "len(df[filter1 | filter2])"
   ]
  },
  {
   "cell_type": "code",
   "execution_count": 40,
   "metadata": {
    "execution": {
     "iopub.execute_input": "2021-07-05T07:40:03.997374Z",
     "iopub.status.busy": "2021-07-05T07:40:03.996729Z",
     "iopub.status.idle": "2021-07-05T07:40:04.006537Z",
     "shell.execute_reply": "2021-07-05T07:40:04.006994Z",
     "shell.execute_reply.started": "2021-07-05T07:38:47.803644Z"
    },
    "papermill": {
     "duration": 0.071586,
     "end_time": "2021-07-05T07:40:04.007171",
     "exception": false,
     "start_time": "2021-07-05T07:40:03.935585",
     "status": "completed"
    },
    "tags": []
   },
   "outputs": [
    {
     "data": {
      "text/plain": [
       "10072"
      ]
     },
     "execution_count": 40,
     "metadata": {},
     "output_type": "execute_result"
    }
   ],
   "source": [
    "len(df[df['education'].isin(['Bachelors','Masters'])])"
   ]
  },
  {
   "cell_type": "markdown",
   "metadata": {
    "papermill": {
     "duration": 0.058828,
     "end_time": "2021-07-05T07:40:04.124825",
     "exception": false,
     "start_time": "2021-07-05T07:40:04.065997",
     "status": "completed"
    },
    "tags": []
   },
   "source": [
    "#Bivariate Analysis"
   ]
  },
  {
   "cell_type": "code",
   "execution_count": 41,
   "metadata": {
    "execution": {
     "iopub.execute_input": "2021-07-05T07:40:04.248292Z",
     "iopub.status.busy": "2021-07-05T07:40:04.247657Z",
     "iopub.status.idle": "2021-07-05T07:40:04.250332Z",
     "shell.execute_reply": "2021-07-05T07:40:04.250905Z",
     "shell.execute_reply.started": "2021-07-05T07:38:47.820441Z"
    },
    "papermill": {
     "duration": 0.066593,
     "end_time": "2021-07-05T07:40:04.251083",
     "exception": false,
     "start_time": "2021-07-05T07:40:04.184490",
     "status": "completed"
    },
    "tags": []
   },
   "outputs": [
    {
     "data": {
      "text/plain": [
       "Index(['age', 'workclass', 'fnlwgt', 'education', 'marital-status',\n",
       "       'occupation', 'relationship', 'race', 'gender', 'hours-per-week',\n",
       "       'native-country', 'income'],\n",
       "      dtype='object')"
      ]
     },
     "execution_count": 41,
     "metadata": {},
     "output_type": "execute_result"
    }
   ],
   "source": [
    "df.columns"
   ]
  },
  {
   "cell_type": "code",
   "execution_count": 42,
   "metadata": {
    "execution": {
     "iopub.execute_input": "2021-07-05T07:40:04.374193Z",
     "iopub.status.busy": "2021-07-05T07:40:04.373517Z",
     "iopub.status.idle": "2021-07-05T07:40:04.653197Z",
     "shell.execute_reply": "2021-07-05T07:40:04.653695Z",
     "shell.execute_reply.started": "2021-07-05T07:38:47.828687Z"
    },
    "papermill": {
     "duration": 0.342152,
     "end_time": "2021-07-05T07:40:04.653863",
     "exception": false,
     "start_time": "2021-07-05T07:40:04.311711",
     "status": "completed"
    },
    "tags": []
   },
   "outputs": [
    {
     "data": {
      "text/plain": [
       "<AxesSubplot:xlabel='income', ylabel='age'>"
      ]
     },
     "execution_count": 42,
     "metadata": {},
     "output_type": "execute_result"
    },
    {
     "data": {
      "image/png": "[encoded data removed]",
      "text/plain": [
       "<Figure size 432x288 with 1 Axes>"
      ]
     },
     "metadata": {
      "needs_background": "light"
     },
     "output_type": "display_data"
    }
   ],
   "source": [
    "sns.boxplot(x='income',y='age',data=df)"
   ]
  },
  {
   "cell_type": "code",
   "execution_count": 43,
   "metadata": {
    "execution": {
     "iopub.execute_input": "2021-07-05T07:40:04.785695Z",
     "iopub.status.busy": "2021-07-05T07:40:04.785050Z",
     "iopub.status.idle": "2021-07-05T07:40:04.788698Z",
     "shell.execute_reply": "2021-07-05T07:40:04.789206Z",
     "shell.execute_reply.started": "2021-07-05T07:38:47.986172Z"
    },
    "papermill": {
     "duration": 0.074896,
     "end_time": "2021-07-05T07:40:04.789364",
     "exception": false,
     "start_time": "2021-07-05T07:40:04.714468",
     "status": "completed"
    },
    "tags": []
   },
   "outputs": [],
   "source": [
    "df['income_flag']=df['income'].map({'<=50K':0,'>50K':1})"
   ]
  },
  {
   "cell_type": "code",
   "execution_count": 44,
   "metadata": {
    "execution": {
     "iopub.execute_input": "2021-07-05T07:40:04.913352Z",
     "iopub.status.busy": "2021-07-05T07:40:04.912759Z",
     "iopub.status.idle": "2021-07-05T07:40:04.939045Z",
     "shell.execute_reply": "2021-07-05T07:40:04.939559Z",
     "shell.execute_reply.started": "2021-07-05T07:38:47.997918Z"
    },
    "papermill": {
     "duration": 0.089684,
     "end_time": "2021-07-05T07:40:04.939730",
     "exception": false,
     "start_time": "2021-07-05T07:40:04.850046",
     "status": "completed"
    },
    "tags": []
   },
   "outputs": [
    {
     "data": {
      "text/html": [
       "<div>\n",
       "<style scoped>\n",
       "    .dataframe tbody tr th:only-of-type {\n",
       "        vertical-align: middle;\n",
       "    }\n",
       "\n",
       "    .dataframe tbody tr th {\n",
       "        vertical-align: top;\n",
       "    }\n",
       "\n",
       "    .dataframe thead th {\n",
       "        text-align: right;\n",
       "    }\n",
       "</style>\n",
       "<table border=\"1\" class=\"dataframe\">\n",
       "  <thead>\n",
       "    <tr style=\"text-align: right;\">\n",
       "      <th></th>\n",
       "      <th>age</th>\n",
       "      <th>workclass</th>\n",
       "      <th>fnlwgt</th>\n",
       "      <th>education</th>\n",
       "      <th>marital-status</th>\n",
       "      <th>occupation</th>\n",
       "      <th>relationship</th>\n",
       "      <th>race</th>\n",
       "      <th>gender</th>\n",
       "      <th>hours-per-week</th>\n",
       "      <th>native-country</th>\n",
       "      <th>income</th>\n",
       "      <th>income_flag</th>\n",
       "    </tr>\n",
       "  </thead>\n",
       "  <tbody>\n",
       "    <tr>\n",
       "      <th>0</th>\n",
       "      <td>25</td>\n",
       "      <td>Private</td>\n",
       "      <td>226802</td>\n",
       "      <td>11th</td>\n",
       "      <td>Never-married</td>\n",
       "      <td>Machine-op-inspct</td>\n",
       "      <td>Own-child</td>\n",
       "      <td>Black</td>\n",
       "      <td>Male</td>\n",
       "      <td>40</td>\n",
       "      <td>United-States</td>\n",
       "      <td>&lt;=50K</td>\n",
       "      <td>0</td>\n",
       "    </tr>\n",
       "    <tr>\n",
       "      <th>1</th>\n",
       "      <td>38</td>\n",
       "      <td>Private</td>\n",
       "      <td>89814</td>\n",
       "      <td>HS-grad</td>\n",
       "      <td>Married-civ-spouse</td>\n",
       "      <td>Farming-fishing</td>\n",
       "      <td>Husband</td>\n",
       "      <td>White</td>\n",
       "      <td>Male</td>\n",
       "      <td>50</td>\n",
       "      <td>United-States</td>\n",
       "      <td>&lt;=50K</td>\n",
       "      <td>0</td>\n",
       "    </tr>\n",
       "    <tr>\n",
       "      <th>2</th>\n",
       "      <td>28</td>\n",
       "      <td>Local-gov</td>\n",
       "      <td>336951</td>\n",
       "      <td>Assoc-acdm</td>\n",
       "      <td>Married-civ-spouse</td>\n",
       "      <td>Protective-serv</td>\n",
       "      <td>Husband</td>\n",
       "      <td>White</td>\n",
       "      <td>Male</td>\n",
       "      <td>40</td>\n",
       "      <td>United-States</td>\n",
       "      <td>&gt;50K</td>\n",
       "      <td>1</td>\n",
       "    </tr>\n",
       "    <tr>\n",
       "      <th>3</th>\n",
       "      <td>44</td>\n",
       "      <td>Private</td>\n",
       "      <td>160323</td>\n",
       "      <td>Some-college</td>\n",
       "      <td>Married-civ-spouse</td>\n",
       "      <td>Machine-op-inspct</td>\n",
       "      <td>Husband</td>\n",
       "      <td>Black</td>\n",
       "      <td>Male</td>\n",
       "      <td>40</td>\n",
       "      <td>United-States</td>\n",
       "      <td>&gt;50K</td>\n",
       "      <td>1</td>\n",
       "    </tr>\n",
       "    <tr>\n",
       "      <th>5</th>\n",
       "      <td>34</td>\n",
       "      <td>Private</td>\n",
       "      <td>198693</td>\n",
       "      <td>10th</td>\n",
       "      <td>Never-married</td>\n",
       "      <td>Other-service</td>\n",
       "      <td>Not-in-family</td>\n",
       "      <td>White</td>\n",
       "      <td>Male</td>\n",
       "      <td>30</td>\n",
       "      <td>United-States</td>\n",
       "      <td>&lt;=50K</td>\n",
       "      <td>0</td>\n",
       "    </tr>\n",
       "    <tr>\n",
       "      <th>...</th>\n",
       "      <td>...</td>\n",
       "      <td>...</td>\n",
       "      <td>...</td>\n",
       "      <td>...</td>\n",
       "      <td>...</td>\n",
       "      <td>...</td>\n",
       "      <td>...</td>\n",
       "      <td>...</td>\n",
       "      <td>...</td>\n",
       "      <td>...</td>\n",
       "      <td>...</td>\n",
       "      <td>...</td>\n",
       "      <td>...</td>\n",
       "    </tr>\n",
       "    <tr>\n",
       "      <th>48837</th>\n",
       "      <td>27</td>\n",
       "      <td>Private</td>\n",
       "      <td>257302</td>\n",
       "      <td>Assoc-acdm</td>\n",
       "      <td>Married-civ-spouse</td>\n",
       "      <td>Tech-support</td>\n",
       "      <td>Wife</td>\n",
       "      <td>White</td>\n",
       "      <td>Female</td>\n",
       "      <td>38</td>\n",
       "      <td>United-States</td>\n",
       "      <td>&lt;=50K</td>\n",
       "      <td>0</td>\n",
       "    </tr>\n",
       "    <tr>\n",
       "      <th>48838</th>\n",
       "      <td>40</td>\n",
       "      <td>Private</td>\n",
       "      <td>154374</td>\n",
       "      <td>HS-grad</td>\n",
       "      <td>Married-civ-spouse</td>\n",
       "      <td>Machine-op-inspct</td>\n",
       "      <td>Husband</td>\n",
       "      <td>White</td>\n",
       "      <td>Male</td>\n",
       "      <td>40</td>\n",
       "      <td>United-States</td>\n",
       "      <td>&gt;50K</td>\n",
       "      <td>1</td>\n",
       "    </tr>\n",
       "    <tr>\n",
       "      <th>48839</th>\n",
       "      <td>58</td>\n",
       "      <td>Private</td>\n",
       "      <td>151910</td>\n",
       "      <td>HS-grad</td>\n",
       "      <td>Widowed</td>\n",
       "      <td>Adm-clerical</td>\n",
       "      <td>Unmarried</td>\n",
       "      <td>White</td>\n",
       "      <td>Female</td>\n",
       "      <td>40</td>\n",
       "      <td>United-States</td>\n",
       "      <td>&lt;=50K</td>\n",
       "      <td>0</td>\n",
       "    </tr>\n",
       "    <tr>\n",
       "      <th>48840</th>\n",
       "      <td>22</td>\n",
       "      <td>Private</td>\n",
       "      <td>201490</td>\n",
       "      <td>HS-grad</td>\n",
       "      <td>Never-married</td>\n",
       "      <td>Adm-clerical</td>\n",
       "      <td>Own-child</td>\n",
       "      <td>White</td>\n",
       "      <td>Male</td>\n",
       "      <td>20</td>\n",
       "      <td>United-States</td>\n",
       "      <td>&lt;=50K</td>\n",
       "      <td>0</td>\n",
       "    </tr>\n",
       "    <tr>\n",
       "      <th>48841</th>\n",
       "      <td>52</td>\n",
       "      <td>Self-emp-inc</td>\n",
       "      <td>287927</td>\n",
       "      <td>HS-grad</td>\n",
       "      <td>Married-civ-spouse</td>\n",
       "      <td>Exec-managerial</td>\n",
       "      <td>Wife</td>\n",
       "      <td>White</td>\n",
       "      <td>Female</td>\n",
       "      <td>40</td>\n",
       "      <td>United-States</td>\n",
       "      <td>&gt;50K</td>\n",
       "      <td>1</td>\n",
       "    </tr>\n",
       "  </tbody>\n",
       "</table>\n",
       "<p>45175 rows × 13 columns</p>\n",
       "</div>"
      ],
      "text/plain": [
       "       age     workclass  fnlwgt     education      marital-status  \\\n",
       "0       25       Private  226802          11th       Never-married   \n",
       "1       38       Private   89814       HS-grad  Married-civ-spouse   \n",
       "2       28     Local-gov  336951    Assoc-acdm  Married-civ-spouse   \n",
       "3       44       Private  160323  Some-college  Married-civ-spouse   \n",
       "5       34       Private  198693          10th       Never-married   \n",
       "...    ...           ...     ...           ...                 ...   \n",
       "48837   27       Private  257302    Assoc-acdm  Married-civ-spouse   \n",
       "48838   40       Private  154374       HS-grad  Married-civ-spouse   \n",
       "48839   58       Private  151910       HS-grad             Widowed   \n",
       "48840   22       Private  201490       HS-grad       Never-married   \n",
       "48841   52  Self-emp-inc  287927       HS-grad  Married-civ-spouse   \n",
       "\n",
       "              occupation   relationship   race  gender  hours-per-week  \\\n",
       "0      Machine-op-inspct      Own-child  Black    Male              40   \n",
       "1        Farming-fishing        Husband  White    Male              50   \n",
       "2        Protective-serv        Husband  White    Male              40   \n",
       "3      Machine-op-inspct        Husband  Black    Male              40   \n",
       "5          Other-service  Not-in-family  White    Male              30   \n",
       "...                  ...            ...    ...     ...             ...   \n",
       "48837       Tech-support           Wife  White  Female              38   \n",
       "48838  Machine-op-inspct        Husband  White    Male              40   \n",
       "48839       Adm-clerical      Unmarried  White  Female              40   \n",
       "48840       Adm-clerical      Own-child  White    Male              20   \n",
       "48841    Exec-managerial           Wife  White  Female              40   \n",
       "\n",
       "      native-country income  income_flag  \n",
       "0      United-States  <=50K            0  \n",
       "1      United-States  <=50K            0  \n",
       "2      United-States   >50K            1  \n",
       "3      United-States   >50K            1  \n",
       "5      United-States  <=50K            0  \n",
       "...              ...    ...          ...  \n",
       "48837  United-States  <=50K            0  \n",
       "48838  United-States   >50K            1  \n",
       "48839  United-States  <=50K            0  \n",
       "48840  United-States  <=50K            0  \n",
       "48841  United-States   >50K            1  \n",
       "\n",
       "[45175 rows x 13 columns]"
      ]
     },
     "execution_count": 44,
     "metadata": {},
     "output_type": "execute_result"
    }
   ],
   "source": [
    "df"
   ]
  },
  {
   "cell_type": "markdown",
   "metadata": {
    "execution": {
     "iopub.execute_input": "2021-07-05T07:27:19.525063Z",
     "iopub.status.busy": "2021-07-05T07:27:19.524677Z",
     "iopub.status.idle": "2021-07-05T07:27:19.529036Z",
     "shell.execute_reply": "2021-07-05T07:27:19.527935Z",
     "shell.execute_reply.started": "2021-07-05T07:27:19.525026Z"
    },
    "papermill": {
     "duration": 0.061825,
     "end_time": "2021-07-05T07:40:05.063287",
     "exception": false,
     "start_time": "2021-07-05T07:40:05.001462",
     "status": "completed"
    },
    "tags": []
   },
   "source": [
    "#Workclass getting the highest salary"
   ]
  },
  {
   "cell_type": "code",
   "execution_count": 45,
   "metadata": {
    "execution": {
     "iopub.execute_input": "2021-07-05T07:40:05.196447Z",
     "iopub.status.busy": "2021-07-05T07:40:05.195779Z",
     "iopub.status.idle": "2021-07-05T07:40:05.203755Z",
     "shell.execute_reply": "2021-07-05T07:40:05.204345Z",
     "shell.execute_reply.started": "2021-07-05T07:38:48.034314Z"
    },
    "papermill": {
     "duration": 0.078457,
     "end_time": "2021-07-05T07:40:05.204514",
     "exception": false,
     "start_time": "2021-07-05T07:40:05.126057",
     "status": "completed"
    },
    "tags": []
   },
   "outputs": [
    {
     "data": {
      "text/plain": [
       "workclass\n",
       "Self-emp-inc        0.554407\n",
       "Federal-gov         0.390469\n",
       "Local-gov           0.295161\n",
       "Self-emp-not-inc    0.279051\n",
       "State-gov           0.267215\n",
       "Private             0.217816\n",
       "Without-pay         0.095238\n",
       "Name: income_flag, dtype: float64"
      ]
     },
     "execution_count": 45,
     "metadata": {},
     "output_type": "execute_result"
    }
   ],
   "source": [
    "df.groupby('workclass')['income_flag'].mean().sort_values(ascending=False)"
   ]
  },
  {
   "cell_type": "code",
   "execution_count": 46,
   "metadata": {
    "execution": {
     "iopub.execute_input": "2021-07-05T07:40:05.331582Z",
     "iopub.status.busy": "2021-07-05T07:40:05.330940Z",
     "iopub.status.idle": "2021-07-05T07:40:05.342510Z",
     "shell.execute_reply": "2021-07-05T07:40:05.343083Z",
     "shell.execute_reply.started": "2021-07-05T07:38:48.050096Z"
    },
    "papermill": {
     "duration": 0.077713,
     "end_time": "2021-07-05T07:40:05.343243",
     "exception": false,
     "start_time": "2021-07-05T07:40:05.265530",
     "status": "completed"
    },
    "tags": []
   },
   "outputs": [
    {
     "data": {
      "text/plain": [
       "gender\n",
       "Male      0.312609\n",
       "Female    0.113692\n",
       "Name: income_flag, dtype: float64"
      ]
     },
     "execution_count": 46,
     "metadata": {},
     "output_type": "execute_result"
    }
   ],
   "source": [
    "df.groupby('gender')['income_flag'].mean().sort_values(ascending=False)"
   ]
  },
  {
   "cell_type": "markdown",
   "metadata": {
    "execution": {
     "iopub.execute_input": "2021-07-05T07:34:32.833548Z",
     "iopub.status.busy": "2021-07-05T07:34:32.833198Z",
     "iopub.status.idle": "2021-07-05T07:34:32.837603Z",
     "shell.execute_reply": "2021-07-05T07:34:32.836196Z",
     "shell.execute_reply.started": "2021-07-05T07:34:32.833519Z"
    },
    "papermill": {
     "duration": 0.061442,
     "end_time": "2021-07-05T07:40:05.467716",
     "exception": false,
     "start_time": "2021-07-05T07:40:05.406274",
     "status": "completed"
    },
    "tags": []
   },
   "source": [
    "#Change workclass datatype to categorical"
   ]
  },
  {
   "cell_type": "code",
   "execution_count": 47,
   "metadata": {
    "execution": {
     "iopub.execute_input": "2021-07-05T07:40:05.593817Z",
     "iopub.status.busy": "2021-07-05T07:40:05.593199Z",
     "iopub.status.idle": "2021-07-05T07:40:05.607951Z",
     "shell.execute_reply": "2021-07-05T07:40:05.608522Z",
     "shell.execute_reply.started": "2021-07-05T07:38:48.065171Z"
    },
    "papermill": {
     "duration": 0.079526,
     "end_time": "2021-07-05T07:40:05.608705",
     "exception": false,
     "start_time": "2021-07-05T07:40:05.529179",
     "status": "completed"
    },
    "tags": []
   },
   "outputs": [
    {
     "data": {
      "text/plain": [
       "Federal-gov          1406\n",
       "Local-gov            3100\n",
       "Private             33262\n",
       "Self-emp-inc         1645\n",
       "Self-emp-not-inc     3795\n",
       "State-gov            1946\n",
       "Without-pay            21\n",
       "dtype: int64"
      ]
     },
     "execution_count": 47,
     "metadata": {},
     "output_type": "execute_result"
    }
   ],
   "source": [
    "pd.get_dummies(df['workclass']).sum()"
   ]
  },
  {
   "cell_type": "code",
   "execution_count": 48,
   "metadata": {
    "execution": {
     "iopub.execute_input": "2021-07-05T07:40:05.735103Z",
     "iopub.status.busy": "2021-07-05T07:40:05.734490Z",
     "iopub.status.idle": "2021-07-05T07:40:05.788914Z",
     "shell.execute_reply": "2021-07-05T07:40:05.788356Z",
     "shell.execute_reply.started": "2021-07-05T07:38:48.079874Z"
    },
    "papermill": {
     "duration": 0.118581,
     "end_time": "2021-07-05T07:40:05.789053",
     "exception": false,
     "start_time": "2021-07-05T07:40:05.670472",
     "status": "completed"
    },
    "tags": []
   },
   "outputs": [
    {
     "name": "stdout",
     "output_type": "stream",
     "text": [
      "<class 'pandas.core.frame.DataFrame'>\n",
      "Int64Index: 45175 entries, 0 to 48841\n",
      "Data columns (total 13 columns):\n",
      " #   Column          Non-Null Count  Dtype \n",
      "---  ------          --------------  ----- \n",
      " 0   age             45175 non-null  int64 \n",
      " 1   workclass       45175 non-null  object\n",
      " 2   fnlwgt          45175 non-null  int64 \n",
      " 3   education       45175 non-null  object\n",
      " 4   marital-status  45175 non-null  object\n",
      " 5   occupation      45175 non-null  object\n",
      " 6   relationship    45175 non-null  object\n",
      " 7   race            45175 non-null  object\n",
      " 8   gender          45175 non-null  object\n",
      " 9   hours-per-week  45175 non-null  int64 \n",
      " 10  native-country  45175 non-null  object\n",
      " 11  income          45175 non-null  object\n",
      " 12  income_flag     45175 non-null  int64 \n",
      "dtypes: int64(4), object(9)\n",
      "memory usage: 6.1+ MB\n"
     ]
    }
   ],
   "source": [
    "df.info()"
   ]
  },
  {
   "cell_type": "code",
   "execution_count": 49,
   "metadata": {
    "execution": {
     "iopub.execute_input": "2021-07-05T07:40:05.926638Z",
     "iopub.status.busy": "2021-07-05T07:40:05.925996Z",
     "iopub.status.idle": "2021-07-05T07:40:05.934995Z",
     "shell.execute_reply": "2021-07-05T07:40:05.935574Z",
     "shell.execute_reply.started": "2021-07-05T07:38:48.113714Z"
    },
    "papermill": {
     "duration": 0.08123,
     "end_time": "2021-07-05T07:40:05.935734",
     "exception": false,
     "start_time": "2021-07-05T07:40:05.854504",
     "status": "completed"
    },
    "tags": []
   },
   "outputs": [
    {
     "data": {
      "text/plain": [
       "0             Private\n",
       "1             Private\n",
       "2           Local-gov\n",
       "3             Private\n",
       "5             Private\n",
       "             ...     \n",
       "48837         Private\n",
       "48838         Private\n",
       "48839         Private\n",
       "48840         Private\n",
       "48841    Self-emp-inc\n",
       "Name: workclass, Length: 45175, dtype: category\n",
       "Categories (7, object): ['Federal-gov', 'Local-gov', 'Private', 'Self-emp-inc', 'Self-emp-not-inc', 'State-gov', 'Without-pay']"
      ]
     },
     "execution_count": 49,
     "metadata": {},
     "output_type": "execute_result"
    }
   ],
   "source": [
    "df['workclass'].astype('category')"
   ]
  },
  {
   "cell_type": "code",
   "execution_count": 50,
   "metadata": {
    "execution": {
     "iopub.execute_input": "2021-07-05T07:40:06.064957Z",
     "iopub.status.busy": "2021-07-05T07:40:06.064345Z",
     "iopub.status.idle": "2021-07-05T07:40:06.118686Z",
     "shell.execute_reply": "2021-07-05T07:40:06.118092Z",
     "shell.execute_reply.started": "2021-07-05T07:38:48.130060Z"
    },
    "papermill": {
     "duration": 0.120437,
     "end_time": "2021-07-05T07:40:06.118833",
     "exception": false,
     "start_time": "2021-07-05T07:40:05.998396",
     "status": "completed"
    },
    "tags": []
   },
   "outputs": [
    {
     "name": "stdout",
     "output_type": "stream",
     "text": [
      "<class 'pandas.core.frame.DataFrame'>\n",
      "Int64Index: 45175 entries, 0 to 48841\n",
      "Data columns (total 13 columns):\n",
      " #   Column          Non-Null Count  Dtype \n",
      "---  ------          --------------  ----- \n",
      " 0   age             45175 non-null  int64 \n",
      " 1   workclass       45175 non-null  object\n",
      " 2   fnlwgt          45175 non-null  int64 \n",
      " 3   education       45175 non-null  object\n",
      " 4   marital-status  45175 non-null  object\n",
      " 5   occupation      45175 non-null  object\n",
      " 6   relationship    45175 non-null  object\n",
      " 7   race            45175 non-null  object\n",
      " 8   gender          45175 non-null  object\n",
      " 9   hours-per-week  45175 non-null  int64 \n",
      " 10  native-country  45175 non-null  object\n",
      " 11  income          45175 non-null  object\n",
      " 12  income_flag     45175 non-null  int64 \n",
      "dtypes: int64(4), object(9)\n",
      "memory usage: 6.1+ MB\n"
     ]
    }
   ],
   "source": [
    "df.info()"
   ]
  }
 ],
 "metadata": {
  "kernelspec": {
   "display_name": "Python 3",
   "language": "python",
   "name": "python3"
  },
  "language_info": {
   "codemirror_mode": {
    "name": "ipython",
    "version": 3
   },
   "file_extension": ".py",
   "mimetype": "text/x-python",
   "name": "python",
   "nbconvert_exporter": "python",
   "pygments_lexer": "ipython3",
   "version": "3.8.5"
  },
  "papermill": {
   "default_parameters": {},
   "duration": 20.46991,
   "end_time": "2021-07-05T07:40:06.894369",
   "environment_variables": {},
   "exception": null,
   "input_path": "__notebook__.ipynb",
   "output_path": "__notebook__.ipynb",
   "parameters": {},
   "start_time": "2021-07-05T07:39:46.424459",
   "version": "2.3.3"
  }
 },
 "nbformat": 4,
 "nbformat_minor": 5
}
