{
 "cells": [
  {
   "cell_type": "raw",
   "id": "7569573b",
   "metadata": {
    "_cell_guid": "b1076dfc-b9ad-4769-8c92-a6c4dae69d19",
    "_uuid": "8f2839f25d086af736a60e9eeb907d3b93b6e0e5",
    "papermill": {
     "duration": 0.019729,
     "end_time": "2021-07-14T14:36:09.281518",
     "exception": false,
     "start_time": "2021-07-14T14:36:09.261789",
     "status": "completed"
    },
    "tags": []
   },
   "source": [
    "# This Python 3 environment comes with many helpful analytics libraries installed\n",
    "# It is defined by the kaggle/python Docker image: https://github.com/kaggle/docker-python\n",
    "# For example, here's several helpful packages to load\n",
    "\n",
    "import numpy as np # linear algebra\n",
    "import pandas as pd # data processing, CSV file I/O (e.g. pd.read_csv)\n",
    "\n",
    "# Input data files are available in the read-only \"../input/\" directory\n",
    "# For example, running this (by clicking run or pressing Shift+Enter) will list all files under the input directory\n",
    "\n",
    "import os\n",
    "for dirname, _, filenames in os.walk('/kaggle/input'):\n",
    "    for filename in filenames:\n",
    "        print(os.path.join(dirname, filename))\n",
    "\n",
    "# You can write up to 20GB to the current directory (/kaggle/working/) that gets preserved as output when you create a version using \"Save & Run All\" \n",
    "# You can also write temporary files to /kaggle/temp/, but they won't be saved outside of the current session"
   ]
  },
  {
   "cell_type": "markdown",
   "id": "e18cc2fa",
   "metadata": {
    "papermill": {
     "duration": 0.019541,
     "end_time": "2021-07-14T14:36:09.321166",
     "exception": false,
     "start_time": "2021-07-14T14:36:09.301625",
     "status": "completed"
    },
    "tags": []
   },
   "source": [
    "# Importing Libraries"
   ]
  },
  {
   "cell_type": "code",
   "execution_count": 1,
   "id": "822d5bb6",
   "metadata": {
    "execution": {
     "iopub.execute_input": "2021-07-14T14:36:09.371367Z",
     "iopub.status.busy": "2021-07-14T14:36:09.370636Z",
     "iopub.status.idle": "2021-07-14T14:36:10.483070Z",
     "shell.execute_reply": "2021-07-14T14:36:10.482230Z",
     "shell.execute_reply.started": "2021-07-14T14:31:23.390382Z"
    },
    "papermill": {
     "duration": 1.144478,
     "end_time": "2021-07-14T14:36:10.483256",
     "exception": false,
     "start_time": "2021-07-14T14:36:09.338778",
     "status": "completed"
    },
    "tags": []
   },
   "outputs": [],
   "source": [
    "#data processing\n",
    "import pandas as pd\n",
    "#linear algebra\n",
    "import numpy as np\n",
    "#data visualisation\n",
    "import matplotlib.pyplot as plt\n",
    "%matplotlib inline\n",
    "import seaborn as sns\n"
   ]
  },
  {
   "cell_type": "markdown",
   "id": "ec751c63",
   "metadata": {
    "execution": {
     "iopub.execute_input": "2021-07-14T07:43:04.682084Z",
     "iopub.status.busy": "2021-07-14T07:43:04.681587Z",
     "iopub.status.idle": "2021-07-14T07:43:04.687122Z",
     "shell.execute_reply": "2021-07-14T07:43:04.685878Z",
     "shell.execute_reply.started": "2021-07-14T07:43:04.682031Z"
    },
    "papermill": {
     "duration": 0.018715,
     "end_time": "2021-07-14T14:36:10.521879",
     "exception": false,
     "start_time": "2021-07-14T14:36:10.503164",
     "status": "completed"
    },
    "tags": []
   },
   "source": [
    "# Data imputing"
   ]
  },
  {
   "cell_type": "code",
   "execution_count": 2,
   "id": "1f611c69",
   "metadata": {
    "execution": {
     "iopub.execute_input": "2021-07-14T14:36:10.566706Z",
     "iopub.status.busy": "2021-07-14T14:36:10.565881Z",
     "iopub.status.idle": "2021-07-14T14:36:10.622278Z",
     "shell.execute_reply": "2021-07-14T14:36:10.621662Z",
     "shell.execute_reply.started": "2021-07-14T14:31:24.440509Z"
    },
    "papermill": {
     "duration": 0.08088,
     "end_time": "2021-07-14T14:36:10.622486",
     "exception": false,
     "start_time": "2021-07-14T14:36:10.541606",
     "status": "completed"
    },
    "tags": []
   },
   "outputs": [],
   "source": [
    "#loading datasets\n",
    "orders=pd.read_csv('../input/retail-store-analysis/TR_OrderDetails.csv')\n",
    "products=pd.read_csv('../input/retail-store-analysis/TR_Products.csv')\n",
    "props=pd.read_csv('../input/retail-store-analysis/TR_PropertyInfo.csv')"
   ]
  },
  {
   "cell_type": "code",
   "execution_count": 3,
   "id": "13cbf119",
   "metadata": {
    "execution": {
     "iopub.execute_input": "2021-07-14T14:36:10.667506Z",
     "iopub.status.busy": "2021-07-14T14:36:10.666382Z",
     "iopub.status.idle": "2021-07-14T14:36:10.672765Z",
     "shell.execute_reply": "2021-07-14T14:36:10.671918Z",
     "shell.execute_reply.started": "2021-07-14T14:31:24.506028Z"
    },
    "papermill": {
     "duration": 0.031208,
     "end_time": "2021-07-14T14:36:10.672972",
     "exception": false,
     "start_time": "2021-07-14T14:36:10.641764",
     "status": "completed"
    },
    "tags": []
   },
   "outputs": [
    {
     "name": "stdout",
     "output_type": "stream",
     "text": [
      "Orders, Products and Props datasets have (5000, 5) (94, 4) (20, 3) rows and columns respectively\n"
     ]
    }
   ],
   "source": [
    "#understanding shape of the data\n",
    "print('Orders, Products and Props datasets have',orders.shape,products.shape,props.shape,'rows and columns respectively')"
   ]
  },
  {
   "cell_type": "code",
   "execution_count": 4,
   "id": "de98aa1c",
   "metadata": {
    "execution": {
     "iopub.execute_input": "2021-07-14T14:36:10.730179Z",
     "iopub.status.busy": "2021-07-14T14:36:10.729475Z",
     "iopub.status.idle": "2021-07-14T14:36:10.766764Z",
     "shell.execute_reply": "2021-07-14T14:36:10.765940Z",
     "shell.execute_reply.started": "2021-07-14T14:31:24.513649Z"
    },
    "papermill": {
     "duration": 0.074408,
     "end_time": "2021-07-14T14:36:10.766933",
     "exception": false,
     "start_time": "2021-07-14T14:36:10.692525",
     "status": "completed"
    },
    "tags": []
   },
   "outputs": [
    {
     "data": {
      "text/html": [
       "<div>\n",
       "<style scoped>\n",
       "    .dataframe tbody tr th:only-of-type {\n",
       "        vertical-align: middle;\n",
       "    }\n",
       "\n",
       "    .dataframe tbody tr th {\n",
       "        vertical-align: top;\n",
       "    }\n",
       "\n",
       "    .dataframe thead th {\n",
       "        text-align: right;\n",
       "    }\n",
       "</style>\n",
       "<table border=\"1\" class=\"dataframe\">\n",
       "  <thead>\n",
       "    <tr style=\"text-align: right;\">\n",
       "      <th></th>\n",
       "      <th>OrderID</th>\n",
       "      <th>OrderDate</th>\n",
       "      <th>PropertyID</th>\n",
       "      <th>ProductID</th>\n",
       "      <th>Quantity</th>\n",
       "      <th>ProductName</th>\n",
       "      <th>ProductCategory</th>\n",
       "      <th>Price</th>\n",
       "    </tr>\n",
       "  </thead>\n",
       "  <tbody>\n",
       "    <tr>\n",
       "      <th>0</th>\n",
       "      <td>1</td>\n",
       "      <td>01-01-2015</td>\n",
       "      <td>17</td>\n",
       "      <td>41</td>\n",
       "      <td>1</td>\n",
       "      <td>Office Chair</td>\n",
       "      <td>Furnishings</td>\n",
       "      <td>85</td>\n",
       "    </tr>\n",
       "    <tr>\n",
       "      <th>1</th>\n",
       "      <td>2</td>\n",
       "      <td>01-01-2015</td>\n",
       "      <td>15</td>\n",
       "      <td>54</td>\n",
       "      <td>2</td>\n",
       "      <td>Chest of Drawers</td>\n",
       "      <td>Furnishings</td>\n",
       "      <td>150</td>\n",
       "    </tr>\n",
       "    <tr>\n",
       "      <th>2</th>\n",
       "      <td>3</td>\n",
       "      <td>01-01-2015</td>\n",
       "      <td>5</td>\n",
       "      <td>71</td>\n",
       "      <td>2</td>\n",
       "      <td>Hammer</td>\n",
       "      <td>Maintenance</td>\n",
       "      <td>17</td>\n",
       "    </tr>\n",
       "    <tr>\n",
       "      <th>3</th>\n",
       "      <td>4</td>\n",
       "      <td>01-01-2015</td>\n",
       "      <td>19</td>\n",
       "      <td>3</td>\n",
       "      <td>2</td>\n",
       "      <td>Washcloth</td>\n",
       "      <td>Housekeeping</td>\n",
       "      <td>3</td>\n",
       "    </tr>\n",
       "    <tr>\n",
       "      <th>4</th>\n",
       "      <td>5</td>\n",
       "      <td>01-01-2015</td>\n",
       "      <td>12</td>\n",
       "      <td>45</td>\n",
       "      <td>3</td>\n",
       "      <td>Computer Desk</td>\n",
       "      <td>Furnishings</td>\n",
       "      <td>102</td>\n",
       "    </tr>\n",
       "  </tbody>\n",
       "</table>\n",
       "</div>"
      ],
      "text/plain": [
       "   OrderID   OrderDate  PropertyID  ProductID  Quantity       ProductName  \\\n",
       "0        1  01-01-2015          17         41         1      Office Chair   \n",
       "1        2  01-01-2015          15         54         2  Chest of Drawers   \n",
       "2        3  01-01-2015           5         71         2            Hammer   \n",
       "3        4  01-01-2015          19          3         2         Washcloth   \n",
       "4        5  01-01-2015          12         45         3     Computer Desk   \n",
       "\n",
       "  ProductCategory  Price  \n",
       "0     Furnishings     85  \n",
       "1     Furnishings    150  \n",
       "2     Maintenance     17  \n",
       "3    Housekeeping      3  \n",
       "4     Furnishings    102  "
      ]
     },
     "execution_count": 4,
     "metadata": {},
     "output_type": "execute_result"
    }
   ],
   "source": [
    "#merging the datasets\n",
    "df=orders.merge(products,left_on='ProductID',right_on='ProductID',how='left')\n",
    "df.head()"
   ]
  },
  {
   "cell_type": "code",
   "execution_count": 5,
   "id": "94fc56b6",
   "metadata": {
    "execution": {
     "iopub.execute_input": "2021-07-14T14:36:10.815150Z",
     "iopub.status.busy": "2021-07-14T14:36:10.814365Z",
     "iopub.status.idle": "2021-07-14T14:36:10.842293Z",
     "shell.execute_reply": "2021-07-14T14:36:10.840816Z",
     "shell.execute_reply.started": "2021-07-14T14:31:24.567289Z"
    },
    "papermill": {
     "duration": 0.056835,
     "end_time": "2021-07-14T14:36:10.842505",
     "exception": false,
     "start_time": "2021-07-14T14:36:10.785670",
     "status": "completed"
    },
    "tags": []
   },
   "outputs": [
    {
     "data": {
      "text/html": [
       "<div>\n",
       "<style scoped>\n",
       "    .dataframe tbody tr th:only-of-type {\n",
       "        vertical-align: middle;\n",
       "    }\n",
       "\n",
       "    .dataframe tbody tr th {\n",
       "        vertical-align: top;\n",
       "    }\n",
       "\n",
       "    .dataframe thead th {\n",
       "        text-align: right;\n",
       "    }\n",
       "</style>\n",
       "<table border=\"1\" class=\"dataframe\">\n",
       "  <thead>\n",
       "    <tr style=\"text-align: right;\">\n",
       "      <th></th>\n",
       "      <th>OrderID</th>\n",
       "      <th>OrderDate</th>\n",
       "      <th>PropertyID</th>\n",
       "      <th>ProductID</th>\n",
       "      <th>Quantity</th>\n",
       "      <th>ProductName</th>\n",
       "      <th>ProductCategory</th>\n",
       "      <th>Price</th>\n",
       "      <th>Prop ID</th>\n",
       "      <th>PropertyCity</th>\n",
       "      <th>PropertyState</th>\n",
       "    </tr>\n",
       "  </thead>\n",
       "  <tbody>\n",
       "    <tr>\n",
       "      <th>0</th>\n",
       "      <td>1</td>\n",
       "      <td>01-01-2015</td>\n",
       "      <td>17</td>\n",
       "      <td>41</td>\n",
       "      <td>1</td>\n",
       "      <td>Office Chair</td>\n",
       "      <td>Furnishings</td>\n",
       "      <td>85</td>\n",
       "      <td>17</td>\n",
       "      <td>Las Vegas</td>\n",
       "      <td>Nevada</td>\n",
       "    </tr>\n",
       "    <tr>\n",
       "      <th>1</th>\n",
       "      <td>2</td>\n",
       "      <td>01-01-2015</td>\n",
       "      <td>15</td>\n",
       "      <td>54</td>\n",
       "      <td>2</td>\n",
       "      <td>Chest of Drawers</td>\n",
       "      <td>Furnishings</td>\n",
       "      <td>150</td>\n",
       "      <td>15</td>\n",
       "      <td>Chicago</td>\n",
       "      <td>Illinois</td>\n",
       "    </tr>\n",
       "    <tr>\n",
       "      <th>2</th>\n",
       "      <td>3</td>\n",
       "      <td>01-01-2015</td>\n",
       "      <td>5</td>\n",
       "      <td>71</td>\n",
       "      <td>2</td>\n",
       "      <td>Hammer</td>\n",
       "      <td>Maintenance</td>\n",
       "      <td>17</td>\n",
       "      <td>5</td>\n",
       "      <td>Kansas City</td>\n",
       "      <td>Missouri</td>\n",
       "    </tr>\n",
       "    <tr>\n",
       "      <th>3</th>\n",
       "      <td>4</td>\n",
       "      <td>01-01-2015</td>\n",
       "      <td>19</td>\n",
       "      <td>3</td>\n",
       "      <td>2</td>\n",
       "      <td>Washcloth</td>\n",
       "      <td>Housekeeping</td>\n",
       "      <td>3</td>\n",
       "      <td>19</td>\n",
       "      <td>Los Angeles</td>\n",
       "      <td>California</td>\n",
       "    </tr>\n",
       "    <tr>\n",
       "      <th>4</th>\n",
       "      <td>5</td>\n",
       "      <td>01-01-2015</td>\n",
       "      <td>12</td>\n",
       "      <td>45</td>\n",
       "      <td>3</td>\n",
       "      <td>Computer Desk</td>\n",
       "      <td>Furnishings</td>\n",
       "      <td>102</td>\n",
       "      <td>12</td>\n",
       "      <td>Dallas</td>\n",
       "      <td>Texas</td>\n",
       "    </tr>\n",
       "  </tbody>\n",
       "</table>\n",
       "</div>"
      ],
      "text/plain": [
       "   OrderID   OrderDate  PropertyID  ProductID  Quantity       ProductName  \\\n",
       "0        1  01-01-2015          17         41         1      Office Chair   \n",
       "1        2  01-01-2015          15         54         2  Chest of Drawers   \n",
       "2        3  01-01-2015           5         71         2            Hammer   \n",
       "3        4  01-01-2015          19          3         2         Washcloth   \n",
       "4        5  01-01-2015          12         45         3     Computer Desk   \n",
       "\n",
       "  ProductCategory  Price  Prop ID PropertyCity PropertyState  \n",
       "0     Furnishings     85       17    Las Vegas        Nevada  \n",
       "1     Furnishings    150       15      Chicago      Illinois  \n",
       "2     Maintenance     17        5  Kansas City      Missouri  \n",
       "3    Housekeeping      3       19  Los Angeles    California  \n",
       "4     Furnishings    102       12       Dallas         Texas  "
      ]
     },
     "execution_count": 5,
     "metadata": {},
     "output_type": "execute_result"
    }
   ],
   "source": [
    "data=df.merge(props,left_on='PropertyID',right_on='Prop ID',how='left')\n",
    "data.head()"
   ]
  },
  {
   "cell_type": "code",
   "execution_count": 6,
   "id": "bc2eabd6",
   "metadata": {
    "execution": {
     "iopub.execute_input": "2021-07-14T14:36:10.890819Z",
     "iopub.status.busy": "2021-07-14T14:36:10.890049Z",
     "iopub.status.idle": "2021-07-14T14:36:10.930265Z",
     "shell.execute_reply": "2021-07-14T14:36:10.929424Z",
     "shell.execute_reply.started": "2021-07-14T14:31:24.590001Z"
    },
    "papermill": {
     "duration": 0.067617,
     "end_time": "2021-07-14T14:36:10.930718",
     "exception": false,
     "start_time": "2021-07-14T14:36:10.863101",
     "status": "completed"
    },
    "tags": []
   },
   "outputs": [
    {
     "data": {
      "text/html": [
       "<div>\n",
       "<style scoped>\n",
       "    .dataframe tbody tr th:only-of-type {\n",
       "        vertical-align: middle;\n",
       "    }\n",
       "\n",
       "    .dataframe tbody tr th {\n",
       "        vertical-align: top;\n",
       "    }\n",
       "\n",
       "    .dataframe thead th {\n",
       "        text-align: right;\n",
       "    }\n",
       "</style>\n",
       "<table border=\"1\" class=\"dataframe\">\n",
       "  <thead>\n",
       "    <tr style=\"text-align: right;\">\n",
       "      <th></th>\n",
       "      <th>OrderID</th>\n",
       "      <th>OrderDate</th>\n",
       "      <th>PropertyID</th>\n",
       "      <th>ProductID</th>\n",
       "      <th>Quantity</th>\n",
       "      <th>ProductName</th>\n",
       "      <th>ProductCategory</th>\n",
       "      <th>Price</th>\n",
       "      <th>Prop ID</th>\n",
       "      <th>PropertyCity</th>\n",
       "      <th>PropertyState</th>\n",
       "      <th>Total Sales</th>\n",
       "    </tr>\n",
       "  </thead>\n",
       "  <tbody>\n",
       "    <tr>\n",
       "      <th>0</th>\n",
       "      <td>1</td>\n",
       "      <td>01-01-2015</td>\n",
       "      <td>17</td>\n",
       "      <td>41</td>\n",
       "      <td>1</td>\n",
       "      <td>Office Chair</td>\n",
       "      <td>Furnishings</td>\n",
       "      <td>85</td>\n",
       "      <td>17</td>\n",
       "      <td>Las Vegas</td>\n",
       "      <td>Nevada</td>\n",
       "      <td>17</td>\n",
       "    </tr>\n",
       "    <tr>\n",
       "      <th>1</th>\n",
       "      <td>2</td>\n",
       "      <td>01-01-2015</td>\n",
       "      <td>15</td>\n",
       "      <td>54</td>\n",
       "      <td>2</td>\n",
       "      <td>Chest of Drawers</td>\n",
       "      <td>Furnishings</td>\n",
       "      <td>150</td>\n",
       "      <td>15</td>\n",
       "      <td>Chicago</td>\n",
       "      <td>Illinois</td>\n",
       "      <td>30</td>\n",
       "    </tr>\n",
       "    <tr>\n",
       "      <th>2</th>\n",
       "      <td>3</td>\n",
       "      <td>01-01-2015</td>\n",
       "      <td>5</td>\n",
       "      <td>71</td>\n",
       "      <td>2</td>\n",
       "      <td>Hammer</td>\n",
       "      <td>Maintenance</td>\n",
       "      <td>17</td>\n",
       "      <td>5</td>\n",
       "      <td>Kansas City</td>\n",
       "      <td>Missouri</td>\n",
       "      <td>10</td>\n",
       "    </tr>\n",
       "    <tr>\n",
       "      <th>3</th>\n",
       "      <td>4</td>\n",
       "      <td>01-01-2015</td>\n",
       "      <td>19</td>\n",
       "      <td>3</td>\n",
       "      <td>2</td>\n",
       "      <td>Washcloth</td>\n",
       "      <td>Housekeeping</td>\n",
       "      <td>3</td>\n",
       "      <td>19</td>\n",
       "      <td>Los Angeles</td>\n",
       "      <td>California</td>\n",
       "      <td>38</td>\n",
       "    </tr>\n",
       "    <tr>\n",
       "      <th>4</th>\n",
       "      <td>5</td>\n",
       "      <td>01-01-2015</td>\n",
       "      <td>12</td>\n",
       "      <td>45</td>\n",
       "      <td>3</td>\n",
       "      <td>Computer Desk</td>\n",
       "      <td>Furnishings</td>\n",
       "      <td>102</td>\n",
       "      <td>12</td>\n",
       "      <td>Dallas</td>\n",
       "      <td>Texas</td>\n",
       "      <td>36</td>\n",
       "    </tr>\n",
       "  </tbody>\n",
       "</table>\n",
       "</div>"
      ],
      "text/plain": [
       "   OrderID   OrderDate  PropertyID  ProductID  Quantity       ProductName  \\\n",
       "0        1  01-01-2015          17         41         1      Office Chair   \n",
       "1        2  01-01-2015          15         54         2  Chest of Drawers   \n",
       "2        3  01-01-2015           5         71         2            Hammer   \n",
       "3        4  01-01-2015          19          3         2         Washcloth   \n",
       "4        5  01-01-2015          12         45         3     Computer Desk   \n",
       "\n",
       "  ProductCategory  Price  Prop ID PropertyCity PropertyState  Total Sales  \n",
       "0     Furnishings     85       17    Las Vegas        Nevada           17  \n",
       "1     Furnishings    150       15      Chicago      Illinois           30  \n",
       "2     Maintenance     17        5  Kansas City      Missouri           10  \n",
       "3    Housekeeping      3       19  Los Angeles    California           38  \n",
       "4     Furnishings    102       12       Dallas         Texas           36  "
      ]
     },
     "execution_count": 6,
     "metadata": {},
     "output_type": "execute_result"
    }
   ],
   "source": [
    "#Calculating Total Sales\n",
    "data['Total Sales']= data['Quantity']*data['Prop ID']\n",
    "data.head()"
   ]
  },
  {
   "cell_type": "code",
   "execution_count": 7,
   "id": "ab83385d",
   "metadata": {
    "execution": {
     "iopub.execute_input": "2021-07-14T14:36:10.979820Z",
     "iopub.status.busy": "2021-07-14T14:36:10.978763Z",
     "iopub.status.idle": "2021-07-14T14:36:10.984780Z",
     "shell.execute_reply": "2021-07-14T14:36:10.984216Z",
     "shell.execute_reply.started": "2021-07-14T14:31:24.623895Z"
    },
    "papermill": {
     "duration": 0.032422,
     "end_time": "2021-07-14T14:36:10.984954",
     "exception": false,
     "start_time": "2021-07-14T14:36:10.952532",
     "status": "completed"
    },
    "tags": []
   },
   "outputs": [
    {
     "data": {
      "text/plain": [
       "(5000, 12)"
      ]
     },
     "execution_count": 7,
     "metadata": {},
     "output_type": "execute_result"
    }
   ],
   "source": [
    "data.shape"
   ]
  },
  {
   "cell_type": "code",
   "execution_count": 8,
   "id": "c721482a",
   "metadata": {
    "execution": {
     "iopub.execute_input": "2021-07-14T14:36:11.046395Z",
     "iopub.status.busy": "2021-07-14T14:36:11.045295Z",
     "iopub.status.idle": "2021-07-14T14:36:11.065964Z",
     "shell.execute_reply": "2021-07-14T14:36:11.066638Z",
     "shell.execute_reply.started": "2021-07-14T14:31:24.632990Z"
    },
    "papermill": {
     "duration": 0.054987,
     "end_time": "2021-07-14T14:36:11.066840",
     "exception": false,
     "start_time": "2021-07-14T14:36:11.011853",
     "status": "completed"
    },
    "tags": []
   },
   "outputs": [
    {
     "name": "stdout",
     "output_type": "stream",
     "text": [
      "<class 'pandas.core.frame.DataFrame'>\n",
      "Int64Index: 5000 entries, 0 to 4999\n",
      "Data columns (total 12 columns):\n",
      " #   Column           Non-Null Count  Dtype \n",
      "---  ------           --------------  ----- \n",
      " 0   OrderID          5000 non-null   int64 \n",
      " 1   OrderDate        5000 non-null   object\n",
      " 2   PropertyID       5000 non-null   int64 \n",
      " 3   ProductID        5000 non-null   int64 \n",
      " 4   Quantity         5000 non-null   int64 \n",
      " 5   ProductName      5000 non-null   object\n",
      " 6   ProductCategory  5000 non-null   object\n",
      " 7   Price            5000 non-null   int64 \n",
      " 8   Prop ID          5000 non-null   int64 \n",
      " 9   PropertyCity     5000 non-null   object\n",
      " 10  PropertyState    5000 non-null   object\n",
      " 11  Total Sales      5000 non-null   int64 \n",
      "dtypes: int64(7), object(5)\n",
      "memory usage: 507.8+ KB\n"
     ]
    }
   ],
   "source": [
    "data.info()"
   ]
  },
  {
   "cell_type": "code",
   "execution_count": 9,
   "id": "7090f8db",
   "metadata": {
    "execution": {
     "iopub.execute_input": "2021-07-14T14:36:11.119031Z",
     "iopub.status.busy": "2021-07-14T14:36:11.118349Z",
     "iopub.status.idle": "2021-07-14T14:36:11.159859Z",
     "shell.execute_reply": "2021-07-14T14:36:11.159044Z",
     "shell.execute_reply.started": "2021-07-14T14:31:24.664822Z"
    },
    "papermill": {
     "duration": 0.072058,
     "end_time": "2021-07-14T14:36:11.160013",
     "exception": false,
     "start_time": "2021-07-14T14:36:11.087955",
     "status": "completed"
    },
    "tags": []
   },
   "outputs": [
    {
     "data": {
      "text/html": [
       "<div>\n",
       "<style scoped>\n",
       "    .dataframe tbody tr th:only-of-type {\n",
       "        vertical-align: middle;\n",
       "    }\n",
       "\n",
       "    .dataframe tbody tr th {\n",
       "        vertical-align: top;\n",
       "    }\n",
       "\n",
       "    .dataframe thead th {\n",
       "        text-align: right;\n",
       "    }\n",
       "</style>\n",
       "<table border=\"1\" class=\"dataframe\">\n",
       "  <thead>\n",
       "    <tr style=\"text-align: right;\">\n",
       "      <th></th>\n",
       "      <th>OrderID</th>\n",
       "      <th>PropertyID</th>\n",
       "      <th>ProductID</th>\n",
       "      <th>Quantity</th>\n",
       "      <th>Price</th>\n",
       "      <th>Prop ID</th>\n",
       "      <th>Total Sales</th>\n",
       "    </tr>\n",
       "  </thead>\n",
       "  <tbody>\n",
       "    <tr>\n",
       "      <th>count</th>\n",
       "      <td>5000.000000</td>\n",
       "      <td>5000.000000</td>\n",
       "      <td>5000.000000</td>\n",
       "      <td>5000.000000</td>\n",
       "      <td>5000.000000</td>\n",
       "      <td>5000.000000</td>\n",
       "      <td>5000.000000</td>\n",
       "    </tr>\n",
       "    <tr>\n",
       "      <th>mean</th>\n",
       "      <td>2500.500000</td>\n",
       "      <td>10.541400</td>\n",
       "      <td>47.162600</td>\n",
       "      <td>2.019200</td>\n",
       "      <td>52.919000</td>\n",
       "      <td>10.541400</td>\n",
       "      <td>21.145800</td>\n",
       "    </tr>\n",
       "    <tr>\n",
       "      <th>std</th>\n",
       "      <td>1443.520003</td>\n",
       "      <td>5.719478</td>\n",
       "      <td>27.355004</td>\n",
       "      <td>0.811519</td>\n",
       "      <td>57.552297</td>\n",
       "      <td>5.719478</td>\n",
       "      <td>14.786746</td>\n",
       "    </tr>\n",
       "    <tr>\n",
       "      <th>min</th>\n",
       "      <td>1.000000</td>\n",
       "      <td>1.000000</td>\n",
       "      <td>1.000000</td>\n",
       "      <td>1.000000</td>\n",
       "      <td>3.000000</td>\n",
       "      <td>1.000000</td>\n",
       "      <td>1.000000</td>\n",
       "    </tr>\n",
       "    <tr>\n",
       "      <th>25%</th>\n",
       "      <td>1250.750000</td>\n",
       "      <td>6.000000</td>\n",
       "      <td>23.000000</td>\n",
       "      <td>1.000000</td>\n",
       "      <td>17.000000</td>\n",
       "      <td>6.000000</td>\n",
       "      <td>9.000000</td>\n",
       "    </tr>\n",
       "    <tr>\n",
       "      <th>50%</th>\n",
       "      <td>2500.500000</td>\n",
       "      <td>11.000000</td>\n",
       "      <td>47.000000</td>\n",
       "      <td>2.000000</td>\n",
       "      <td>30.000000</td>\n",
       "      <td>11.000000</td>\n",
       "      <td>18.000000</td>\n",
       "    </tr>\n",
       "    <tr>\n",
       "      <th>75%</th>\n",
       "      <td>3750.250000</td>\n",
       "      <td>15.000000</td>\n",
       "      <td>70.000000</td>\n",
       "      <td>3.000000</td>\n",
       "      <td>75.000000</td>\n",
       "      <td>15.000000</td>\n",
       "      <td>30.000000</td>\n",
       "    </tr>\n",
       "    <tr>\n",
       "      <th>max</th>\n",
       "      <td>5000.000000</td>\n",
       "      <td>20.000000</td>\n",
       "      <td>94.000000</td>\n",
       "      <td>3.000000</td>\n",
       "      <td>300.000000</td>\n",
       "      <td>20.000000</td>\n",
       "      <td>60.000000</td>\n",
       "    </tr>\n",
       "  </tbody>\n",
       "</table>\n",
       "</div>"
      ],
      "text/plain": [
       "           OrderID   PropertyID    ProductID     Quantity        Price  \\\n",
       "count  5000.000000  5000.000000  5000.000000  5000.000000  5000.000000   \n",
       "mean   2500.500000    10.541400    47.162600     2.019200    52.919000   \n",
       "std    1443.520003     5.719478    27.355004     0.811519    57.552297   \n",
       "min       1.000000     1.000000     1.000000     1.000000     3.000000   \n",
       "25%    1250.750000     6.000000    23.000000     1.000000    17.000000   \n",
       "50%    2500.500000    11.000000    47.000000     2.000000    30.000000   \n",
       "75%    3750.250000    15.000000    70.000000     3.000000    75.000000   \n",
       "max    5000.000000    20.000000    94.000000     3.000000   300.000000   \n",
       "\n",
       "           Prop ID  Total Sales  \n",
       "count  5000.000000  5000.000000  \n",
       "mean     10.541400    21.145800  \n",
       "std       5.719478    14.786746  \n",
       "min       1.000000     1.000000  \n",
       "25%       6.000000     9.000000  \n",
       "50%      11.000000    18.000000  \n",
       "75%      15.000000    30.000000  \n",
       "max      20.000000    60.000000  "
      ]
     },
     "execution_count": 9,
     "metadata": {},
     "output_type": "execute_result"
    }
   ],
   "source": [
    "data.describe()"
   ]
  },
  {
   "cell_type": "code",
   "execution_count": 10,
   "id": "3e69d43a",
   "metadata": {
    "execution": {
     "iopub.execute_input": "2021-07-14T14:36:11.216804Z",
     "iopub.status.busy": "2021-07-14T14:36:11.215876Z",
     "iopub.status.idle": "2021-07-14T14:36:11.220540Z",
     "shell.execute_reply": "2021-07-14T14:36:11.221043Z",
     "shell.execute_reply.started": "2021-07-14T14:31:24.708410Z"
    },
    "papermill": {
     "duration": 0.039302,
     "end_time": "2021-07-14T14:36:11.221239",
     "exception": false,
     "start_time": "2021-07-14T14:36:11.181937",
     "status": "completed"
    },
    "tags": []
   },
   "outputs": [
    {
     "data": {
      "text/plain": [
       "OrderID            0\n",
       "OrderDate          0\n",
       "PropertyID         0\n",
       "ProductID          0\n",
       "Quantity           0\n",
       "ProductName        0\n",
       "ProductCategory    0\n",
       "Price              0\n",
       "Prop ID            0\n",
       "PropertyCity       0\n",
       "PropertyState      0\n",
       "Total Sales        0\n",
       "dtype: int64"
      ]
     },
     "execution_count": 10,
     "metadata": {},
     "output_type": "execute_result"
    }
   ],
   "source": [
    "#check for nulls\n",
    "data.isnull().sum()"
   ]
  },
  {
   "cell_type": "code",
   "execution_count": 11,
   "id": "48e6cd10",
   "metadata": {
    "execution": {
     "iopub.execute_input": "2021-07-14T14:36:11.274926Z",
     "iopub.status.busy": "2021-07-14T14:36:11.274179Z",
     "iopub.status.idle": "2021-07-14T14:36:11.282275Z",
     "shell.execute_reply": "2021-07-14T14:36:11.281139Z",
     "shell.execute_reply.started": "2021-07-14T14:31:24.721761Z"
    },
    "papermill": {
     "duration": 0.036532,
     "end_time": "2021-07-14T14:36:11.282547",
     "exception": false,
     "start_time": "2021-07-14T14:36:11.246015",
     "status": "completed"
    },
    "tags": []
   },
   "outputs": [
    {
     "data": {
      "text/plain": [
       "3"
      ]
     },
     "execution_count": 11,
     "metadata": {},
     "output_type": "execute_result"
    }
   ],
   "source": [
    "#1. Maximum quantity sold in any transaction\n",
    "data['Quantity'].max()"
   ]
  },
  {
   "cell_type": "code",
   "execution_count": 12,
   "id": "f6d78abc",
   "metadata": {
    "execution": {
     "iopub.execute_input": "2021-07-14T14:36:11.333965Z",
     "iopub.status.busy": "2021-07-14T14:36:11.333015Z",
     "iopub.status.idle": "2021-07-14T14:36:11.338650Z",
     "shell.execute_reply": "2021-07-14T14:36:11.339189Z",
     "shell.execute_reply.started": "2021-07-14T14:31:24.733662Z"
    },
    "papermill": {
     "duration": 0.035355,
     "end_time": "2021-07-14T14:36:11.339727",
     "exception": false,
     "start_time": "2021-07-14T14:36:11.304372",
     "status": "completed"
    },
    "tags": []
   },
   "outputs": [
    {
     "name": "stdout",
     "output_type": "stream",
     "text": [
      "There are 94 unique products in the store\n"
     ]
    }
   ],
   "source": [
    "#2. Unique products in all the transactions\n",
    "print(\"There are\" ,data['ProductName'].nunique(),\"unique products in the store\")"
   ]
  },
  {
   "cell_type": "code",
   "execution_count": 13,
   "id": "893e6ffe",
   "metadata": {
    "execution": {
     "iopub.execute_input": "2021-07-14T14:36:11.392994Z",
     "iopub.status.busy": "2021-07-14T14:36:11.391864Z",
     "iopub.status.idle": "2021-07-14T14:36:11.396815Z",
     "shell.execute_reply": "2021-07-14T14:36:11.396207Z",
     "shell.execute_reply.started": "2021-07-14T14:31:24.750344Z"
    },
    "papermill": {
     "duration": 0.034684,
     "end_time": "2021-07-14T14:36:11.397006",
     "exception": false,
     "start_time": "2021-07-14T14:36:11.362322",
     "status": "completed"
    },
    "tags": []
   },
   "outputs": [
    {
     "data": {
      "text/plain": [
       "<bound method Series.unique of 0           Office Chair\n",
       "1       Chest of Drawers\n",
       "2                 Hammer\n",
       "3              Washcloth\n",
       "4          Computer Desk\n",
       "              ...       \n",
       "4995        Swivel Chair\n",
       "4996     Wireless Router\n",
       "4997      Large Area Rug\n",
       "4998     Wireless Router\n",
       "4999             Tissues\n",
       "Name: ProductName, Length: 5000, dtype: object>"
      ]
     },
     "execution_count": 13,
     "metadata": {},
     "output_type": "execute_result"
    }
   ],
   "source": [
    "data['ProductName'].unique"
   ]
  },
  {
   "cell_type": "code",
   "execution_count": 14,
   "id": "bd75ac55",
   "metadata": {
    "execution": {
     "iopub.execute_input": "2021-07-14T14:36:11.451381Z",
     "iopub.status.busy": "2021-07-14T14:36:11.450717Z",
     "iopub.status.idle": "2021-07-14T14:36:11.719375Z",
     "shell.execute_reply": "2021-07-14T14:36:11.718802Z",
     "shell.execute_reply.started": "2021-07-14T14:31:24.767058Z"
    },
    "papermill": {
     "duration": 0.299748,
     "end_time": "2021-07-14T14:36:11.719559",
     "exception": false,
     "start_time": "2021-07-14T14:36:11.419811",
     "status": "completed"
    },
    "tags": []
   },
   "outputs": [
    {
     "data": {
      "image/png": "[encoded data removed]",
      "text/plain": [
       "<Figure size 864x216 with 1 Axes>"
      ]
     },
     "metadata": {
      "needs_background": "light"
     },
     "output_type": "display_data"
    }
   ],
   "source": [
    "#Total sales of each product\n",
    "#By quantity\n",
    "Top_by_quant=pd.DataFrame(data.groupby(['ProductName']).sum()['Quantity']).sort_values(by='Quantity',ascending=False)\n",
    "Top_by_quant=Top_by_quant.reset_index()\n",
    "#Plotting Top 10\n",
    "plt.figure(figsize=(12,3))\n",
    "sns.barplot(data=Top_by_quant.head(10),x='ProductName',y='Quantity',palette='rocket').set(title='Top 10 Products by Quantity')\n",
    "plt.xticks(rotation=90)\n",
    "plt.show()"
   ]
  },
  {
   "cell_type": "code",
   "execution_count": 15,
   "id": "b776f8d1",
   "metadata": {
    "execution": {
     "iopub.execute_input": "2021-07-14T14:36:11.776343Z",
     "iopub.status.busy": "2021-07-14T14:36:11.775637Z",
     "iopub.status.idle": "2021-07-14T14:36:12.027102Z",
     "shell.execute_reply": "2021-07-14T14:36:12.026354Z",
     "shell.execute_reply.started": "2021-07-14T14:31:25.051769Z"
    },
    "papermill": {
     "duration": 0.284448,
     "end_time": "2021-07-14T14:36:12.027255",
     "exception": false,
     "start_time": "2021-07-14T14:36:11.742807",
     "status": "completed"
    },
    "tags": []
   },
   "outputs": [
    {
     "data": {
      "image/png": "[encoded data removed]",
      "text/plain": [
       "<Figure size 864x216 with 1 Axes>"
      ]
     },
     "metadata": {
      "needs_background": "light"
     },
     "output_type": "display_data"
    }
   ],
   "source": [
    "#By Sales\n",
    "Top_by_sales=pd.DataFrame(data.groupby(['ProductName']).sum()['Total Sales']).sort_values(by='Total Sales',ascending=False)\n",
    "Top_by_sales=Top_by_sales.reset_index()\n",
    "#Plotting Top 10\n",
    "plt.figure(figsize=(12,3))\n",
    "sns.barplot(data=Top_by_sales.head(10),x='ProductName',y='Total Sales',palette='mako').set(title='Top 10 Products by Dollar Sales')\n",
    "plt.xticks(rotation=90)\n",
    "plt.show()"
   ]
  },
  {
   "cell_type": "code",
   "execution_count": 16,
   "id": "cfd213ff",
   "metadata": {
    "execution": {
     "iopub.execute_input": "2021-07-14T14:36:12.089888Z",
     "iopub.status.busy": "2021-07-14T14:36:12.088957Z",
     "iopub.status.idle": "2021-07-14T14:36:12.105593Z",
     "shell.execute_reply": "2021-07-14T14:36:12.104836Z",
     "shell.execute_reply.started": "2021-07-14T14:31:25.324915Z"
    },
    "papermill": {
     "duration": 0.049632,
     "end_time": "2021-07-14T14:36:12.105750",
     "exception": false,
     "start_time": "2021-07-14T14:36:12.056118",
     "status": "completed"
    },
    "tags": []
   },
   "outputs": [],
   "source": [
    "#Products distribution by category\n",
    "prod_cat=pd.DataFrame(data.groupby(['ProductCategory','ProductName']).sum()['Quantity'])\n",
    "prod_cat=prod_cat.reset_index().sort_values(by=['ProductCategory','Quantity'],ascending=False)\n",
    "#Top 5 Products in each category by quantity sold\n",
    "Top_5_prod_cat=prod_cat.groupby('ProductCategory').head(5)"
   ]
  },
  {
   "cell_type": "code",
   "execution_count": 17,
   "id": "16d83877",
   "metadata": {
    "execution": {
     "iopub.execute_input": "2021-07-14T14:36:12.264909Z",
     "iopub.status.busy": "2021-07-14T14:36:12.168934Z",
     "iopub.status.idle": "2021-07-14T14:36:13.686743Z",
     "shell.execute_reply": "2021-07-14T14:36:13.686106Z",
     "shell.execute_reply.started": "2021-07-14T14:31:25.345709Z"
    },
    "papermill": {
     "duration": 1.555576,
     "end_time": "2021-07-14T14:36:13.686912",
     "exception": false,
     "start_time": "2021-07-14T14:36:12.131336",
     "status": "completed"
    },
    "tags": []
   },
   "outputs": [
    {
     "data": {
      "image/png": "[encoded data removed]",
      "text/plain": [
       "<Figure size 1152x360 with 1 Axes>"
      ]
     },
     "metadata": {
      "needs_background": "light"
     },
     "output_type": "display_data"
    }
   ],
   "source": [
    "plt.figure(figsize=(16,5))\n",
    "sns.barplot(data=Top_5_prod_cat,x='ProductName',y='Quantity',hue='ProductCategory',dodge=False,palette='magma').set(title='Top 5 Products in each category by quantity sold')\n",
    "plt.xticks(rotation=90)\n",
    "plt.show()"
   ]
  },
  {
   "cell_type": "code",
   "execution_count": 18,
   "id": "15677df3",
   "metadata": {
    "execution": {
     "iopub.execute_input": "2021-07-14T14:36:13.749691Z",
     "iopub.status.busy": "2021-07-14T14:36:13.748307Z",
     "iopub.status.idle": "2021-07-14T14:36:14.086740Z",
     "shell.execute_reply": "2021-07-14T14:36:14.086099Z",
     "shell.execute_reply.started": "2021-07-14T14:31:26.922992Z"
    },
    "papermill": {
     "duration": 0.373626,
     "end_time": "2021-07-14T14:36:14.087055",
     "exception": false,
     "start_time": "2021-07-14T14:36:13.713429",
     "status": "completed"
    },
    "tags": []
   },
   "outputs": [
    {
     "data": {
      "image/png": "[encoded data removed]",
      "text/plain": [
       "<Figure size 864x360 with 1 Axes>"
      ]
     },
     "metadata": {
      "needs_background": "light"
     },
     "output_type": "display_data"
    }
   ],
   "source": [
    "#Distribution of stores amongst states\n",
    "stores_by_city=pd.DataFrame(data.groupby(['PropertyState']).nunique()['PropertyCity'])\n",
    "stores_by_city=stores_by_city.reset_index().sort_values(by='PropertyCity',ascending=False)\n",
    "plt.figure(figsize=(12,5))\n",
    "sns.barplot(data=stores_by_city,x='PropertyState',y='PropertyCity',color='teal').set(title='Number of Stores by State')\n",
    "plt.xticks(rotation=90)\n",
    "plt.show()\n"
   ]
  },
  {
   "cell_type": "code",
   "execution_count": 19,
   "id": "a1431b21",
   "metadata": {
    "execution": {
     "iopub.execute_input": "2021-07-14T14:36:14.161005Z",
     "iopub.status.busy": "2021-07-14T14:36:14.151248Z",
     "iopub.status.idle": "2021-07-14T14:36:14.164558Z",
     "shell.execute_reply": "2021-07-14T14:36:14.165074Z",
     "shell.execute_reply.started": "2021-07-14T14:35:37.141807Z"
    },
    "papermill": {
     "duration": 0.050238,
     "end_time": "2021-07-14T14:36:14.165281",
     "exception": false,
     "start_time": "2021-07-14T14:36:14.115043",
     "status": "completed"
    },
    "tags": []
   },
   "outputs": [
    {
     "data": {
      "text/html": [
       "<div>\n",
       "<style scoped>\n",
       "    .dataframe tbody tr th:only-of-type {\n",
       "        vertical-align: middle;\n",
       "    }\n",
       "\n",
       "    .dataframe tbody tr th {\n",
       "        vertical-align: top;\n",
       "    }\n",
       "\n",
       "    .dataframe thead th {\n",
       "        text-align: right;\n",
       "    }\n",
       "</style>\n",
       "<table border=\"1\" class=\"dataframe\">\n",
       "  <thead>\n",
       "    <tr style=\"text-align: right;\">\n",
       "      <th></th>\n",
       "      <th>PropertyCity</th>\n",
       "      <th>Total Sales</th>\n",
       "    </tr>\n",
       "  </thead>\n",
       "  <tbody>\n",
       "    <tr>\n",
       "      <th>9</th>\n",
       "      <td>Los Angeles</td>\n",
       "      <td>9956</td>\n",
       "    </tr>\n",
       "    <tr>\n",
       "      <th>18</th>\n",
       "      <td>San Francisco</td>\n",
       "      <td>9260</td>\n",
       "    </tr>\n",
       "    <tr>\n",
       "      <th>8</th>\n",
       "      <td>Las Vegas</td>\n",
       "      <td>8942</td>\n",
       "    </tr>\n",
       "    <tr>\n",
       "      <th>3</th>\n",
       "      <td>Chicago</td>\n",
       "      <td>8085</td>\n",
       "    </tr>\n",
       "    <tr>\n",
       "      <th>15</th>\n",
       "      <td>Phoenix</td>\n",
       "      <td>7848</td>\n",
       "    </tr>\n",
       "  </tbody>\n",
       "</table>\n",
       "</div>"
      ],
      "text/plain": [
       "     PropertyCity  Total Sales\n",
       "9     Los Angeles         9956\n",
       "18  San Francisco         9260\n",
       "8       Las Vegas         8942\n",
       "3         Chicago         8085\n",
       "15        Phoenix         7848"
      ]
     },
     "execution_count": 19,
     "metadata": {},
     "output_type": "execute_result"
    }
   ],
   "source": [
    "#Top 5 properties that registered highest sales\n",
    "highest_sales=pd.DataFrame(data.groupby(['PropertyCity']).sum()['Total Sales'])\n",
    "highest_sales=highest_sales.reset_index().sort_values(by='Total Sales',ascending=False)\n",
    "highest_sales.head(5)"
   ]
  }
 ],
 "metadata": {
  "kernelspec": {
   "display_name": "Python 3",
   "language": "python",
   "name": "python3"
  },
  "language_info": {
   "codemirror_mode": {
    "name": "ipython",
    "version": 3
   },
   "file_extension": ".py",
   "mimetype": "text/x-python",
   "name": "python",
   "nbconvert_exporter": "python",
   "pygments_lexer": "ipython3",
   "version": "3.7.10"
  },
  "papermill": {
   "default_parameters": {},
   "duration": 15.806875,
   "end_time": "2021-07-14T14:36:15.008490",
   "environment_variables": {},
   "exception": null,
   "input_path": "__notebook__.ipynb",
   "output_path": "__notebook__.ipynb",
   "parameters": {},
   "start_time": "2021-07-14T14:35:59.201615",
   "version": "2.3.3"
  }
 },
 "nbformat": 4,
 "nbformat_minor": 5
}
