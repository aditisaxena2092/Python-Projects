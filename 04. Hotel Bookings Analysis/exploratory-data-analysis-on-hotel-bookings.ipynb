{
 "cells": [
  {
   "cell_type": "markdown",
   "metadata": {
    "papermill": {
     "duration": 0.029651,
     "end_time": "2021-07-19T04:59:08.872357",
     "exception": false,
     "start_time": "2021-07-19T04:59:08.842706",
     "status": "completed"
    },
    "tags": []
   },
   "source": [
    "# Importing Libraries"
   ]
  },
  {
   "cell_type": "code",
   "execution_count": 37,
   "metadata": {
    "execution": {
     "iopub.execute_input": "2021-07-19T04:59:08.937193Z",
     "iopub.status.busy": "2021-07-19T04:59:08.936146Z",
     "iopub.status.idle": "2021-07-19T04:59:09.957138Z",
     "shell.execute_reply": "2021-07-19T04:59:09.956548Z",
     "shell.execute_reply.started": "2021-07-19T04:58:38.255126Z"
    },
    "papermill": {
     "duration": 1.053059,
     "end_time": "2021-07-19T04:59:09.957286",
     "exception": false,
     "start_time": "2021-07-19T04:59:08.904227",
     "status": "completed"
    },
    "tags": []
   },
   "outputs": [],
   "source": [
    "#data processing\n",
    "import pandas as pd\n",
    "#linear algebra\n",
    "import numpy as np\n",
    "#data visualisation\n",
    "import matplotlib.pyplot as plt\n",
    "%matplotlib inline\n",
    "import seaborn as sns\n",
    "plt.style.use(\"dark_background\")"
   ]
  },
  {
   "cell_type": "markdown",
   "metadata": {
    "papermill": {
     "duration": 0.0228,
     "end_time": "2021-07-19T04:59:10.003937",
     "exception": false,
     "start_time": "2021-07-19T04:59:09.981137",
     "status": "completed"
    },
    "tags": []
   },
   "source": [
    "# Data wrangling"
   ]
  },
  {
   "cell_type": "code",
   "execution_count": 38,
   "metadata": {
    "execution": {
     "iopub.execute_input": "2021-07-19T04:59:10.056266Z",
     "iopub.status.busy": "2021-07-19T04:59:10.055103Z",
     "iopub.status.idle": "2021-07-19T04:59:10.058560Z",
     "shell.execute_reply": "2021-07-19T04:59:10.057929Z",
     "shell.execute_reply.started": "2021-07-19T04:58:39.320399Z"
    },
    "papermill": {
     "duration": 0.031298,
     "end_time": "2021-07-19T04:59:10.058730",
     "exception": false,
     "start_time": "2021-07-19T04:59:10.027432",
     "status": "completed"
    },
    "tags": []
   },
   "outputs": [],
   "source": [
    "#Few important attributes to look at with an objective to optimize business\n",
    "#-Average room rates in different cities\n",
    "#-Number of hotels in different cities\n",
    "#-Cancellation Rate\n",
    "#-Number of bookings in a given time period\n",
    "#-Discounts offered\n",
    "#-Average Number of nights stayed by customers\n",
    "#-How many days prior to the stay bookings are made\n",
    "#-Revenue"
   ]
  },
  {
   "cell_type": "code",
   "execution_count": 39,
   "metadata": {
    "execution": {
     "iopub.execute_input": "2021-07-19T04:59:10.111473Z",
     "iopub.status.busy": "2021-07-19T04:59:10.110812Z",
     "iopub.status.idle": "2021-07-19T04:59:10.139110Z",
     "shell.execute_reply": "2021-07-19T04:59:10.139643Z",
     "shell.execute_reply.started": "2021-07-19T04:58:39.326933Z"
    },
    "papermill": {
     "duration": 0.05778,
     "end_time": "2021-07-19T04:59:10.139854",
     "exception": false,
     "start_time": "2021-07-19T04:59:10.082074",
     "status": "completed"
    },
    "tags": []
   },
   "outputs": [],
   "source": [
    "#Loading Datsets\n",
    "data_hotel=pd.read_csv('Hotel Details.csv')\n",
    "data_city=pd.read_csv('Hotel_City.csv')"
   ]
  },
  {
   "cell_type": "code",
   "execution_count": 40,
   "metadata": {
    "execution": {
     "iopub.execute_input": "2021-07-19T04:59:10.198311Z",
     "iopub.status.busy": "2021-07-19T04:59:10.197403Z",
     "iopub.status.idle": "2021-07-19T04:59:10.220785Z",
     "shell.execute_reply": "2021-07-19T04:59:10.221363Z",
     "shell.execute_reply.started": "2021-07-19T04:58:39.370401Z"
    },
    "papermill": {
     "duration": 0.058442,
     "end_time": "2021-07-19T04:59:10.221557",
     "exception": false,
     "start_time": "2021-07-19T04:59:10.163115",
     "status": "completed"
    },
    "tags": []
   },
   "outputs": [
    {
     "data": {
      "text/html": [
       "<div>\n",
       "<style scoped>\n",
       "    .dataframe tbody tr th:only-of-type {\n",
       "        vertical-align: middle;\n",
       "    }\n",
       "\n",
       "    .dataframe tbody tr th {\n",
       "        vertical-align: top;\n",
       "    }\n",
       "\n",
       "    .dataframe thead th {\n",
       "        text-align: right;\n",
       "    }\n",
       "</style>\n",
       "<table border=\"1\" class=\"dataframe\">\n",
       "  <thead>\n",
       "    <tr style=\"text-align: right;\">\n",
       "      <th></th>\n",
       "      <th>booking_id</th>\n",
       "      <th>customer_id</th>\n",
       "      <th>status</th>\n",
       "      <th>check_in</th>\n",
       "      <th>check_out</th>\n",
       "      <th>no_of_rooms</th>\n",
       "      <th>hotel_id</th>\n",
       "      <th>amount</th>\n",
       "      <th>discount</th>\n",
       "      <th>date_of_booking</th>\n",
       "      <th>Unnamed: 10</th>\n",
       "    </tr>\n",
       "  </thead>\n",
       "  <tbody>\n",
       "    <tr>\n",
       "      <th>0</th>\n",
       "      <td>1</td>\n",
       "      <td>189314</td>\n",
       "      <td>Cancelled</td>\n",
       "      <td>04-02-2017</td>\n",
       "      <td>05-02-2017</td>\n",
       "      <td>1</td>\n",
       "      <td>252</td>\n",
       "      <td>3160</td>\n",
       "      <td>669</td>\n",
       "      <td>31-01-2017</td>\n",
       "      <td>NaN</td>\n",
       "    </tr>\n",
       "    <tr>\n",
       "      <th>1</th>\n",
       "      <td>2</td>\n",
       "      <td>46268</td>\n",
       "      <td>Cancelled</td>\n",
       "      <td>27-01-2017</td>\n",
       "      <td>28-01-2017</td>\n",
       "      <td>1</td>\n",
       "      <td>252</td>\n",
       "      <td>1893</td>\n",
       "      <td>481</td>\n",
       "      <td>27-01-2017</td>\n",
       "      <td>NaN</td>\n",
       "    </tr>\n",
       "    <tr>\n",
       "      <th>2</th>\n",
       "      <td>3</td>\n",
       "      <td>55271</td>\n",
       "      <td>Stayed</td>\n",
       "      <td>25-01-2017</td>\n",
       "      <td>26-01-2017</td>\n",
       "      <td>1</td>\n",
       "      <td>252</td>\n",
       "      <td>2188</td>\n",
       "      <td>463</td>\n",
       "      <td>25-01-2017</td>\n",
       "      <td>NaN</td>\n",
       "    </tr>\n",
       "  </tbody>\n",
       "</table>\n",
       "</div>"
      ],
      "text/plain": [
       "   booking_id  customer_id     status    check_in   check_out  no_of_rooms  \\\n",
       "0           1       189314  Cancelled  04-02-2017  05-02-2017            1   \n",
       "1           2        46268  Cancelled  27-01-2017  28-01-2017            1   \n",
       "2           3        55271     Stayed  25-01-2017  26-01-2017            1   \n",
       "\n",
       "   hotel_id  amount  discount date_of_booking  Unnamed: 10  \n",
       "0       252    3160       669      31-01-2017          NaN  \n",
       "1       252    1893       481      27-01-2017          NaN  \n",
       "2       252    2188       463      25-01-2017          NaN  "
      ]
     },
     "execution_count": 40,
     "metadata": {},
     "output_type": "execute_result"
    }
   ],
   "source": [
    "data_hotel.head(3)"
   ]
  },
  {
   "cell_type": "code",
   "execution_count": 41,
   "metadata": {
    "execution": {
     "iopub.execute_input": "2021-07-19T04:59:10.279807Z",
     "iopub.status.busy": "2021-07-19T04:59:10.279092Z",
     "iopub.status.idle": "2021-07-19T04:59:10.281946Z",
     "shell.execute_reply": "2021-07-19T04:59:10.282388Z",
     "shell.execute_reply.started": "2021-07-19T04:58:39.403807Z"
    },
    "papermill": {
     "duration": 0.037037,
     "end_time": "2021-07-19T04:59:10.282567",
     "exception": false,
     "start_time": "2021-07-19T04:59:10.245530",
     "status": "completed"
    },
    "tags": []
   },
   "outputs": [
    {
     "data": {
      "text/html": [
       "<div>\n",
       "<style scoped>\n",
       "    .dataframe tbody tr th:only-of-type {\n",
       "        vertical-align: middle;\n",
       "    }\n",
       "\n",
       "    .dataframe tbody tr th {\n",
       "        vertical-align: top;\n",
       "    }\n",
       "\n",
       "    .dataframe thead th {\n",
       "        text-align: right;\n",
       "    }\n",
       "</style>\n",
       "<table border=\"1\" class=\"dataframe\">\n",
       "  <thead>\n",
       "    <tr style=\"text-align: right;\">\n",
       "      <th></th>\n",
       "      <th>Hotel_id</th>\n",
       "      <th>City</th>\n",
       "    </tr>\n",
       "  </thead>\n",
       "  <tbody>\n",
       "    <tr>\n",
       "      <th>0</th>\n",
       "      <td>3</td>\n",
       "      <td>Gurgaon</td>\n",
       "    </tr>\n",
       "    <tr>\n",
       "      <th>1</th>\n",
       "      <td>13</td>\n",
       "      <td>Gurgaon</td>\n",
       "    </tr>\n",
       "    <tr>\n",
       "      <th>2</th>\n",
       "      <td>16</td>\n",
       "      <td>Gurgaon</td>\n",
       "    </tr>\n",
       "  </tbody>\n",
       "</table>\n",
       "</div>"
      ],
      "text/plain": [
       "   Hotel_id     City\n",
       "0         3  Gurgaon\n",
       "1        13  Gurgaon\n",
       "2        16  Gurgaon"
      ]
     },
     "execution_count": 41,
     "metadata": {},
     "output_type": "execute_result"
    }
   ],
   "source": [
    "data_city.head(3)"
   ]
  },
  {
   "cell_type": "code",
   "execution_count": 42,
   "metadata": {
    "execution": {
     "iopub.execute_input": "2021-07-19T04:59:10.335945Z",
     "iopub.status.busy": "2021-07-19T04:59:10.335257Z",
     "iopub.status.idle": "2021-07-19T04:59:10.342525Z",
     "shell.execute_reply": "2021-07-19T04:59:10.341885Z",
     "shell.execute_reply.started": "2021-07-19T04:58:39.416505Z"
    },
    "papermill": {
     "duration": 0.034308,
     "end_time": "2021-07-19T04:59:10.342666",
     "exception": false,
     "start_time": "2021-07-19T04:59:10.308358",
     "status": "completed"
    },
    "tags": []
   },
   "outputs": [
    {
     "name": "stdout",
     "output_type": "stream",
     "text": [
      "Hotels & City datasets have (2889, 11) (357, 2) rows and columns respectively\n"
     ]
    }
   ],
   "source": [
    "#understanding shape of the data\n",
    "print('Hotels & City datasets have',data_hotel.shape,data_city.shape,'rows and columns respectively')"
   ]
  },
  {
   "cell_type": "code",
   "execution_count": 43,
   "metadata": {
    "execution": {
     "iopub.execute_input": "2021-07-19T04:59:10.405719Z",
     "iopub.status.busy": "2021-07-19T04:59:10.401911Z",
     "iopub.status.idle": "2021-07-19T04:59:10.429666Z",
     "shell.execute_reply": "2021-07-19T04:59:10.430200Z",
     "shell.execute_reply.started": "2021-07-19T04:58:39.423179Z"
    },
    "papermill": {
     "duration": 0.060621,
     "end_time": "2021-07-19T04:59:10.430371",
     "exception": false,
     "start_time": "2021-07-19T04:59:10.369750",
     "status": "completed"
    },
    "tags": []
   },
   "outputs": [
    {
     "data": {
      "text/html": [
       "<div>\n",
       "<style scoped>\n",
       "    .dataframe tbody tr th:only-of-type {\n",
       "        vertical-align: middle;\n",
       "    }\n",
       "\n",
       "    .dataframe tbody tr th {\n",
       "        vertical-align: top;\n",
       "    }\n",
       "\n",
       "    .dataframe thead th {\n",
       "        text-align: right;\n",
       "    }\n",
       "</style>\n",
       "<table border=\"1\" class=\"dataframe\">\n",
       "  <thead>\n",
       "    <tr style=\"text-align: right;\">\n",
       "      <th></th>\n",
       "      <th>booking_id</th>\n",
       "      <th>customer_id</th>\n",
       "      <th>status</th>\n",
       "      <th>check_in</th>\n",
       "      <th>check_out</th>\n",
       "      <th>no_of_rooms</th>\n",
       "      <th>hotel_id</th>\n",
       "      <th>amount</th>\n",
       "      <th>discount</th>\n",
       "      <th>date_of_booking</th>\n",
       "      <th>Unnamed: 10</th>\n",
       "      <th>Hotel_id</th>\n",
       "      <th>City</th>\n",
       "    </tr>\n",
       "  </thead>\n",
       "  <tbody>\n",
       "    <tr>\n",
       "      <th>0</th>\n",
       "      <td>1</td>\n",
       "      <td>189314</td>\n",
       "      <td>Cancelled</td>\n",
       "      <td>04-02-2017</td>\n",
       "      <td>05-02-2017</td>\n",
       "      <td>1</td>\n",
       "      <td>252</td>\n",
       "      <td>3160</td>\n",
       "      <td>669</td>\n",
       "      <td>31-01-2017</td>\n",
       "      <td>NaN</td>\n",
       "      <td>252</td>\n",
       "      <td>Bangalore</td>\n",
       "    </tr>\n",
       "    <tr>\n",
       "      <th>1</th>\n",
       "      <td>2</td>\n",
       "      <td>46268</td>\n",
       "      <td>Cancelled</td>\n",
       "      <td>27-01-2017</td>\n",
       "      <td>28-01-2017</td>\n",
       "      <td>1</td>\n",
       "      <td>252</td>\n",
       "      <td>1893</td>\n",
       "      <td>481</td>\n",
       "      <td>27-01-2017</td>\n",
       "      <td>NaN</td>\n",
       "      <td>252</td>\n",
       "      <td>Bangalore</td>\n",
       "    </tr>\n",
       "    <tr>\n",
       "      <th>2</th>\n",
       "      <td>3</td>\n",
       "      <td>55271</td>\n",
       "      <td>Stayed</td>\n",
       "      <td>25-01-2017</td>\n",
       "      <td>26-01-2017</td>\n",
       "      <td>1</td>\n",
       "      <td>252</td>\n",
       "      <td>2188</td>\n",
       "      <td>463</td>\n",
       "      <td>25-01-2017</td>\n",
       "      <td>NaN</td>\n",
       "      <td>252</td>\n",
       "      <td>Bangalore</td>\n",
       "    </tr>\n",
       "    <tr>\n",
       "      <th>3</th>\n",
       "      <td>4</td>\n",
       "      <td>170766</td>\n",
       "      <td>Cancelled</td>\n",
       "      <td>26-01-2017</td>\n",
       "      <td>27-01-2017</td>\n",
       "      <td>1</td>\n",
       "      <td>252</td>\n",
       "      <td>3054</td>\n",
       "      <td>646</td>\n",
       "      <td>26-01-2017</td>\n",
       "      <td>NaN</td>\n",
       "      <td>252</td>\n",
       "      <td>Bangalore</td>\n",
       "    </tr>\n",
       "    <tr>\n",
       "      <th>4</th>\n",
       "      <td>5</td>\n",
       "      <td>170766</td>\n",
       "      <td>Cancelled</td>\n",
       "      <td>26-01-2017</td>\n",
       "      <td>28-01-2017</td>\n",
       "      <td>1</td>\n",
       "      <td>252</td>\n",
       "      <td>6107</td>\n",
       "      <td>1293</td>\n",
       "      <td>25-01-2017</td>\n",
       "      <td>NaN</td>\n",
       "      <td>252</td>\n",
       "      <td>Bangalore</td>\n",
       "    </tr>\n",
       "  </tbody>\n",
       "</table>\n",
       "</div>"
      ],
      "text/plain": [
       "   booking_id  customer_id     status    check_in   check_out  no_of_rooms  \\\n",
       "0           1       189314  Cancelled  04-02-2017  05-02-2017            1   \n",
       "1           2        46268  Cancelled  27-01-2017  28-01-2017            1   \n",
       "2           3        55271     Stayed  25-01-2017  26-01-2017            1   \n",
       "3           4       170766  Cancelled  26-01-2017  27-01-2017            1   \n",
       "4           5       170766  Cancelled  26-01-2017  28-01-2017            1   \n",
       "\n",
       "   hotel_id  amount  discount date_of_booking  Unnamed: 10  Hotel_id  \\\n",
       "0       252    3160       669      31-01-2017          NaN       252   \n",
       "1       252    1893       481      27-01-2017          NaN       252   \n",
       "2       252    2188       463      25-01-2017          NaN       252   \n",
       "3       252    3054       646      26-01-2017          NaN       252   \n",
       "4       252    6107      1293      25-01-2017          NaN       252   \n",
       "\n",
       "        City  \n",
       "0  Bangalore  \n",
       "1  Bangalore  \n",
       "2  Bangalore  \n",
       "3  Bangalore  \n",
       "4  Bangalore  "
      ]
     },
     "execution_count": 43,
     "metadata": {},
     "output_type": "execute_result"
    }
   ],
   "source": [
    "#merging the datasets\n",
    "data= data_hotel.merge(data_city,left_on='hotel_id',right_on='Hotel_id',how='left')\n",
    "data.head()"
   ]
  },
  {
   "cell_type": "code",
   "execution_count": 44,
   "metadata": {
    "execution": {
     "iopub.execute_input": "2021-07-19T04:59:10.483742Z",
     "iopub.status.busy": "2021-07-19T04:59:10.483114Z",
     "iopub.status.idle": "2021-07-19T04:59:10.519195Z",
     "shell.execute_reply": "2021-07-19T04:59:10.519802Z",
     "shell.execute_reply.started": "2021-07-19T04:58:39.463669Z"
    },
    "papermill": {
     "duration": 0.064408,
     "end_time": "2021-07-19T04:59:10.519982",
     "exception": false,
     "start_time": "2021-07-19T04:59:10.455574",
     "status": "completed"
    },
    "tags": []
   },
   "outputs": [
    {
     "data": {
      "text/html": [
       "<div>\n",
       "<style scoped>\n",
       "    .dataframe tbody tr th:only-of-type {\n",
       "        vertical-align: middle;\n",
       "    }\n",
       "\n",
       "    .dataframe tbody tr th {\n",
       "        vertical-align: top;\n",
       "    }\n",
       "\n",
       "    .dataframe thead th {\n",
       "        text-align: right;\n",
       "    }\n",
       "</style>\n",
       "<table border=\"1\" class=\"dataframe\">\n",
       "  <thead>\n",
       "    <tr style=\"text-align: right;\">\n",
       "      <th></th>\n",
       "      <th>booking_id</th>\n",
       "      <th>customer_id</th>\n",
       "      <th>no_of_rooms</th>\n",
       "      <th>hotel_id</th>\n",
       "      <th>amount</th>\n",
       "      <th>discount</th>\n",
       "      <th>Unnamed: 10</th>\n",
       "      <th>Hotel_id</th>\n",
       "    </tr>\n",
       "  </thead>\n",
       "  <tbody>\n",
       "    <tr>\n",
       "      <th>count</th>\n",
       "      <td>2889.000000</td>\n",
       "      <td>2889.000000</td>\n",
       "      <td>2889.000000</td>\n",
       "      <td>2889.000000</td>\n",
       "      <td>2889.000000</td>\n",
       "      <td>2889.000000</td>\n",
       "      <td>0.0</td>\n",
       "      <td>2889.000000</td>\n",
       "    </tr>\n",
       "    <tr>\n",
       "      <th>mean</th>\n",
       "      <td>1468.950156</td>\n",
       "      <td>92762.298373</td>\n",
       "      <td>1.078920</td>\n",
       "      <td>379.546902</td>\n",
       "      <td>4125.116649</td>\n",
       "      <td>896.245414</td>\n",
       "      <td>NaN</td>\n",
       "      <td>379.546902</td>\n",
       "    </tr>\n",
       "    <tr>\n",
       "      <th>std</th>\n",
       "      <td>862.038624</td>\n",
       "      <td>59143.215725</td>\n",
       "      <td>0.435606</td>\n",
       "      <td>269.753014</td>\n",
       "      <td>5102.077608</td>\n",
       "      <td>1127.557123</td>\n",
       "      <td>NaN</td>\n",
       "      <td>269.753014</td>\n",
       "    </tr>\n",
       "    <tr>\n",
       "      <th>min</th>\n",
       "      <td>1.000000</td>\n",
       "      <td>211.000000</td>\n",
       "      <td>1.000000</td>\n",
       "      <td>3.000000</td>\n",
       "      <td>926.000000</td>\n",
       "      <td>0.000000</td>\n",
       "      <td>NaN</td>\n",
       "      <td>3.000000</td>\n",
       "    </tr>\n",
       "    <tr>\n",
       "      <th>25%</th>\n",
       "      <td>723.000000</td>\n",
       "      <td>42387.000000</td>\n",
       "      <td>1.000000</td>\n",
       "      <td>154.000000</td>\n",
       "      <td>2102.000000</td>\n",
       "      <td>453.000000</td>\n",
       "      <td>NaN</td>\n",
       "      <td>154.000000</td>\n",
       "    </tr>\n",
       "    <tr>\n",
       "      <th>50%</th>\n",
       "      <td>1445.000000</td>\n",
       "      <td>85562.000000</td>\n",
       "      <td>1.000000</td>\n",
       "      <td>328.000000</td>\n",
       "      <td>2664.000000</td>\n",
       "      <td>586.000000</td>\n",
       "      <td>NaN</td>\n",
       "      <td>328.000000</td>\n",
       "    </tr>\n",
       "    <tr>\n",
       "      <th>75%</th>\n",
       "      <td>2239.000000</td>\n",
       "      <td>142058.000000</td>\n",
       "      <td>1.000000</td>\n",
       "      <td>597.000000</td>\n",
       "      <td>4289.000000</td>\n",
       "      <td>935.000000</td>\n",
       "      <td>NaN</td>\n",
       "      <td>597.000000</td>\n",
       "    </tr>\n",
       "    <tr>\n",
       "      <th>max</th>\n",
       "      <td>2961.000000</td>\n",
       "      <td>199981.000000</td>\n",
       "      <td>12.000000</td>\n",
       "      <td>998.000000</td>\n",
       "      <td>119629.000000</td>\n",
       "      <td>26319.000000</td>\n",
       "      <td>NaN</td>\n",
       "      <td>998.000000</td>\n",
       "    </tr>\n",
       "  </tbody>\n",
       "</table>\n",
       "</div>"
      ],
      "text/plain": [
       "        booking_id    customer_id  no_of_rooms     hotel_id         amount  \\\n",
       "count  2889.000000    2889.000000  2889.000000  2889.000000    2889.000000   \n",
       "mean   1468.950156   92762.298373     1.078920   379.546902    4125.116649   \n",
       "std     862.038624   59143.215725     0.435606   269.753014    5102.077608   \n",
       "min       1.000000     211.000000     1.000000     3.000000     926.000000   \n",
       "25%     723.000000   42387.000000     1.000000   154.000000    2102.000000   \n",
       "50%    1445.000000   85562.000000     1.000000   328.000000    2664.000000   \n",
       "75%    2239.000000  142058.000000     1.000000   597.000000    4289.000000   \n",
       "max    2961.000000  199981.000000    12.000000   998.000000  119629.000000   \n",
       "\n",
       "           discount  Unnamed: 10     Hotel_id  \n",
       "count   2889.000000          0.0  2889.000000  \n",
       "mean     896.245414          NaN   379.546902  \n",
       "std     1127.557123          NaN   269.753014  \n",
       "min        0.000000          NaN     3.000000  \n",
       "25%      453.000000          NaN   154.000000  \n",
       "50%      586.000000          NaN   328.000000  \n",
       "75%      935.000000          NaN   597.000000  \n",
       "max    26319.000000          NaN   998.000000  "
      ]
     },
     "execution_count": 44,
     "metadata": {},
     "output_type": "execute_result"
    }
   ],
   "source": [
    "data.describe()"
   ]
  },
  {
   "cell_type": "code",
   "execution_count": 45,
   "metadata": {
    "execution": {
     "iopub.execute_input": "2021-07-19T04:59:10.575797Z",
     "iopub.status.busy": "2021-07-19T04:59:10.575104Z",
     "iopub.status.idle": "2021-07-19T04:59:10.578364Z",
     "shell.execute_reply": "2021-07-19T04:59:10.578937Z",
     "shell.execute_reply.started": "2021-07-19T04:58:39.504685Z"
    },
    "papermill": {
     "duration": 0.033283,
     "end_time": "2021-07-19T04:59:10.579125",
     "exception": false,
     "start_time": "2021-07-19T04:59:10.545842",
     "status": "completed"
    },
    "tags": []
   },
   "outputs": [],
   "source": [
    "#The booking amount varies from as low as ~INR 900 to as high as ~ INR 1.2Lacs"
   ]
  },
  {
   "cell_type": "code",
   "execution_count": 46,
   "metadata": {
    "execution": {
     "iopub.execute_input": "2021-07-19T04:59:10.633819Z",
     "iopub.status.busy": "2021-07-19T04:59:10.633007Z",
     "iopub.status.idle": "2021-07-19T04:59:10.644360Z",
     "shell.execute_reply": "2021-07-19T04:59:10.643615Z",
     "shell.execute_reply.started": "2021-07-19T04:58:39.510234Z"
    },
    "papermill": {
     "duration": 0.039704,
     "end_time": "2021-07-19T04:59:10.644508",
     "exception": false,
     "start_time": "2021-07-19T04:59:10.604804",
     "status": "completed"
    },
    "tags": []
   },
   "outputs": [
    {
     "data": {
      "text/plain": [
       "booking_id            0\n",
       "customer_id           0\n",
       "status                0\n",
       "check_in              0\n",
       "check_out             0\n",
       "no_of_rooms           0\n",
       "hotel_id              0\n",
       "amount                0\n",
       "discount              0\n",
       "date_of_booking       0\n",
       "Unnamed: 10        2889\n",
       "Hotel_id              0\n",
       "City                  0\n",
       "dtype: int64"
      ]
     },
     "execution_count": 46,
     "metadata": {},
     "output_type": "execute_result"
    }
   ],
   "source": [
    "#check for nulls\n",
    "data.isnull().sum()"
   ]
  },
  {
   "cell_type": "code",
   "execution_count": 47,
   "metadata": {
    "execution": {
     "iopub.execute_input": "2021-07-19T04:59:10.702396Z",
     "iopub.status.busy": "2021-07-19T04:59:10.701748Z",
     "iopub.status.idle": "2021-07-19T04:59:10.713349Z",
     "shell.execute_reply": "2021-07-19T04:59:10.713855Z",
     "shell.execute_reply.started": "2021-07-19T04:58:39.534191Z"
    },
    "papermill": {
     "duration": 0.041669,
     "end_time": "2021-07-19T04:59:10.714041",
     "exception": false,
     "start_time": "2021-07-19T04:59:10.672372",
     "status": "completed"
    },
    "tags": []
   },
   "outputs": [
    {
     "data": {
      "text/plain": [
       "booking_id         0\n",
       "customer_id        0\n",
       "status             0\n",
       "check_in           0\n",
       "check_out          0\n",
       "no_of_rooms        0\n",
       "hotel_id           0\n",
       "amount             0\n",
       "discount           0\n",
       "date_of_booking    0\n",
       "Unnamed: 10        0\n",
       "Hotel_id           0\n",
       "City               0\n",
       "dtype: int64"
      ]
     },
     "execution_count": 47,
     "metadata": {},
     "output_type": "execute_result"
    }
   ],
   "source": [
    "#check for any other missing data\n",
    "data.isin(['?']).sum()"
   ]
  },
  {
   "cell_type": "code",
   "execution_count": 48,
   "metadata": {
    "execution": {
     "iopub.execute_input": "2021-07-19T04:59:10.772076Z",
     "iopub.status.busy": "2021-07-19T04:59:10.771441Z",
     "iopub.status.idle": "2021-07-19T04:59:10.779674Z",
     "shell.execute_reply": "2021-07-19T04:59:10.780666Z",
     "shell.execute_reply.started": "2021-07-19T04:58:39.549880Z"
    },
    "papermill": {
     "duration": 0.04026,
     "end_time": "2021-07-19T04:59:10.780972",
     "exception": false,
     "start_time": "2021-07-19T04:59:10.740712",
     "status": "completed"
    },
    "tags": []
   },
   "outputs": [
    {
     "name": "stdout",
     "output_type": "stream",
     "text": [
      "There are 357 distinct hotels in the dataset spread across 10 cities\n"
     ]
    }
   ],
   "source": [
    "#Distinct number of hotels\n",
    "print('There are', data['hotel_id'].nunique(), 'distinct hotels in the dataset spread across', data['City'].nunique(), 'cities')"
   ]
  },
  {
   "cell_type": "markdown",
   "metadata": {
    "papermill": {
     "duration": 0.025923,
     "end_time": "2021-07-19T04:59:10.834318",
     "exception": false,
     "start_time": "2021-07-19T04:59:10.808395",
     "status": "completed"
    },
    "tags": []
   },
   "source": [
    "#1.Distribution of hotels by cities"
   ]
  },
  {
   "cell_type": "code",
   "execution_count": 49,
   "metadata": {
    "execution": {
     "iopub.execute_input": "2021-07-19T04:59:10.895275Z",
     "iopub.status.busy": "2021-07-19T04:59:10.894514Z",
     "iopub.status.idle": "2021-07-19T04:59:10.934785Z",
     "shell.execute_reply": "2021-07-19T04:59:10.935273Z",
     "shell.execute_reply.started": "2021-07-19T04:58:39.562036Z"
    },
    "papermill": {
     "duration": 0.074707,
     "end_time": "2021-07-19T04:59:10.935438",
     "exception": false,
     "start_time": "2021-07-19T04:59:10.860731",
     "status": "completed"
    },
    "tags": []
   },
   "outputs": [
    {
     "data": {
      "text/html": [
       "<div>\n",
       "<style scoped>\n",
       "    .dataframe tbody tr th:only-of-type {\n",
       "        vertical-align: middle;\n",
       "    }\n",
       "\n",
       "    .dataframe tbody tr th {\n",
       "        vertical-align: top;\n",
       "    }\n",
       "\n",
       "    .dataframe thead th {\n",
       "        text-align: right;\n",
       "    }\n",
       "</style>\n",
       "<table border=\"1\" class=\"dataframe\">\n",
       "  <thead>\n",
       "    <tr style=\"text-align: right;\">\n",
       "      <th></th>\n",
       "      <th>City</th>\n",
       "      <th>hotel_id</th>\n",
       "      <th>%Distribution</th>\n",
       "      <th>Labels</th>\n",
       "    </tr>\n",
       "  </thead>\n",
       "  <tbody>\n",
       "    <tr>\n",
       "      <th>2</th>\n",
       "      <td>Delhi</td>\n",
       "      <td>85</td>\n",
       "      <td>23.809524</td>\n",
       "      <td>24.0%</td>\n",
       "    </tr>\n",
       "    <tr>\n",
       "      <th>0</th>\n",
       "      <td>Bangalore</td>\n",
       "      <td>61</td>\n",
       "      <td>17.086835</td>\n",
       "      <td>17.0%</td>\n",
       "    </tr>\n",
       "    <tr>\n",
       "      <th>3</th>\n",
       "      <td>Gurgaon</td>\n",
       "      <td>51</td>\n",
       "      <td>14.285714</td>\n",
       "      <td>14.0%</td>\n",
       "    </tr>\n",
       "    <tr>\n",
       "      <th>7</th>\n",
       "      <td>Mumbai</td>\n",
       "      <td>36</td>\n",
       "      <td>10.084034</td>\n",
       "      <td>10.0%</td>\n",
       "    </tr>\n",
       "    <tr>\n",
       "      <th>4</th>\n",
       "      <td>Hyderabad</td>\n",
       "      <td>26</td>\n",
       "      <td>7.282913</td>\n",
       "      <td>7.0%</td>\n",
       "    </tr>\n",
       "    <tr>\n",
       "      <th>5</th>\n",
       "      <td>Jaipur</td>\n",
       "      <td>25</td>\n",
       "      <td>7.002801</td>\n",
       "      <td>7.0%</td>\n",
       "    </tr>\n",
       "    <tr>\n",
       "      <th>8</th>\n",
       "      <td>Noida</td>\n",
       "      <td>24</td>\n",
       "      <td>6.722689</td>\n",
       "      <td>7.0%</td>\n",
       "    </tr>\n",
       "    <tr>\n",
       "      <th>9</th>\n",
       "      <td>Pune</td>\n",
       "      <td>21</td>\n",
       "      <td>5.882353</td>\n",
       "      <td>6.0%</td>\n",
       "    </tr>\n",
       "    <tr>\n",
       "      <th>1</th>\n",
       "      <td>Chennai</td>\n",
       "      <td>17</td>\n",
       "      <td>4.761905</td>\n",
       "      <td>5.0%</td>\n",
       "    </tr>\n",
       "    <tr>\n",
       "      <th>6</th>\n",
       "      <td>Kolkata</td>\n",
       "      <td>11</td>\n",
       "      <td>3.081232</td>\n",
       "      <td>3.0%</td>\n",
       "    </tr>\n",
       "  </tbody>\n",
       "</table>\n",
       "</div>"
      ],
      "text/plain": [
       "        City  hotel_id  %Distribution Labels\n",
       "2      Delhi        85      23.809524  24.0%\n",
       "0  Bangalore        61      17.086835  17.0%\n",
       "3    Gurgaon        51      14.285714  14.0%\n",
       "7     Mumbai        36      10.084034  10.0%\n",
       "4  Hyderabad        26       7.282913   7.0%\n",
       "5     Jaipur        25       7.002801   7.0%\n",
       "8      Noida        24       6.722689   7.0%\n",
       "9       Pune        21       5.882353   6.0%\n",
       "1    Chennai        17       4.761905   5.0%\n",
       "6    Kolkata        11       3.081232   3.0%"
      ]
     },
     "execution_count": 49,
     "metadata": {},
     "output_type": "execute_result"
    }
   ],
   "source": [
    "hotels_by_cities=pd.DataFrame(data.groupby(['City']).nunique()['hotel_id'])\n",
    "hotels_by_cities=hotels_by_cities.reset_index().sort_values(by='hotel_id',ascending=False)\n",
    "hotels_by_cities['%Distribution']=(hotels_by_cities['hotel_id']/(hotels_by_cities['hotel_id'].sum()))*100\n",
    "hotels_by_cities['Labels']=hotels_by_cities['%Distribution'].round().astype(str) + '%'\n",
    "hotels_by_cities"
   ]
  },
  {
   "cell_type": "code",
   "execution_count": 50,
   "metadata": {
    "execution": {
     "iopub.execute_input": "2021-07-19T04:59:11.014585Z",
     "iopub.status.busy": "2021-07-19T04:59:10.998808Z",
     "iopub.status.idle": "2021-07-19T04:59:11.255819Z",
     "shell.execute_reply": "2021-07-19T04:59:11.255272Z",
     "shell.execute_reply.started": "2021-07-19T04:58:39.611164Z"
    },
    "papermill": {
     "duration": 0.291966,
     "end_time": "2021-07-19T04:59:11.255964",
     "exception": false,
     "start_time": "2021-07-19T04:59:10.963998",
     "status": "completed"
    },
    "tags": []
   },
   "outputs": [
    {
     "data": {
      "image/png": "[encoded data removed]",
      "text/plain": [
       "<Figure size 360x360 with 1 Axes>"
      ]
     },
     "metadata": {},
     "output_type": "display_data"
    }
   ],
   "source": [
    "plt.figure(figsize=(5,5))\n",
    "plt.title(\"Distribution of hotels by City\")\n",
    "colors = ['#191970','#001CF0','#0038E2','#0055D4','#0071C6','#008DB8','#00AAAA','#00C69C','#00E28E','#00FF80']\n",
    "plt.axis(\"equal\")\n",
    "g1=plt.pie(hotels_by_cities['%Distribution'],labels=hotels_by_cities['City'],colors=colors,autopct='%0.0f%%',\n",
    "        shadow=True,explode=[0,0, 0, 0,0.1,0.1,0.15,0.175,0.2,0.25])\n",
    "\n",
    "plt.show()"
   ]
  },
  {
   "cell_type": "code",
   "execution_count": 51,
   "metadata": {
    "execution": {
     "iopub.execute_input": "2021-07-19T04:59:11.318372Z",
     "iopub.status.busy": "2021-07-19T04:59:11.317663Z",
     "iopub.status.idle": "2021-07-19T04:59:11.320774Z",
     "shell.execute_reply": "2021-07-19T04:59:11.320267Z",
     "shell.execute_reply.started": "2021-07-19T04:58:39.871184Z"
    },
    "papermill": {
     "duration": 0.036075,
     "end_time": "2021-07-19T04:59:11.320915",
     "exception": false,
     "start_time": "2021-07-19T04:59:11.284840",
     "status": "completed"
    },
    "tags": []
   },
   "outputs": [],
   "source": [
    "#More than half the hotels are concentrated in Delhi, Bangalore & Gurgaon"
   ]
  },
  {
   "cell_type": "markdown",
   "metadata": {
    "execution": {
     "iopub.execute_input": "2021-07-18T16:32:02.767159Z",
     "iopub.status.busy": "2021-07-18T16:32:02.766837Z",
     "iopub.status.idle": "2021-07-18T16:32:02.784332Z",
     "shell.execute_reply": "2021-07-18T16:32:02.782844Z",
     "shell.execute_reply.started": "2021-07-18T16:32:02.767129Z"
    },
    "papermill": {
     "duration": 0.028744,
     "end_time": "2021-07-19T04:59:11.378409",
     "exception": false,
     "start_time": "2021-07-19T04:59:11.349665",
     "status": "completed"
    },
    "tags": []
   },
   "source": [
    "#2.Cancellation Rate"
   ]
  },
  {
   "cell_type": "code",
   "execution_count": 52,
   "metadata": {
    "execution": {
     "iopub.execute_input": "2021-07-19T04:59:11.440110Z",
     "iopub.status.busy": "2021-07-19T04:59:11.439413Z",
     "iopub.status.idle": "2021-07-19T04:59:11.445206Z",
     "shell.execute_reply": "2021-07-19T04:59:11.445819Z",
     "shell.execute_reply.started": "2021-07-19T04:58:39.877479Z"
    },
    "papermill": {
     "duration": 0.038249,
     "end_time": "2021-07-19T04:59:11.445995",
     "exception": false,
     "start_time": "2021-07-19T04:59:11.407746",
     "status": "completed"
    },
    "tags": []
   },
   "outputs": [
    {
     "data": {
      "text/plain": [
       "Index(['booking_id', 'customer_id', 'status', 'check_in', 'check_out',\n",
       "       'no_of_rooms', 'hotel_id', 'amount', 'discount', 'date_of_booking',\n",
       "       'Unnamed: 10', 'Hotel_id', 'City'],\n",
       "      dtype='object')"
      ]
     },
     "execution_count": 52,
     "metadata": {},
     "output_type": "execute_result"
    }
   ],
   "source": [
    "data.columns"
   ]
  },
  {
   "cell_type": "code",
   "execution_count": 53,
   "metadata": {
    "execution": {
     "iopub.execute_input": "2021-07-19T04:59:11.514484Z",
     "iopub.status.busy": "2021-07-19T04:59:11.513774Z",
     "iopub.status.idle": "2021-07-19T04:59:11.537133Z",
     "shell.execute_reply": "2021-07-19T04:59:11.537582Z",
     "shell.execute_reply.started": "2021-07-19T04:58:39.891526Z"
    },
    "papermill": {
     "duration": 0.062391,
     "end_time": "2021-07-19T04:59:11.537784",
     "exception": false,
     "start_time": "2021-07-19T04:59:11.475393",
     "status": "completed"
    },
    "tags": []
   },
   "outputs": [
    {
     "data": {
      "text/html": [
       "<div>\n",
       "<style scoped>\n",
       "    .dataframe tbody tr th:only-of-type {\n",
       "        vertical-align: middle;\n",
       "    }\n",
       "\n",
       "    .dataframe tbody tr th {\n",
       "        vertical-align: top;\n",
       "    }\n",
       "\n",
       "    .dataframe thead th {\n",
       "        text-align: right;\n",
       "    }\n",
       "</style>\n",
       "<table border=\"1\" class=\"dataframe\">\n",
       "  <thead>\n",
       "    <tr style=\"text-align: right;\">\n",
       "      <th></th>\n",
       "      <th>City</th>\n",
       "      <th>status</th>\n",
       "      <th>booking_id</th>\n",
       "      <th>Total</th>\n",
       "      <th>Cancellation Rate</th>\n",
       "      <th>Labels</th>\n",
       "    </tr>\n",
       "  </thead>\n",
       "  <tbody>\n",
       "    <tr>\n",
       "      <th>0</th>\n",
       "      <td>Bangalore</td>\n",
       "      <td>Cancelled</td>\n",
       "      <td>148</td>\n",
       "      <td>526</td>\n",
       "      <td>28.1</td>\n",
       "      <td>28.1%</td>\n",
       "    </tr>\n",
       "    <tr>\n",
       "      <th>1</th>\n",
       "      <td>Bangalore</td>\n",
       "      <td>No Show</td>\n",
       "      <td>15</td>\n",
       "      <td>526</td>\n",
       "      <td>2.9</td>\n",
       "      <td>2.9%</td>\n",
       "    </tr>\n",
       "    <tr>\n",
       "      <th>2</th>\n",
       "      <td>Bangalore</td>\n",
       "      <td>Stayed</td>\n",
       "      <td>363</td>\n",
       "      <td>526</td>\n",
       "      <td>69.0</td>\n",
       "      <td>69.0%</td>\n",
       "    </tr>\n",
       "    <tr>\n",
       "      <th>3</th>\n",
       "      <td>Chennai</td>\n",
       "      <td>Cancelled</td>\n",
       "      <td>29</td>\n",
       "      <td>98</td>\n",
       "      <td>29.6</td>\n",
       "      <td>29.6%</td>\n",
       "    </tr>\n",
       "    <tr>\n",
       "      <th>4</th>\n",
       "      <td>Chennai</td>\n",
       "      <td>No Show</td>\n",
       "      <td>3</td>\n",
       "      <td>98</td>\n",
       "      <td>3.1</td>\n",
       "      <td>3.1%</td>\n",
       "    </tr>\n",
       "  </tbody>\n",
       "</table>\n",
       "</div>"
      ],
      "text/plain": [
       "        City     status  booking_id  Total  Cancellation Rate Labels\n",
       "0  Bangalore  Cancelled         148    526               28.1  28.1%\n",
       "1  Bangalore    No Show          15    526                2.9   2.9%\n",
       "2  Bangalore     Stayed         363    526               69.0  69.0%\n",
       "3    Chennai  Cancelled          29     98               29.6  29.6%\n",
       "4    Chennai    No Show           3     98                3.1   3.1%"
      ]
     },
     "execution_count": 53,
     "metadata": {},
     "output_type": "execute_result"
    }
   ],
   "source": [
    "status_check=pd.DataFrame(data.groupby(['City','status']).count()['booking_id'])\n",
    "status_check.reset_index(inplace=True)\n",
    "status_check['Total']=status_check.groupby('City')['booking_id'].transform('sum')\n",
    "status_check['Cancellation Rate']=((status_check['booking_id']/status_check['Total'])*100).round(1)\n",
    "status_check['Labels']=status_check['Cancellation Rate'].astype(str) + '%'\n",
    "status_check.head()"
   ]
  },
  {
   "cell_type": "code",
   "execution_count": 54,
   "metadata": {
    "execution": {
     "iopub.execute_input": "2021-07-19T04:59:11.600762Z",
     "iopub.status.busy": "2021-07-19T04:59:11.600049Z",
     "iopub.status.idle": "2021-07-19T04:59:11.899310Z",
     "shell.execute_reply": "2021-07-19T04:59:11.899803Z",
     "shell.execute_reply.started": "2021-07-19T04:58:39.926715Z"
    },
    "papermill": {
     "duration": 0.332126,
     "end_time": "2021-07-19T04:59:11.899986",
     "exception": false,
     "start_time": "2021-07-19T04:59:11.567860",
     "status": "completed"
    },
    "tags": []
   },
   "outputs": [
    {
     "data": {
      "image/png": "[encoded data removed]",
      "text/plain": [
       "<Figure size 720x360 with 1 Axes>"
      ]
     },
     "metadata": {},
     "output_type": "display_data"
    }
   ],
   "source": [
    "#Distribution on a bar plot\n",
    "plt.figure(figsize=(10,5))\n",
    "g2=sns.barplot(data=status_check[status_check['status']=='Cancelled'],x='City',y='Cancellation Rate',palette='GnBu_r')\n",
    "g2.set(title='Cancellation Rate By Cities')\n",
    "\n",
    "for a in g2.patches:\n",
    "    g2.annotate('{:.1f}%'.format(a.get_height()),\n",
    "              ((a.get_x()+a.get_width()/2),a.get_height()),\n",
    "               ha=\"center\", va=\"top\",\n",
    "               xytext=(0,9),\n",
    "               textcoords=\"offset points\")"
   ]
  },
  {
   "cell_type": "code",
   "execution_count": 55,
   "metadata": {
    "execution": {
     "iopub.execute_input": "2021-07-19T04:59:11.965589Z",
     "iopub.status.busy": "2021-07-19T04:59:11.964947Z",
     "iopub.status.idle": "2021-07-19T04:59:11.968190Z",
     "shell.execute_reply": "2021-07-19T04:59:11.968745Z",
     "shell.execute_reply.started": "2021-07-19T04:58:40.222120Z"
    },
    "papermill": {
     "duration": 0.038337,
     "end_time": "2021-07-19T04:59:11.968920",
     "exception": false,
     "start_time": "2021-07-19T04:59:11.930583",
     "status": "completed"
    },
    "tags": []
   },
   "outputs": [],
   "source": [
    "#Delhi has the highest cancellation rate while Pune has the lowest"
   ]
  },
  {
   "cell_type": "markdown",
   "metadata": {
    "papermill": {
     "duration": 0.031618,
     "end_time": "2021-07-19T04:59:12.031112",
     "exception": false,
     "start_time": "2021-07-19T04:59:11.999494",
     "status": "completed"
    },
    "tags": []
   },
   "source": [
    "#3.Booking by Month"
   ]
  },
  {
   "cell_type": "code",
   "execution_count": 56,
   "metadata": {
    "execution": {
     "iopub.execute_input": "2021-07-19T04:59:12.098151Z",
     "iopub.status.busy": "2021-07-19T04:59:12.097465Z",
     "iopub.status.idle": "2021-07-19T04:59:12.121896Z",
     "shell.execute_reply": "2021-07-19T04:59:12.122497Z",
     "shell.execute_reply.started": "2021-07-19T04:58:40.226781Z"
    },
    "papermill": {
     "duration": 0.059511,
     "end_time": "2021-07-19T04:59:12.122720",
     "exception": false,
     "start_time": "2021-07-19T04:59:12.063209",
     "status": "completed"
    },
    "tags": []
   },
   "outputs": [
    {
     "data": {
      "text/html": [
       "<div>\n",
       "<style scoped>\n",
       "    .dataframe tbody tr th:only-of-type {\n",
       "        vertical-align: middle;\n",
       "    }\n",
       "\n",
       "    .dataframe tbody tr th {\n",
       "        vertical-align: top;\n",
       "    }\n",
       "\n",
       "    .dataframe thead th {\n",
       "        text-align: right;\n",
       "    }\n",
       "</style>\n",
       "<table border=\"1\" class=\"dataframe\">\n",
       "  <thead>\n",
       "    <tr style=\"text-align: right;\">\n",
       "      <th></th>\n",
       "      <th>City</th>\n",
       "      <th>Month</th>\n",
       "      <th>booking_id</th>\n",
       "    </tr>\n",
       "  </thead>\n",
       "  <tbody>\n",
       "    <tr>\n",
       "      <th>0</th>\n",
       "      <td>Bangalore</td>\n",
       "      <td>Feb</td>\n",
       "      <td>149</td>\n",
       "    </tr>\n",
       "    <tr>\n",
       "      <th>1</th>\n",
       "      <td>Bangalore</td>\n",
       "      <td>Jan</td>\n",
       "      <td>155</td>\n",
       "    </tr>\n",
       "    <tr>\n",
       "      <th>2</th>\n",
       "      <td>Bangalore</td>\n",
       "      <td>Mar</td>\n",
       "      <td>194</td>\n",
       "    </tr>\n",
       "    <tr>\n",
       "      <th>3</th>\n",
       "      <td>Chennai</td>\n",
       "      <td>Feb</td>\n",
       "      <td>31</td>\n",
       "    </tr>\n",
       "    <tr>\n",
       "      <th>4</th>\n",
       "      <td>Chennai</td>\n",
       "      <td>Jan</td>\n",
       "      <td>38</td>\n",
       "    </tr>\n",
       "  </tbody>\n",
       "</table>\n",
       "</div>"
      ],
      "text/plain": [
       "        City Month  booking_id\n",
       "0  Bangalore   Feb         149\n",
       "1  Bangalore   Jan         155\n",
       "2  Bangalore   Mar         194\n",
       "3    Chennai   Feb          31\n",
       "4    Chennai   Jan          38"
      ]
     },
     "execution_count": 56,
     "metadata": {},
     "output_type": "execute_result"
    }
   ],
   "source": [
    "\n",
    "data['Month']=data['check_in'].apply(lambda x:x.split(\"-\")[1])\n",
    "data['Month']=data['Month'].map({'01':'Jan','02':'Feb','03':'Mar'})\n",
    "data.head()\n",
    "bookings_by_month=pd.DataFrame(data.groupby(['City','Month']).count()['booking_id']).reset_index()\n",
    "bookings_by_month.head()"
   ]
  },
  {
   "cell_type": "code",
   "execution_count": 57,
   "metadata": {
    "execution": {
     "iopub.execute_input": "2021-07-19T04:59:12.189797Z",
     "iopub.status.busy": "2021-07-19T04:59:12.189075Z",
     "iopub.status.idle": "2021-07-19T04:59:12.738336Z",
     "shell.execute_reply": "2021-07-19T04:59:12.738865Z",
     "shell.execute_reply.started": "2021-07-19T04:58:40.256972Z"
    },
    "papermill": {
     "duration": 0.585203,
     "end_time": "2021-07-19T04:59:12.739048",
     "exception": false,
     "start_time": "2021-07-19T04:59:12.153845",
     "status": "completed"
    },
    "tags": []
   },
   "outputs": [
    {
     "data": {
      "image/png": "[encoded data removed]",
      "text/plain": [
       "<Figure size 1080x432 with 1 Axes>"
      ]
     },
     "metadata": {},
     "output_type": "display_data"
    }
   ],
   "source": [
    "plt.figure(figsize=(15,6))\n",
    "g3=sns.barplot(data=bookings_by_month,x='City',y='booking_id',palette='crest',hue='Month',dodge=True)\n",
    "g3.set(title='Number of Bookings by City and Month')\n",
    "\n",
    "for a in g3.patches:\n",
    "    g3.annotate('{:.0f}'.format(a.get_height()),\n",
    "              ((a.get_x()+a.get_width()/2),a.get_height()),\n",
    "               ha=\"center\", va=\"center\",\n",
    "               xytext=(0,9),\n",
    "               textcoords=\"offset points\")"
   ]
  },
  {
   "cell_type": "markdown",
   "metadata": {
    "papermill": {
     "duration": 0.031686,
     "end_time": "2021-07-19T04:59:12.803675",
     "exception": false,
     "start_time": "2021-07-19T04:59:12.771989",
     "status": "completed"
    },
    "tags": []
   },
   "source": [
    "#4.Revenue Distribution by Cities"
   ]
  },
  {
   "cell_type": "code",
   "execution_count": 58,
   "metadata": {
    "execution": {
     "iopub.execute_input": "2021-07-19T04:59:12.873352Z",
     "iopub.status.busy": "2021-07-19T04:59:12.872499Z",
     "iopub.status.idle": "2021-07-19T04:59:12.894436Z",
     "shell.execute_reply": "2021-07-19T04:59:12.893853Z",
     "shell.execute_reply.started": "2021-07-19T04:58:40.827782Z"
    },
    "papermill": {
     "duration": 0.058573,
     "end_time": "2021-07-19T04:59:12.894583",
     "exception": false,
     "start_time": "2021-07-19T04:59:12.836010",
     "status": "completed"
    },
    "tags": []
   },
   "outputs": [],
   "source": [
    "\n",
    "data['Total Price']=data['amount']-data['discount']\n",
    "data['Net Revenue']=data[data['status']!='Cancelled'].groupby(['City'])['Total Price'].transform('sum')\n",
    "data['Gross Revenue']=data.groupby(['City'])['amount'].transform('sum')\n",
    "Revenue=data[data['status']!='Cancelled'][['City','Net Revenue','Gross Revenue']].drop_duplicates()\n",
    "Revenue=pd.melt(Revenue, id_vars=\"City\", var_name=\"Revenue_Type\", value_name=\"Revenue\")"
   ]
  },
  {
   "cell_type": "code",
   "execution_count": 59,
   "metadata": {
    "execution": {
     "iopub.execute_input": "2021-07-19T04:59:12.963165Z",
     "iopub.status.busy": "2021-07-19T04:59:12.962108Z",
     "iopub.status.idle": "2021-07-19T04:59:13.444547Z",
     "shell.execute_reply": "2021-07-19T04:59:13.443954Z",
     "shell.execute_reply.started": "2021-07-19T04:58:40.850815Z"
    },
    "papermill": {
     "duration": 0.517572,
     "end_time": "2021-07-19T04:59:13.444751",
     "exception": false,
     "start_time": "2021-07-19T04:59:12.927179",
     "status": "completed"
    },
    "tags": []
   },
   "outputs": [
    {
     "name": "stderr",
     "output_type": "stream",
     "text": [
      "C:\\Users\\c301574\\Anaconda3\\lib\\site-packages\\seaborn\\categorical.py:3704: UserWarning: The `factorplot` function has been renamed to `catplot`. The original name will be removed in a future release. Please update your code. Note that the default `kind` in `factorplot` (`'point'`) has changed `'strip'` in `catplot`.\n",
      "  warnings.warn(msg)\n"
     ]
    },
    {
     "data": {
      "text/plain": [
       "<Figure size 1152x360 with 0 Axes>"
      ]
     },
     "metadata": {},
     "output_type": "display_data"
    },
    {
     "data": {
      "image/png": "[encoded data removed]",
      "text/plain": [
       "<Figure size 470.625x360 with 1 Axes>"
      ]
     },
     "metadata": {},
     "output_type": "display_data"
    }
   ],
   "source": [
    "plt.figure(figsize=(16,5))\n",
    "g4=sns.factorplot(data=Revenue,x='City',y='Revenue',palette='crest_r',hue='Revenue_Type',kind='bar',dodge=True)\n",
    "g4.set(title='Revenue by City')\n",
    "plt.xticks(rotation=90)\n",
    "plt.show()"
   ]
  }
 ],
 "metadata": {
  "kernelspec": {
   "display_name": "Python 3",
   "language": "python",
   "name": "python3"
  },
  "language_info": {
   "codemirror_mode": {
    "name": "ipython",
    "version": 3
   },
   "file_extension": ".py",
   "mimetype": "text/x-python",
   "name": "python",
   "nbconvert_exporter": "python",
   "pygments_lexer": "ipython3",
   "version": "3.8.5"
  },
  "papermill": {
   "default_parameters": {},
   "duration": 14.826514,
   "end_time": "2021-07-19T04:59:14.963779",
   "environment_variables": {},
   "exception": null,
   "input_path": "__notebook__.ipynb",
   "output_path": "__notebook__.ipynb",
   "parameters": {},
   "start_time": "2021-07-19T04:59:00.137265",
   "version": "2.3.3"
  }
 },
 "nbformat": 4,
 "nbformat_minor": 5
}
