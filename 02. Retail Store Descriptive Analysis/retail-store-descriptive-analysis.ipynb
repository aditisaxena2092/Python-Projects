{
 "cells": [
  {
   "cell_type": "markdown",
   "metadata": {
    "papermill": {
     "duration": 0.017108,
     "end_time": "2021-07-15T09:19:05.159748",
     "exception": false,
     "start_time": "2021-07-15T09:19:05.142640",
     "status": "completed"
    },
    "tags": []
   },
   "source": [
    "# Importing Libraries"
   ]
  },
  {
   "cell_type": "code",
   "execution_count": 1,
   "metadata": {
    "execution": {
     "iopub.execute_input": "2021-07-15T09:19:05.199007Z",
     "iopub.status.busy": "2021-07-15T09:19:05.197833Z",
     "iopub.status.idle": "2021-07-15T09:19:06.230371Z",
     "shell.execute_reply": "2021-07-15T09:19:06.229619Z",
     "shell.execute_reply.started": "2021-07-15T08:33:48.823226Z"
    },
    "papermill": {
     "duration": 1.053374,
     "end_time": "2021-07-15T09:19:06.230540",
     "exception": false,
     "start_time": "2021-07-15T09:19:05.177166",
     "status": "completed"
    },
    "tags": []
   },
   "outputs": [],
   "source": [
    "#data processing\n",
    "import pandas as pd\n",
    "#linear algebra\n",
    "import numpy as np\n",
    "#data visualisation\n",
    "import matplotlib.pyplot as plt\n",
    "%matplotlib inline\n",
    "import seaborn as sns\n"
   ]
  },
  {
   "cell_type": "markdown",
   "metadata": {
    "execution": {
     "iopub.execute_input": "2021-07-14T07:43:04.682084Z",
     "iopub.status.busy": "2021-07-14T07:43:04.681587Z",
     "iopub.status.idle": "2021-07-14T07:43:04.687122Z",
     "shell.execute_reply": "2021-07-14T07:43:04.685878Z",
     "shell.execute_reply.started": "2021-07-14T07:43:04.682031Z"
    },
    "papermill": {
     "duration": 0.017516,
     "end_time": "2021-07-15T09:19:06.265778",
     "exception": false,
     "start_time": "2021-07-15T09:19:06.248262",
     "status": "completed"
    },
    "tags": []
   },
   "source": [
    "# Data imputing"
   ]
  },
  {
   "cell_type": "code",
   "execution_count": 2,
   "metadata": {
    "execution": {
     "iopub.execute_input": "2021-07-15T09:19:06.306601Z",
     "iopub.status.busy": "2021-07-15T09:19:06.305915Z",
     "iopub.status.idle": "2021-07-15T09:19:06.363614Z",
     "shell.execute_reply": "2021-07-15T09:19:06.362974Z",
     "shell.execute_reply.started": "2021-07-15T08:33:49.802269Z"
    },
    "papermill": {
     "duration": 0.080469,
     "end_time": "2021-07-15T09:19:06.363804",
     "exception": false,
     "start_time": "2021-07-15T09:19:06.283335",
     "status": "completed"
    },
    "tags": []
   },
   "outputs": [],
   "source": [
    "#loading datasets\n",
    "orders=pd.read_csv('TR_OrderDetails.csv')\n",
    "products=pd.read_csv('TR_Products.csv')\n",
    "props=pd.read_csv('TR_PropertyInfo.csv')"
   ]
  },
  {
   "cell_type": "code",
   "execution_count": 3,
   "metadata": {
    "execution": {
     "iopub.execute_input": "2021-07-15T09:19:06.405652Z",
     "iopub.status.busy": "2021-07-15T09:19:06.404734Z",
     "iopub.status.idle": "2021-07-15T09:19:06.408464Z",
     "shell.execute_reply": "2021-07-15T09:19:06.409066Z",
     "shell.execute_reply.started": "2021-07-15T08:33:49.849009Z"
    },
    "papermill": {
     "duration": 0.027291,
     "end_time": "2021-07-15T09:19:06.409239",
     "exception": false,
     "start_time": "2021-07-15T09:19:06.381948",
     "status": "completed"
    },
    "tags": []
   },
   "outputs": [
    {
     "name": "stdout",
     "output_type": "stream",
     "text": [
      "Orders, Products and Props datasets have (5000, 5) (94, 4) (20, 3) rows and columns respectively\n"
     ]
    }
   ],
   "source": [
    "#understanding shape of the data\n",
    "print('Orders, Products and Props datasets have',orders.shape,products.shape,props.shape,'rows and columns respectively')"
   ]
  },
  {
   "cell_type": "code",
   "execution_count": 4,
   "metadata": {
    "execution": {
     "iopub.execute_input": "2021-07-15T09:19:06.455276Z",
     "iopub.status.busy": "2021-07-15T09:19:06.454415Z",
     "iopub.status.idle": "2021-07-15T09:19:06.491122Z",
     "shell.execute_reply": "2021-07-15T09:19:06.490532Z",
     "shell.execute_reply.started": "2021-07-15T08:33:49.855450Z"
    },
    "papermill": {
     "duration": 0.063945,
     "end_time": "2021-07-15T09:19:06.491269",
     "exception": false,
     "start_time": "2021-07-15T09:19:06.427324",
     "status": "completed"
    },
    "tags": []
   },
   "outputs": [
    {
     "data": {
      "text/html": [
       "<div>\n",
       "<style scoped>\n",
       "    .dataframe tbody tr th:only-of-type {\n",
       "        vertical-align: middle;\n",
       "    }\n",
       "\n",
       "    .dataframe tbody tr th {\n",
       "        vertical-align: top;\n",
       "    }\n",
       "\n",
       "    .dataframe thead th {\n",
       "        text-align: right;\n",
       "    }\n",
       "</style>\n",
       "<table border=\"1\" class=\"dataframe\">\n",
       "  <thead>\n",
       "    <tr style=\"text-align: right;\">\n",
       "      <th></th>\n",
       "      <th>OrderID</th>\n",
       "      <th>OrderDate</th>\n",
       "      <th>PropertyID</th>\n",
       "      <th>ProductID</th>\n",
       "      <th>Quantity</th>\n",
       "      <th>ProductName</th>\n",
       "      <th>ProductCategory</th>\n",
       "      <th>Price</th>\n",
       "    </tr>\n",
       "  </thead>\n",
       "  <tbody>\n",
       "    <tr>\n",
       "      <th>0</th>\n",
       "      <td>1</td>\n",
       "      <td>01-01-2015</td>\n",
       "      <td>17</td>\n",
       "      <td>41</td>\n",
       "      <td>1</td>\n",
       "      <td>Office Chair</td>\n",
       "      <td>Furnishings</td>\n",
       "      <td>85</td>\n",
       "    </tr>\n",
       "    <tr>\n",
       "      <th>1</th>\n",
       "      <td>2</td>\n",
       "      <td>01-01-2015</td>\n",
       "      <td>15</td>\n",
       "      <td>54</td>\n",
       "      <td>2</td>\n",
       "      <td>Chest of Drawers</td>\n",
       "      <td>Furnishings</td>\n",
       "      <td>150</td>\n",
       "    </tr>\n",
       "    <tr>\n",
       "      <th>2</th>\n",
       "      <td>3</td>\n",
       "      <td>01-01-2015</td>\n",
       "      <td>5</td>\n",
       "      <td>71</td>\n",
       "      <td>2</td>\n",
       "      <td>Hammer</td>\n",
       "      <td>Maintenance</td>\n",
       "      <td>17</td>\n",
       "    </tr>\n",
       "    <tr>\n",
       "      <th>3</th>\n",
       "      <td>4</td>\n",
       "      <td>01-01-2015</td>\n",
       "      <td>19</td>\n",
       "      <td>3</td>\n",
       "      <td>2</td>\n",
       "      <td>Washcloth</td>\n",
       "      <td>Housekeeping</td>\n",
       "      <td>3</td>\n",
       "    </tr>\n",
       "    <tr>\n",
       "      <th>4</th>\n",
       "      <td>5</td>\n",
       "      <td>01-01-2015</td>\n",
       "      <td>12</td>\n",
       "      <td>45</td>\n",
       "      <td>3</td>\n",
       "      <td>Computer Desk</td>\n",
       "      <td>Furnishings</td>\n",
       "      <td>102</td>\n",
       "    </tr>\n",
       "  </tbody>\n",
       "</table>\n",
       "</div>"
      ],
      "text/plain": [
       "   OrderID   OrderDate  PropertyID  ProductID  Quantity       ProductName  \\\n",
       "0        1  01-01-2015          17         41         1      Office Chair   \n",
       "1        2  01-01-2015          15         54         2  Chest of Drawers   \n",
       "2        3  01-01-2015           5         71         2            Hammer   \n",
       "3        4  01-01-2015          19          3         2         Washcloth   \n",
       "4        5  01-01-2015          12         45         3     Computer Desk   \n",
       "\n",
       "  ProductCategory  Price  \n",
       "0     Furnishings     85  \n",
       "1     Furnishings    150  \n",
       "2     Maintenance     17  \n",
       "3    Housekeeping      3  \n",
       "4     Furnishings    102  "
      ]
     },
     "execution_count": 4,
     "metadata": {},
     "output_type": "execute_result"
    }
   ],
   "source": [
    "#merging the datasets\n",
    "df=orders.merge(products,left_on='ProductID',right_on='ProductID',how='left')\n",
    "df.head()"
   ]
  },
  {
   "cell_type": "code",
   "execution_count": 5,
   "metadata": {
    "execution": {
     "iopub.execute_input": "2021-07-15T09:19:06.535231Z",
     "iopub.status.busy": "2021-07-15T09:19:06.534214Z",
     "iopub.status.idle": "2021-07-15T09:19:06.552122Z",
     "shell.execute_reply": "2021-07-15T09:19:06.552577Z",
     "shell.execute_reply.started": "2021-07-15T08:33:49.903984Z"
    },
    "papermill": {
     "duration": 0.042765,
     "end_time": "2021-07-15T09:19:06.552780",
     "exception": false,
     "start_time": "2021-07-15T09:19:06.510015",
     "status": "completed"
    },
    "tags": []
   },
   "outputs": [
    {
     "data": {
      "text/html": [
       "<div>\n",
       "<style scoped>\n",
       "    .dataframe tbody tr th:only-of-type {\n",
       "        vertical-align: middle;\n",
       "    }\n",
       "\n",
       "    .dataframe tbody tr th {\n",
       "        vertical-align: top;\n",
       "    }\n",
       "\n",
       "    .dataframe thead th {\n",
       "        text-align: right;\n",
       "    }\n",
       "</style>\n",
       "<table border=\"1\" class=\"dataframe\">\n",
       "  <thead>\n",
       "    <tr style=\"text-align: right;\">\n",
       "      <th></th>\n",
       "      <th>OrderID</th>\n",
       "      <th>OrderDate</th>\n",
       "      <th>PropertyID</th>\n",
       "      <th>ProductID</th>\n",
       "      <th>Quantity</th>\n",
       "      <th>ProductName</th>\n",
       "      <th>ProductCategory</th>\n",
       "      <th>Price</th>\n",
       "      <th>Prop ID</th>\n",
       "      <th>PropertyCity</th>\n",
       "      <th>PropertyState</th>\n",
       "    </tr>\n",
       "  </thead>\n",
       "  <tbody>\n",
       "    <tr>\n",
       "      <th>0</th>\n",
       "      <td>1</td>\n",
       "      <td>01-01-2015</td>\n",
       "      <td>17</td>\n",
       "      <td>41</td>\n",
       "      <td>1</td>\n",
       "      <td>Office Chair</td>\n",
       "      <td>Furnishings</td>\n",
       "      <td>85</td>\n",
       "      <td>17</td>\n",
       "      <td>Las Vegas</td>\n",
       "      <td>Nevada</td>\n",
       "    </tr>\n",
       "    <tr>\n",
       "      <th>1</th>\n",
       "      <td>2</td>\n",
       "      <td>01-01-2015</td>\n",
       "      <td>15</td>\n",
       "      <td>54</td>\n",
       "      <td>2</td>\n",
       "      <td>Chest of Drawers</td>\n",
       "      <td>Furnishings</td>\n",
       "      <td>150</td>\n",
       "      <td>15</td>\n",
       "      <td>Chicago</td>\n",
       "      <td>Illinois</td>\n",
       "    </tr>\n",
       "    <tr>\n",
       "      <th>2</th>\n",
       "      <td>3</td>\n",
       "      <td>01-01-2015</td>\n",
       "      <td>5</td>\n",
       "      <td>71</td>\n",
       "      <td>2</td>\n",
       "      <td>Hammer</td>\n",
       "      <td>Maintenance</td>\n",
       "      <td>17</td>\n",
       "      <td>5</td>\n",
       "      <td>Kansas City</td>\n",
       "      <td>Missouri</td>\n",
       "    </tr>\n",
       "    <tr>\n",
       "      <th>3</th>\n",
       "      <td>4</td>\n",
       "      <td>01-01-2015</td>\n",
       "      <td>19</td>\n",
       "      <td>3</td>\n",
       "      <td>2</td>\n",
       "      <td>Washcloth</td>\n",
       "      <td>Housekeeping</td>\n",
       "      <td>3</td>\n",
       "      <td>19</td>\n",
       "      <td>Los Angeles</td>\n",
       "      <td>California</td>\n",
       "    </tr>\n",
       "    <tr>\n",
       "      <th>4</th>\n",
       "      <td>5</td>\n",
       "      <td>01-01-2015</td>\n",
       "      <td>12</td>\n",
       "      <td>45</td>\n",
       "      <td>3</td>\n",
       "      <td>Computer Desk</td>\n",
       "      <td>Furnishings</td>\n",
       "      <td>102</td>\n",
       "      <td>12</td>\n",
       "      <td>Dallas</td>\n",
       "      <td>Texas</td>\n",
       "    </tr>\n",
       "  </tbody>\n",
       "</table>\n",
       "</div>"
      ],
      "text/plain": [
       "   OrderID   OrderDate  PropertyID  ProductID  Quantity       ProductName  \\\n",
       "0        1  01-01-2015          17         41         1      Office Chair   \n",
       "1        2  01-01-2015          15         54         2  Chest of Drawers   \n",
       "2        3  01-01-2015           5         71         2            Hammer   \n",
       "3        4  01-01-2015          19          3         2         Washcloth   \n",
       "4        5  01-01-2015          12         45         3     Computer Desk   \n",
       "\n",
       "  ProductCategory  Price  Prop ID PropertyCity PropertyState  \n",
       "0     Furnishings     85       17    Las Vegas        Nevada  \n",
       "1     Furnishings    150       15      Chicago      Illinois  \n",
       "2     Maintenance     17        5  Kansas City      Missouri  \n",
       "3    Housekeeping      3       19  Los Angeles    California  \n",
       "4     Furnishings    102       12       Dallas         Texas  "
      ]
     },
     "execution_count": 5,
     "metadata": {},
     "output_type": "execute_result"
    }
   ],
   "source": [
    "data=df.merge(props,left_on='PropertyID',right_on='Prop ID',how='left')\n",
    "data.head()"
   ]
  },
  {
   "cell_type": "code",
   "execution_count": 6,
   "metadata": {
    "execution": {
     "iopub.execute_input": "2021-07-15T09:19:06.598435Z",
     "iopub.status.busy": "2021-07-15T09:19:06.597226Z",
     "iopub.status.idle": "2021-07-15T09:19:06.637609Z",
     "shell.execute_reply": "2021-07-15T09:19:06.638174Z",
     "shell.execute_reply.started": "2021-07-15T08:33:49.926403Z"
    },
    "papermill": {
     "duration": 0.066467,
     "end_time": "2021-07-15T09:19:06.638368",
     "exception": false,
     "start_time": "2021-07-15T09:19:06.571901",
     "status": "completed"
    },
    "tags": []
   },
   "outputs": [
    {
     "data": {
      "text/html": [
       "<div>\n",
       "<style scoped>\n",
       "    .dataframe tbody tr th:only-of-type {\n",
       "        vertical-align: middle;\n",
       "    }\n",
       "\n",
       "    .dataframe tbody tr th {\n",
       "        vertical-align: top;\n",
       "    }\n",
       "\n",
       "    .dataframe thead th {\n",
       "        text-align: right;\n",
       "    }\n",
       "</style>\n",
       "<table border=\"1\" class=\"dataframe\">\n",
       "  <thead>\n",
       "    <tr style=\"text-align: right;\">\n",
       "      <th></th>\n",
       "      <th>OrderID</th>\n",
       "      <th>OrderDate</th>\n",
       "      <th>PropertyID</th>\n",
       "      <th>ProductID</th>\n",
       "      <th>Quantity</th>\n",
       "      <th>ProductName</th>\n",
       "      <th>ProductCategory</th>\n",
       "      <th>Price</th>\n",
       "      <th>Prop ID</th>\n",
       "      <th>PropertyCity</th>\n",
       "      <th>PropertyState</th>\n",
       "      <th>Total Sales</th>\n",
       "    </tr>\n",
       "  </thead>\n",
       "  <tbody>\n",
       "    <tr>\n",
       "      <th>0</th>\n",
       "      <td>1</td>\n",
       "      <td>01-01-2015</td>\n",
       "      <td>17</td>\n",
       "      <td>41</td>\n",
       "      <td>1</td>\n",
       "      <td>Office Chair</td>\n",
       "      <td>Furnishings</td>\n",
       "      <td>85</td>\n",
       "      <td>17</td>\n",
       "      <td>Las Vegas</td>\n",
       "      <td>Nevada</td>\n",
       "      <td>17</td>\n",
       "    </tr>\n",
       "    <tr>\n",
       "      <th>1</th>\n",
       "      <td>2</td>\n",
       "      <td>01-01-2015</td>\n",
       "      <td>15</td>\n",
       "      <td>54</td>\n",
       "      <td>2</td>\n",
       "      <td>Chest of Drawers</td>\n",
       "      <td>Furnishings</td>\n",
       "      <td>150</td>\n",
       "      <td>15</td>\n",
       "      <td>Chicago</td>\n",
       "      <td>Illinois</td>\n",
       "      <td>30</td>\n",
       "    </tr>\n",
       "    <tr>\n",
       "      <th>2</th>\n",
       "      <td>3</td>\n",
       "      <td>01-01-2015</td>\n",
       "      <td>5</td>\n",
       "      <td>71</td>\n",
       "      <td>2</td>\n",
       "      <td>Hammer</td>\n",
       "      <td>Maintenance</td>\n",
       "      <td>17</td>\n",
       "      <td>5</td>\n",
       "      <td>Kansas City</td>\n",
       "      <td>Missouri</td>\n",
       "      <td>10</td>\n",
       "    </tr>\n",
       "    <tr>\n",
       "      <th>3</th>\n",
       "      <td>4</td>\n",
       "      <td>01-01-2015</td>\n",
       "      <td>19</td>\n",
       "      <td>3</td>\n",
       "      <td>2</td>\n",
       "      <td>Washcloth</td>\n",
       "      <td>Housekeeping</td>\n",
       "      <td>3</td>\n",
       "      <td>19</td>\n",
       "      <td>Los Angeles</td>\n",
       "      <td>California</td>\n",
       "      <td>38</td>\n",
       "    </tr>\n",
       "    <tr>\n",
       "      <th>4</th>\n",
       "      <td>5</td>\n",
       "      <td>01-01-2015</td>\n",
       "      <td>12</td>\n",
       "      <td>45</td>\n",
       "      <td>3</td>\n",
       "      <td>Computer Desk</td>\n",
       "      <td>Furnishings</td>\n",
       "      <td>102</td>\n",
       "      <td>12</td>\n",
       "      <td>Dallas</td>\n",
       "      <td>Texas</td>\n",
       "      <td>36</td>\n",
       "    </tr>\n",
       "  </tbody>\n",
       "</table>\n",
       "</div>"
      ],
      "text/plain": [
       "   OrderID   OrderDate  PropertyID  ProductID  Quantity       ProductName  \\\n",
       "0        1  01-01-2015          17         41         1      Office Chair   \n",
       "1        2  01-01-2015          15         54         2  Chest of Drawers   \n",
       "2        3  01-01-2015           5         71         2            Hammer   \n",
       "3        4  01-01-2015          19          3         2         Washcloth   \n",
       "4        5  01-01-2015          12         45         3     Computer Desk   \n",
       "\n",
       "  ProductCategory  Price  Prop ID PropertyCity PropertyState  Total Sales  \n",
       "0     Furnishings     85       17    Las Vegas        Nevada           17  \n",
       "1     Furnishings    150       15      Chicago      Illinois           30  \n",
       "2     Maintenance     17        5  Kansas City      Missouri           10  \n",
       "3    Housekeeping      3       19  Los Angeles    California           38  \n",
       "4     Furnishings    102       12       Dallas         Texas           36  "
      ]
     },
     "execution_count": 6,
     "metadata": {},
     "output_type": "execute_result"
    }
   ],
   "source": [
    "#Calculating Total Sales\n",
    "data['Total Sales']= data['Quantity']*data['Prop ID']\n",
    "data.head()"
   ]
  },
  {
   "cell_type": "code",
   "execution_count": 7,
   "metadata": {
    "execution": {
     "iopub.execute_input": "2021-07-15T09:19:06.700060Z",
     "iopub.status.busy": "2021-07-15T09:19:06.699294Z",
     "iopub.status.idle": "2021-07-15T09:19:06.703255Z",
     "shell.execute_reply": "2021-07-15T09:19:06.702727Z",
     "shell.execute_reply.started": "2021-07-15T08:33:49.958858Z"
    },
    "papermill": {
     "duration": 0.0353,
     "end_time": "2021-07-15T09:19:06.703391",
     "exception": false,
     "start_time": "2021-07-15T09:19:06.668091",
     "status": "completed"
    },
    "tags": []
   },
   "outputs": [
    {
     "data": {
      "text/plain": [
       "(5000, 12)"
      ]
     },
     "execution_count": 7,
     "metadata": {},
     "output_type": "execute_result"
    }
   ],
   "source": [
    "data.shape"
   ]
  },
  {
   "cell_type": "code",
   "execution_count": 8,
   "metadata": {
    "execution": {
     "iopub.execute_input": "2021-07-15T09:19:06.762200Z",
     "iopub.status.busy": "2021-07-15T09:19:06.754326Z",
     "iopub.status.idle": "2021-07-15T09:19:06.772771Z",
     "shell.execute_reply": "2021-07-15T09:19:06.773260Z",
     "shell.execute_reply.started": "2021-07-15T08:33:49.967524Z"
    },
    "papermill": {
     "duration": 0.049248,
     "end_time": "2021-07-15T09:19:06.773451",
     "exception": false,
     "start_time": "2021-07-15T09:19:06.724203",
     "status": "completed"
    },
    "tags": []
   },
   "outputs": [
    {
     "name": "stdout",
     "output_type": "stream",
     "text": [
      "<class 'pandas.core.frame.DataFrame'>\n",
      "Int64Index: 5000 entries, 0 to 4999\n",
      "Data columns (total 12 columns):\n",
      " #   Column           Non-Null Count  Dtype \n",
      "---  ------           --------------  ----- \n",
      " 0   OrderID          5000 non-null   int64 \n",
      " 1   OrderDate        5000 non-null   object\n",
      " 2   PropertyID       5000 non-null   int64 \n",
      " 3   ProductID        5000 non-null   int64 \n",
      " 4   Quantity         5000 non-null   int64 \n",
      " 5   ProductName      5000 non-null   object\n",
      " 6   ProductCategory  5000 non-null   object\n",
      " 7   Price            5000 non-null   int64 \n",
      " 8   Prop ID          5000 non-null   int64 \n",
      " 9   PropertyCity     5000 non-null   object\n",
      " 10  PropertyState    5000 non-null   object\n",
      " 11  Total Sales      5000 non-null   int64 \n",
      "dtypes: int64(7), object(5)\n",
      "memory usage: 507.8+ KB\n"
     ]
    }
   ],
   "source": [
    "data.info()"
   ]
  },
  {
   "cell_type": "code",
   "execution_count": 9,
   "metadata": {
    "execution": {
     "iopub.execute_input": "2021-07-15T09:19:06.822494Z",
     "iopub.status.busy": "2021-07-15T09:19:06.821830Z",
     "iopub.status.idle": "2021-07-15T09:19:06.854951Z",
     "shell.execute_reply": "2021-07-15T09:19:06.855465Z",
     "shell.execute_reply.started": "2021-07-15T08:33:49.994365Z"
    },
    "papermill": {
     "duration": 0.061416,
     "end_time": "2021-07-15T09:19:06.855650",
     "exception": false,
     "start_time": "2021-07-15T09:19:06.794234",
     "status": "completed"
    },
    "tags": []
   },
   "outputs": [
    {
     "data": {
      "text/html": [
       "<div>\n",
       "<style scoped>\n",
       "    .dataframe tbody tr th:only-of-type {\n",
       "        vertical-align: middle;\n",
       "    }\n",
       "\n",
       "    .dataframe tbody tr th {\n",
       "        vertical-align: top;\n",
       "    }\n",
       "\n",
       "    .dataframe thead th {\n",
       "        text-align: right;\n",
       "    }\n",
       "</style>\n",
       "<table border=\"1\" class=\"dataframe\">\n",
       "  <thead>\n",
       "    <tr style=\"text-align: right;\">\n",
       "      <th></th>\n",
       "      <th>OrderID</th>\n",
       "      <th>PropertyID</th>\n",
       "      <th>ProductID</th>\n",
       "      <th>Quantity</th>\n",
       "      <th>Price</th>\n",
       "      <th>Prop ID</th>\n",
       "      <th>Total Sales</th>\n",
       "    </tr>\n",
       "  </thead>\n",
       "  <tbody>\n",
       "    <tr>\n",
       "      <th>count</th>\n",
       "      <td>5000.000000</td>\n",
       "      <td>5000.000000</td>\n",
       "      <td>5000.000000</td>\n",
       "      <td>5000.000000</td>\n",
       "      <td>5000.000000</td>\n",
       "      <td>5000.000000</td>\n",
       "      <td>5000.000000</td>\n",
       "    </tr>\n",
       "    <tr>\n",
       "      <th>mean</th>\n",
       "      <td>2500.500000</td>\n",
       "      <td>10.541400</td>\n",
       "      <td>47.162600</td>\n",
       "      <td>2.019200</td>\n",
       "      <td>52.919000</td>\n",
       "      <td>10.541400</td>\n",
       "      <td>21.145800</td>\n",
       "    </tr>\n",
       "    <tr>\n",
       "      <th>std</th>\n",
       "      <td>1443.520003</td>\n",
       "      <td>5.719478</td>\n",
       "      <td>27.355004</td>\n",
       "      <td>0.811519</td>\n",
       "      <td>57.552297</td>\n",
       "      <td>5.719478</td>\n",
       "      <td>14.786746</td>\n",
       "    </tr>\n",
       "    <tr>\n",
       "      <th>min</th>\n",
       "      <td>1.000000</td>\n",
       "      <td>1.000000</td>\n",
       "      <td>1.000000</td>\n",
       "      <td>1.000000</td>\n",
       "      <td>3.000000</td>\n",
       "      <td>1.000000</td>\n",
       "      <td>1.000000</td>\n",
       "    </tr>\n",
       "    <tr>\n",
       "      <th>25%</th>\n",
       "      <td>1250.750000</td>\n",
       "      <td>6.000000</td>\n",
       "      <td>23.000000</td>\n",
       "      <td>1.000000</td>\n",
       "      <td>17.000000</td>\n",
       "      <td>6.000000</td>\n",
       "      <td>9.000000</td>\n",
       "    </tr>\n",
       "    <tr>\n",
       "      <th>50%</th>\n",
       "      <td>2500.500000</td>\n",
       "      <td>11.000000</td>\n",
       "      <td>47.000000</td>\n",
       "      <td>2.000000</td>\n",
       "      <td>30.000000</td>\n",
       "      <td>11.000000</td>\n",
       "      <td>18.000000</td>\n",
       "    </tr>\n",
       "    <tr>\n",
       "      <th>75%</th>\n",
       "      <td>3750.250000</td>\n",
       "      <td>15.000000</td>\n",
       "      <td>70.000000</td>\n",
       "      <td>3.000000</td>\n",
       "      <td>75.000000</td>\n",
       "      <td>15.000000</td>\n",
       "      <td>30.000000</td>\n",
       "    </tr>\n",
       "    <tr>\n",
       "      <th>max</th>\n",
       "      <td>5000.000000</td>\n",
       "      <td>20.000000</td>\n",
       "      <td>94.000000</td>\n",
       "      <td>3.000000</td>\n",
       "      <td>300.000000</td>\n",
       "      <td>20.000000</td>\n",
       "      <td>60.000000</td>\n",
       "    </tr>\n",
       "  </tbody>\n",
       "</table>\n",
       "</div>"
      ],
      "text/plain": [
       "           OrderID   PropertyID    ProductID     Quantity        Price  \\\n",
       "count  5000.000000  5000.000000  5000.000000  5000.000000  5000.000000   \n",
       "mean   2500.500000    10.541400    47.162600     2.019200    52.919000   \n",
       "std    1443.520003     5.719478    27.355004     0.811519    57.552297   \n",
       "min       1.000000     1.000000     1.000000     1.000000     3.000000   \n",
       "25%    1250.750000     6.000000    23.000000     1.000000    17.000000   \n",
       "50%    2500.500000    11.000000    47.000000     2.000000    30.000000   \n",
       "75%    3750.250000    15.000000    70.000000     3.000000    75.000000   \n",
       "max    5000.000000    20.000000    94.000000     3.000000   300.000000   \n",
       "\n",
       "           Prop ID  Total Sales  \n",
       "count  5000.000000  5000.000000  \n",
       "mean     10.541400    21.145800  \n",
       "std       5.719478    14.786746  \n",
       "min       1.000000     1.000000  \n",
       "25%       6.000000     9.000000  \n",
       "50%      11.000000    18.000000  \n",
       "75%      15.000000    30.000000  \n",
       "max      20.000000    60.000000  "
      ]
     },
     "execution_count": 9,
     "metadata": {},
     "output_type": "execute_result"
    }
   ],
   "source": [
    "data.describe()"
   ]
  },
  {
   "cell_type": "code",
   "execution_count": 10,
   "metadata": {
    "execution": {
     "iopub.execute_input": "2021-07-15T09:19:06.905189Z",
     "iopub.status.busy": "2021-07-15T09:19:06.904440Z",
     "iopub.status.idle": "2021-07-15T09:19:06.910443Z",
     "shell.execute_reply": "2021-07-15T09:19:06.910945Z",
     "shell.execute_reply.started": "2021-07-15T08:33:50.032551Z"
    },
    "papermill": {
     "duration": 0.034386,
     "end_time": "2021-07-15T09:19:06.911126",
     "exception": false,
     "start_time": "2021-07-15T09:19:06.876740",
     "status": "completed"
    },
    "tags": []
   },
   "outputs": [
    {
     "data": {
      "text/plain": [
       "OrderID            0\n",
       "OrderDate          0\n",
       "PropertyID         0\n",
       "ProductID          0\n",
       "Quantity           0\n",
       "ProductName        0\n",
       "ProductCategory    0\n",
       "Price              0\n",
       "Prop ID            0\n",
       "PropertyCity       0\n",
       "PropertyState      0\n",
       "Total Sales        0\n",
       "dtype: int64"
      ]
     },
     "execution_count": 10,
     "metadata": {},
     "output_type": "execute_result"
    }
   ],
   "source": [
    "#check for nulls\n",
    "data.isnull().sum()"
   ]
  },
  {
   "cell_type": "code",
   "execution_count": 11,
   "metadata": {
    "execution": {
     "iopub.execute_input": "2021-07-15T09:19:06.957236Z",
     "iopub.status.busy": "2021-07-15T09:19:06.956588Z",
     "iopub.status.idle": "2021-07-15T09:19:06.961567Z",
     "shell.execute_reply": "2021-07-15T09:19:06.962114Z",
     "shell.execute_reply.started": "2021-07-15T08:33:50.045799Z"
    },
    "papermill": {
     "duration": 0.029893,
     "end_time": "2021-07-15T09:19:06.962281",
     "exception": false,
     "start_time": "2021-07-15T09:19:06.932388",
     "status": "completed"
    },
    "tags": []
   },
   "outputs": [
    {
     "data": {
      "text/plain": [
       "3"
      ]
     },
     "execution_count": 11,
     "metadata": {},
     "output_type": "execute_result"
    }
   ],
   "source": [
    "#1. Maximum quantity sold in any transaction\n",
    "data['Quantity'].max()"
   ]
  },
  {
   "cell_type": "code",
   "execution_count": 12,
   "metadata": {
    "execution": {
     "iopub.execute_input": "2021-07-15T09:19:07.008135Z",
     "iopub.status.busy": "2021-07-15T09:19:07.007481Z",
     "iopub.status.idle": "2021-07-15T09:19:07.015213Z",
     "shell.execute_reply": "2021-07-15T09:19:07.014537Z",
     "shell.execute_reply.started": "2021-07-15T08:33:50.058763Z"
    },
    "papermill": {
     "duration": 0.031572,
     "end_time": "2021-07-15T09:19:07.015357",
     "exception": false,
     "start_time": "2021-07-15T09:19:06.983785",
     "status": "completed"
    },
    "tags": []
   },
   "outputs": [
    {
     "name": "stdout",
     "output_type": "stream",
     "text": [
      "There are 94 unique products in the store\n"
     ]
    }
   ],
   "source": [
    "#2. Unique products in all the transactions\n",
    "print(\"There are\" ,data['ProductName'].nunique(),\"unique products in the store\")"
   ]
  },
  {
   "cell_type": "code",
   "execution_count": 13,
   "metadata": {
    "execution": {
     "iopub.execute_input": "2021-07-15T09:19:07.067268Z",
     "iopub.status.busy": "2021-07-15T09:19:07.066602Z",
     "iopub.status.idle": "2021-07-15T09:19:07.070379Z",
     "shell.execute_reply": "2021-07-15T09:19:07.069840Z",
     "shell.execute_reply.started": "2021-07-15T08:33:50.071833Z"
    },
    "papermill": {
     "duration": 0.033188,
     "end_time": "2021-07-15T09:19:07.070528",
     "exception": false,
     "start_time": "2021-07-15T09:19:07.037340",
     "status": "completed"
    },
    "tags": []
   },
   "outputs": [
    {
     "data": {
      "text/plain": [
       "<bound method Series.unique of 0           Office Chair\n",
       "1       Chest of Drawers\n",
       "2                 Hammer\n",
       "3              Washcloth\n",
       "4          Computer Desk\n",
       "              ...       \n",
       "4995        Swivel Chair\n",
       "4996     Wireless Router\n",
       "4997      Large Area Rug\n",
       "4998     Wireless Router\n",
       "4999             Tissues\n",
       "Name: ProductName, Length: 5000, dtype: object>"
      ]
     },
     "execution_count": 13,
     "metadata": {},
     "output_type": "execute_result"
    }
   ],
   "source": [
    "data['ProductName'].unique"
   ]
  },
  {
   "cell_type": "code",
   "execution_count": 14,
   "metadata": {
    "execution": {
     "iopub.execute_input": "2021-07-15T09:19:07.124965Z",
     "iopub.status.busy": "2021-07-15T09:19:07.124264Z",
     "iopub.status.idle": "2021-07-15T09:19:07.445636Z",
     "shell.execute_reply": "2021-07-15T09:19:07.445062Z",
     "shell.execute_reply.started": "2021-07-15T09:12:06.320014Z"
    },
    "papermill": {
     "duration": 0.352863,
     "end_time": "2021-07-15T09:19:07.445884",
     "exception": false,
     "start_time": "2021-07-15T09:19:07.093021",
     "status": "completed"
    },
    "tags": []
   },
   "outputs": [
    {
     "data": {
      "image/png": "[encoded data removed]",
      "text/plain": [
       "<Figure size 864x216 with 1 Axes>"
      ]
     },
     "metadata": {
      "needs_background": "light"
     },
     "output_type": "display_data"
    }
   ],
   "source": [
    "#Total sales of each product\n",
    "#By quantity\n",
    "Top_by_quant=pd.DataFrame(data.groupby(['ProductName']).sum()['Quantity']).sort_values(by='Quantity',ascending=False)\n",
    "Top_by_quant=Top_by_quant.reset_index()\n",
    "#Plotting Top 10\n",
    "plt.figure(figsize=(12,3))\n",
    "graph1=sns.barplot(data=Top_by_quant.head(10),x='ProductName',y='Quantity',palette='rocket')\n",
    "graph1.set(title='Top 10 Products by Quantity')\n",
    "plt.xticks(rotation=90)\n",
    "#plt.show()\n",
    "\n",
    "for p in graph1.patches:\n",
    "    graph1.annotate(format(p.get_height(), '1.0f'), \n",
    "                   (p.get_x() + p.get_width() / 2., p.get_height()), \n",
    "                   ha = 'center', va = 'center', \n",
    "                   xytext = (0, 9) ,\n",
    "                   textcoords = 'offset points')"
   ]
  },
  {
   "cell_type": "code",
   "execution_count": 15,
   "metadata": {
    "execution": {
     "iopub.execute_input": "2021-07-15T09:19:07.503041Z",
     "iopub.status.busy": "2021-07-15T09:19:07.502006Z",
     "iopub.status.idle": "2021-07-15T09:19:07.800680Z",
     "shell.execute_reply": "2021-07-15T09:19:07.800181Z",
     "shell.execute_reply.started": "2021-07-15T09:16:56.590928Z"
    },
    "papermill": {
     "duration": 0.331361,
     "end_time": "2021-07-15T09:19:07.800842",
     "exception": false,
     "start_time": "2021-07-15T09:19:07.469481",
     "status": "completed"
    },
    "tags": []
   },
   "outputs": [
    {
     "data": {
      "image/png": "[encoded data removed]",
      "text/plain": [
       "<Figure size 864x216 with 1 Axes>"
      ]
     },
     "metadata": {
      "needs_background": "light"
     },
     "output_type": "display_data"
    }
   ],
   "source": [
    "#By Sales\n",
    "Top_by_sales=pd.DataFrame(data.groupby(['ProductName']).sum()['Total Sales']).sort_values(by='Total Sales',ascending=False)\n",
    "Top_by_sales=Top_by_sales.reset_index()\n",
    "#Plotting Top 10\n",
    "plt.figure(figsize=(12,3))\n",
    "graph2=sns.barplot(data=Top_by_sales.head(10),x='ProductName',y='Total Sales',palette='mako')\n",
    "graph2.set(title='Top 10 Products by Dollar Sales')\n",
    "plt.xticks(rotation=90)\n",
    "#plt.show()\n",
    "\n",
    "for a in graph2.patches:\n",
    "    graph2.annotate(format(a.get_height(),'1.0f'),\n",
    "                   (a.get_x()+a.get_width()/2,a.get_height()),\n",
    "                   ha=\"center\",va=\"center\",\n",
    "                   xytext=(0,9),\n",
    "                   textcoords='offset points')"
   ]
  },
  {
   "cell_type": "code",
   "execution_count": 16,
   "metadata": {
    "execution": {
     "iopub.execute_input": "2021-07-15T09:19:07.859492Z",
     "iopub.status.busy": "2021-07-15T09:19:07.858502Z",
     "iopub.status.idle": "2021-07-15T09:19:07.872179Z",
     "shell.execute_reply": "2021-07-15T09:19:07.871425Z",
     "shell.execute_reply.started": "2021-07-15T08:33:50.561101Z"
    },
    "papermill": {
     "duration": 0.046054,
     "end_time": "2021-07-15T09:19:07.872349",
     "exception": false,
     "start_time": "2021-07-15T09:19:07.826295",
     "status": "completed"
    },
    "tags": []
   },
   "outputs": [],
   "source": [
    "#Products distribution by category\n",
    "prod_cat=pd.DataFrame(data.groupby(['ProductCategory','ProductName']).sum()['Quantity'])\n",
    "prod_cat=prod_cat.reset_index().sort_values(by=['ProductCategory','Quantity'],ascending=False)\n",
    "#Top 5 Products in each category by quantity sold\n",
    "Top_5_prod_cat=prod_cat.groupby('ProductCategory').head(5)"
   ]
  },
  {
   "cell_type": "code",
   "execution_count": 17,
   "metadata": {
    "execution": {
     "iopub.execute_input": "2021-07-15T09:19:07.934918Z",
     "iopub.status.busy": "2021-07-15T09:19:07.932983Z",
     "iopub.status.idle": "2021-07-15T09:19:10.007664Z",
     "shell.execute_reply": "2021-07-15T09:19:10.006604Z",
     "shell.execute_reply.started": "2021-07-15T09:17:59.603630Z"
    },
    "papermill": {
     "duration": 2.110978,
     "end_time": "2021-07-15T09:19:10.007844",
     "exception": false,
     "start_time": "2021-07-15T09:19:07.896866",
     "status": "completed"
    },
    "tags": []
   },
   "outputs": [
    {
     "data": {
      "image/png": "[encoded data removed]",
      "text/plain": [
       "<Figure size 1152x360 with 1 Axes>"
      ]
     },
     "metadata": {
      "needs_background": "light"
     },
     "output_type": "display_data"
    }
   ],
   "source": [
    "plt.figure(figsize=(16,5))\n",
    "graph3=sns.barplot(data=Top_5_prod_cat,x='ProductName',y='Quantity',hue='ProductCategory',dodge=False,palette='magma')\n",
    "graph3.set(title='Top 5 Products in each category by quantity sold')\n",
    "plt.xticks(rotation=90)\n",
    "#plt.show()\n",
    "\n",
    "for a in graph3.patches:\n",
    "    graph3.annotate(format(a.get_height(),'1.0f'),\n",
    "                   (a.get_x()+a.get_width()/2,a.get_height()),\n",
    "                   ha=\"center\",va=\"center\",\n",
    "                   xytext=(0,9),\n",
    "                   textcoords='offset points')"
   ]
  },
  {
   "cell_type": "code",
   "execution_count": 18,
   "metadata": {
    "execution": {
     "iopub.execute_input": "2021-07-15T09:19:10.071633Z",
     "iopub.status.busy": "2021-07-15T09:19:10.070571Z",
     "iopub.status.idle": "2021-07-15T09:19:10.486082Z",
     "shell.execute_reply": "2021-07-15T09:19:10.485506Z",
     "shell.execute_reply.started": "2021-07-15T09:18:34.029201Z"
    },
    "papermill": {
     "duration": 0.452131,
     "end_time": "2021-07-15T09:19:10.486223",
     "exception": false,
     "start_time": "2021-07-15T09:19:10.034092",
     "status": "completed"
    },
    "tags": []
   },
   "outputs": [
    {
     "data": {
      "image/png": "[encoded data removed]",
      "text/plain": [
       "<Figure size 864x360 with 1 Axes>"
      ]
     },
     "metadata": {
      "needs_background": "light"
     },
     "output_type": "display_data"
    }
   ],
   "source": [
    "#Distribution of stores amongst states\n",
    "stores_by_city=pd.DataFrame(data.groupby(['PropertyState']).nunique()['PropertyCity'])\n",
    "stores_by_city=stores_by_city.reset_index().sort_values(by='PropertyCity',ascending=False)\n",
    "plt.figure(figsize=(12,5))\n",
    "graph4=sns.barplot(data=stores_by_city,x='PropertyState',y='PropertyCity',color='teal')\n",
    "graph4.set(title='Number of Stores by State')\n",
    "plt.xticks(rotation=90)\n",
    "#plt.show()\n",
    "\n",
    "for a in graph4.patches:\n",
    "    graph4.annotate(format(a.get_height(),'1.0f'),\n",
    "                   (a.get_x()+a.get_width()/2,a.get_height()),\n",
    "                   ha=\"center\",va=\"center\",\n",
    "                   xytext=(0,9),\n",
    "                   textcoords='offset points')\n"
   ]
  },
  {
   "cell_type": "code",
   "execution_count": 19,
   "metadata": {
    "execution": {
     "iopub.execute_input": "2021-07-15T09:19:10.550942Z",
     "iopub.status.busy": "2021-07-15T09:19:10.549829Z",
     "iopub.status.idle": "2021-07-15T09:19:10.562619Z",
     "shell.execute_reply": "2021-07-15T09:19:10.562057Z",
     "shell.execute_reply.started": "2021-07-15T08:33:52.393500Z"
    },
    "papermill": {
     "duration": 0.049529,
     "end_time": "2021-07-15T09:19:10.562783",
     "exception": false,
     "start_time": "2021-07-15T09:19:10.513254",
     "status": "completed"
    },
    "tags": []
   },
   "outputs": [
    {
     "data": {
      "text/html": [
       "<div>\n",
       "<style scoped>\n",
       "    .dataframe tbody tr th:only-of-type {\n",
       "        vertical-align: middle;\n",
       "    }\n",
       "\n",
       "    .dataframe tbody tr th {\n",
       "        vertical-align: top;\n",
       "    }\n",
       "\n",
       "    .dataframe thead th {\n",
       "        text-align: right;\n",
       "    }\n",
       "</style>\n",
       "<table border=\"1\" class=\"dataframe\">\n",
       "  <thead>\n",
       "    <tr style=\"text-align: right;\">\n",
       "      <th></th>\n",
       "      <th>PropertyCity</th>\n",
       "      <th>Total Sales</th>\n",
       "    </tr>\n",
       "  </thead>\n",
       "  <tbody>\n",
       "    <tr>\n",
       "      <th>9</th>\n",
       "      <td>Los Angeles</td>\n",
       "      <td>9956</td>\n",
       "    </tr>\n",
       "    <tr>\n",
       "      <th>18</th>\n",
       "      <td>San Francisco</td>\n",
       "      <td>9260</td>\n",
       "    </tr>\n",
       "    <tr>\n",
       "      <th>8</th>\n",
       "      <td>Las Vegas</td>\n",
       "      <td>8942</td>\n",
       "    </tr>\n",
       "    <tr>\n",
       "      <th>3</th>\n",
       "      <td>Chicago</td>\n",
       "      <td>8085</td>\n",
       "    </tr>\n",
       "    <tr>\n",
       "      <th>15</th>\n",
       "      <td>Phoenix</td>\n",
       "      <td>7848</td>\n",
       "    </tr>\n",
       "  </tbody>\n",
       "</table>\n",
       "</div>"
      ],
      "text/plain": [
       "     PropertyCity  Total Sales\n",
       "9     Los Angeles         9956\n",
       "18  San Francisco         9260\n",
       "8       Las Vegas         8942\n",
       "3         Chicago         8085\n",
       "15        Phoenix         7848"
      ]
     },
     "execution_count": 19,
     "metadata": {},
     "output_type": "execute_result"
    }
   ],
   "source": [
    "#Top 5 properties that registered highest sales\n",
    "highest_sales=pd.DataFrame(data.groupby(['PropertyCity']).sum()['Total Sales'])\n",
    "highest_sales=highest_sales.reset_index().sort_values(by='Total Sales',ascending=False)\n",
    "highest_sales.head(5)"
   ]
  }
 ],
 "metadata": {
  "kernelspec": {
   "display_name": "Python 3",
   "language": "python",
   "name": "python3"
  },
  "language_info": {
   "codemirror_mode": {
    "name": "ipython",
    "version": 3
   },
   "file_extension": ".py",
   "mimetype": "text/x-python",
   "name": "python",
   "nbconvert_exporter": "python",
   "pygments_lexer": "ipython3",
   "version": "3.8.5"
  },
  "papermill": {
   "default_parameters": {},
   "duration": 14.802808,
   "end_time": "2021-07-15T09:19:11.400970",
   "environment_variables": {},
   "exception": null,
   "input_path": "__notebook__.ipynb",
   "output_path": "__notebook__.ipynb",
   "parameters": {},
   "start_time": "2021-07-15T09:18:56.598162",
   "version": "2.3.3"
  }
 },
 "nbformat": 4,
 "nbformat_minor": 5
}
